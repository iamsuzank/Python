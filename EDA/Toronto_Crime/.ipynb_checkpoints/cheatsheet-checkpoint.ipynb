{
 "cells": [
  {
   "cell_type": "markdown",
   "id": "97d19fa2",
   "metadata": {},
   "source": [
    "### FOR NaN Value\n"
   ]
  },
  {
   "cell_type": "raw",
   "id": "2befd9ae",
   "metadata": {},
   "source": [
    "1. data['Mileage'].fillna(value=np.mean(data['Mileage']),inplace=True)\n",
    "2. data['Seats']=data.groupby(['Model','Brand'])['Seats'].apply(lambda x:x.fillna(x.median()))\n",
    "3. salaries_dict = salaries.groupby(\"Experience\")[\"Salary_USD\"].median().to_dict()\n",
    "salaries[\"Salary_USD\"] = salaries[\"Salary_USD\"].fillna(salaries[\"Experience\"].map(salaries_dict))\n",
    "4. df['column_with_missing_values'] = df.groupby('group_column')['column_with_missing_values'].transform(lambda x: x.fillna(x.mean()))\n",
    "5. (data.isna().sum()/len(data))*100 - to calculate the percentage of missing value"
   ]
  },
  {
   "cell_type": "raw",
   "id": "4b648b93",
   "metadata": {},
   "source": [
    "# data[data['PREMISES_TYPE'].str.contains('Comm')]\n",
    "# data.describe(include='all').T\n",
    "# condition='NSA'\n",
    "# data[~data['NEIGHBOURHOOD_158'].str.contains(condition)]\n",
    "sample=data.groupby('REPORT_YEAR').sample(n=20,random_state=122)\n",
    "sample['REPORT_YEAR'].value_counts(normalize=True)\n",
    "\n",
    "# pd.crosstab(data['NEIGHBOURHOOD_158'],data['MCI_CATEGORY'],values=data['REPORT_YEAR'],aggfunc='mean')\n"
   ]
  },
  {
   "cell_type": "code",
   "execution_count": null,
   "id": "9aedf469",
   "metadata": {},
   "outputs": [],
   "source": []
  }
 ],
 "metadata": {
  "kernelspec": {
   "display_name": "Python 3 (ipykernel)",
   "language": "python",
   "name": "python3"
  },
  "language_info": {
   "codemirror_mode": {
    "name": "ipython",
    "version": 3
   },
   "file_extension": ".py",
   "mimetype": "text/x-python",
   "name": "python",
   "nbconvert_exporter": "python",
   "pygments_lexer": "ipython3",
   "version": "3.10.9"
  }
 },
 "nbformat": 4,
 "nbformat_minor": 5
}
