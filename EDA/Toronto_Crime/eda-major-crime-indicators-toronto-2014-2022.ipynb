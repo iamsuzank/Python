{
 "cells": [
  {
   "cell_type": "markdown",
   "id": "18ba1984",
   "metadata": {
    "papermill": {
     "duration": 0.010784,
     "end_time": "2023-10-06T13:54:39.911894",
     "exception": false,
     "start_time": "2023-10-06T13:54:39.901110",
     "status": "completed"
    },
    "tags": []
   },
   "source": [
    "## Data Loading:"
   ]
  },
  {
   "cell_type": "code",
   "execution_count": 1,
   "id": "cbc3ad7d",
   "metadata": {
    "_kg_hide-input": true,
    "execution": {
     "iopub.execute_input": "2023-10-06T13:54:39.934007Z",
     "iopub.status.busy": "2023-10-06T13:54:39.933662Z",
     "iopub.status.idle": "2023-10-06T13:54:41.601624Z",
     "shell.execute_reply": "2023-10-06T13:54:41.600696Z"
    },
    "papermill": {
     "duration": 1.681482,
     "end_time": "2023-10-06T13:54:41.603730",
     "exception": false,
     "start_time": "2023-10-06T13:54:39.922248",
     "status": "completed"
    },
    "tags": []
   },
   "outputs": [
    {
     "name": "stderr",
     "output_type": "stream",
     "text": [
      "/opt/conda/lib/python3.10/site-packages/scipy/__init__.py:146: UserWarning: A NumPy version >=1.16.5 and <1.23.0 is required for this version of SciPy (detected version 1.23.5\n",
      "  warnings.warn(f\"A NumPy version >={np_minversion} and <{np_maxversion}\"\n"
     ]
    }
   ],
   "source": [
    "# libraries\n",
    "import pandas as pd\n",
    "import numpy as np\n",
    "import matplotlib.pyplot as plt\n",
    "import seaborn as sns\n",
    "import warnings\n",
    "# Ignore a specific warning (e.g., a FutureWarning)\n",
    "warnings.filterwarnings('ignore', category=FutureWarning)\n",
    "# Reset warnings to their default behavior\n",
    "warnings.filterwarnings('default')\n",
    "# Ignore all warnings\n",
    "warnings.filterwarnings(\"ignore\")"
   ]
  },
  {
   "cell_type": "markdown",
   "id": "00078910",
   "metadata": {
    "papermill": {
     "duration": 0.010067,
     "end_time": "2023-10-06T13:54:41.624926",
     "exception": false,
     "start_time": "2023-10-06T13:54:41.614859",
     "status": "completed"
    },
    "tags": []
   },
   "source": [
    "**You can DOWNLOAD this dataset on this link ->** [Toronto Police Service](https://data.torontopolice.on.ca/datasets/TorontoPS::major-crime-indicators-open-data/about)."
   ]
  },
  {
   "cell_type": "markdown",
   "id": "9c6524da",
   "metadata": {
    "papermill": {
     "duration": 0.010276,
     "end_time": "2023-10-06T13:54:41.646624",
     "exception": false,
     "start_time": "2023-10-06T13:54:41.636348",
     "status": "completed"
    },
    "tags": []
   },
   "source": [
    "### Data Sampling:"
   ]
  },
  {
   "cell_type": "code",
   "execution_count": 2,
   "id": "b40007e6",
   "metadata": {
    "_kg_hide-input": true,
    "execution": {
     "iopub.execute_input": "2023-10-06T13:54:41.669215Z",
     "iopub.status.busy": "2023-10-06T13:54:41.668087Z",
     "iopub.status.idle": "2023-10-06T13:54:44.121834Z",
     "shell.execute_reply": "2023-10-06T13:54:44.120848Z"
    },
    "papermill": {
     "duration": 2.468157,
     "end_time": "2023-10-06T13:54:44.124862",
     "exception": false,
     "start_time": "2023-10-06T13:54:41.656705",
     "status": "completed"
    },
    "tags": []
   },
   "outputs": [
    {
     "data": {
      "text/html": [
       "<div>\n",
       "<style scoped>\n",
       "    .dataframe tbody tr th:only-of-type {\n",
       "        vertical-align: middle;\n",
       "    }\n",
       "\n",
       "    .dataframe tbody tr th {\n",
       "        vertical-align: top;\n",
       "    }\n",
       "\n",
       "    .dataframe thead th {\n",
       "        text-align: right;\n",
       "    }\n",
       "</style>\n",
       "<table border=\"1\" class=\"dataframe\">\n",
       "  <thead>\n",
       "    <tr style=\"text-align: right;\">\n",
       "      <th></th>\n",
       "      <th>X</th>\n",
       "      <th>Y</th>\n",
       "      <th>OBJECTID</th>\n",
       "      <th>EVENT_UNIQUE_ID</th>\n",
       "      <th>REPORT_DATE</th>\n",
       "      <th>OCC_DATE</th>\n",
       "      <th>REPORT_YEAR</th>\n",
       "      <th>REPORT_MONTH</th>\n",
       "      <th>REPORT_DAY</th>\n",
       "      <th>REPORT_DOY</th>\n",
       "      <th>...</th>\n",
       "      <th>UCR_CODE</th>\n",
       "      <th>UCR_EXT</th>\n",
       "      <th>OFFENCE</th>\n",
       "      <th>MCI_CATEGORY</th>\n",
       "      <th>HOOD_158</th>\n",
       "      <th>NEIGHBOURHOOD_158</th>\n",
       "      <th>HOOD_140</th>\n",
       "      <th>NEIGHBOURHOOD_140</th>\n",
       "      <th>LONG_WGS84</th>\n",
       "      <th>LAT_WGS84</th>\n",
       "    </tr>\n",
       "  </thead>\n",
       "  <tbody>\n",
       "    <tr>\n",
       "      <th>129748</th>\n",
       "      <td>-79.514755</td>\n",
       "      <td>43.609206</td>\n",
       "      <td>129749</td>\n",
       "      <td>GO-20173015510</td>\n",
       "      <td>2017/11/17 05:00:00+00</td>\n",
       "      <td>2017/11/17 05:00:00+00</td>\n",
       "      <td>2017</td>\n",
       "      <td>November</td>\n",
       "      <td>17</td>\n",
       "      <td>321</td>\n",
       "      <td>...</td>\n",
       "      <td>1430</td>\n",
       "      <td>100</td>\n",
       "      <td>Assault</td>\n",
       "      <td>Assault</td>\n",
       "      <td>160</td>\n",
       "      <td>Mimico-Queensway</td>\n",
       "      <td>17</td>\n",
       "      <td>Mimico (includes Humber Bay Shores) (17)</td>\n",
       "      <td>-79.514755</td>\n",
       "      <td>43.609206</td>\n",
       "    </tr>\n",
       "    <tr>\n",
       "      <th>240788</th>\n",
       "      <td>-79.376369</td>\n",
       "      <td>43.652253</td>\n",
       "      <td>240789</td>\n",
       "      <td>GO-20202024296</td>\n",
       "      <td>2020/10/25 04:00:00+00</td>\n",
       "      <td>2020/10/16 04:00:00+00</td>\n",
       "      <td>2020</td>\n",
       "      <td>October</td>\n",
       "      <td>25</td>\n",
       "      <td>299</td>\n",
       "      <td>...</td>\n",
       "      <td>2132</td>\n",
       "      <td>200</td>\n",
       "      <td>Theft From Motor Vehicle Over</td>\n",
       "      <td>Theft Over</td>\n",
       "      <td>168</td>\n",
       "      <td>Downtown Yonge East</td>\n",
       "      <td>75</td>\n",
       "      <td>Church-Yonge Corridor (75)</td>\n",
       "      <td>-79.376369</td>\n",
       "      <td>43.652253</td>\n",
       "    </tr>\n",
       "    <tr>\n",
       "      <th>103860</th>\n",
       "      <td>-79.314146</td>\n",
       "      <td>43.787421</td>\n",
       "      <td>103861</td>\n",
       "      <td>GO-2017359177</td>\n",
       "      <td>2017/02/26 05:00:00+00</td>\n",
       "      <td>2017/02/25 05:00:00+00</td>\n",
       "      <td>2017</td>\n",
       "      <td>February</td>\n",
       "      <td>26</td>\n",
       "      <td>57</td>\n",
       "      <td>...</td>\n",
       "      <td>2120</td>\n",
       "      <td>200</td>\n",
       "      <td>B&amp;E</td>\n",
       "      <td>Break and Enter</td>\n",
       "      <td>147</td>\n",
       "      <td>L'Amoreaux West</td>\n",
       "      <td>117</td>\n",
       "      <td>L'Amoreaux (117)</td>\n",
       "      <td>-79.314146</td>\n",
       "      <td>43.787421</td>\n",
       "    </tr>\n",
       "  </tbody>\n",
       "</table>\n",
       "<p>3 rows × 31 columns</p>\n",
       "</div>"
      ],
      "text/plain": [
       "                X          Y  OBJECTID EVENT_UNIQUE_ID  \\\n",
       "129748 -79.514755  43.609206    129749  GO-20173015510   \n",
       "240788 -79.376369  43.652253    240789  GO-20202024296   \n",
       "103860 -79.314146  43.787421    103861   GO-2017359177   \n",
       "\n",
       "                   REPORT_DATE                OCC_DATE  REPORT_YEAR  \\\n",
       "129748  2017/11/17 05:00:00+00  2017/11/17 05:00:00+00         2017   \n",
       "240788  2020/10/25 04:00:00+00  2020/10/16 04:00:00+00         2020   \n",
       "103860  2017/02/26 05:00:00+00  2017/02/25 05:00:00+00         2017   \n",
       "\n",
       "       REPORT_MONTH  REPORT_DAY  REPORT_DOY  ... UCR_CODE  UCR_EXT  \\\n",
       "129748     November          17         321  ...     1430      100   \n",
       "240788      October          25         299  ...     2132      200   \n",
       "103860     February          26          57  ...     2120      200   \n",
       "\n",
       "                              OFFENCE     MCI_CATEGORY  HOOD_158  \\\n",
       "129748                        Assault          Assault       160   \n",
       "240788  Theft From Motor Vehicle Over       Theft Over       168   \n",
       "103860                            B&E  Break and Enter       147   \n",
       "\n",
       "          NEIGHBOURHOOD_158 HOOD_140  \\\n",
       "129748     Mimico-Queensway       17   \n",
       "240788  Downtown Yonge East       75   \n",
       "103860      L'Amoreaux West      117   \n",
       "\n",
       "                               NEIGHBOURHOOD_140 LONG_WGS84  LAT_WGS84  \n",
       "129748  Mimico (includes Humber Bay Shores) (17) -79.514755  43.609206  \n",
       "240788                Church-Yonge Corridor (75) -79.376369  43.652253  \n",
       "103860                          L'Amoreaux (117) -79.314146  43.787421  \n",
       "\n",
       "[3 rows x 31 columns]"
      ]
     },
     "execution_count": 2,
     "metadata": {},
     "output_type": "execute_result"
    }
   ],
   "source": [
    "dataset=pd.read_csv('/kaggle/input/major-crime-indicators-open-data/Major_Crime_Indicators_Open_Data.csv')\n",
    "# DOWNLOAD LINK:\n",
    "#    https://data.torontopolice.on.ca/datasets/TorontoPS::major-crime-indicators-open-data/about\n",
    "#please read license from the link before using it\n",
    "# keeping original data in dataset and coping data in dataframe data\n",
    "data=dataset[:]\n",
    "data.sample(n=3)"
   ]
  },
  {
   "cell_type": "markdown",
   "id": "9bdfe507",
   "metadata": {
    "papermill": {
     "duration": 0.011075,
     "end_time": "2023-10-06T13:54:44.148830",
     "exception": false,
     "start_time": "2023-10-06T13:54:44.137755",
     "status": "completed"
    },
    "tags": []
   },
   "source": [
    "## Data Cleaning:"
   ]
  },
  {
   "cell_type": "markdown",
   "id": "13c145cf",
   "metadata": {
    "papermill": {
     "duration": 0.010218,
     "end_time": "2023-10-06T13:54:44.169284",
     "exception": false,
     "start_time": "2023-10-06T13:54:44.159066",
     "status": "completed"
    },
    "tags": []
   },
   "source": [
    "Information about DataFrame:"
   ]
  },
  {
   "cell_type": "code",
   "execution_count": 3,
   "id": "8bde4732",
   "metadata": {
    "_kg_hide-input": true,
    "execution": {
     "iopub.execute_input": "2023-10-06T13:54:44.191890Z",
     "iopub.status.busy": "2023-10-06T13:54:44.191567Z",
     "iopub.status.idle": "2023-10-06T13:54:44.616373Z",
     "shell.execute_reply": "2023-10-06T13:54:44.615504Z"
    },
    "papermill": {
     "duration": 0.439084,
     "end_time": "2023-10-06T13:54:44.618578",
     "exception": false,
     "start_time": "2023-10-06T13:54:44.179494",
     "status": "completed"
    },
    "tags": []
   },
   "outputs": [
    {
     "name": "stdout",
     "output_type": "stream",
     "text": [
      "<class 'pandas.core.frame.DataFrame'>\n",
      "RangeIndex: 323296 entries, 0 to 323295\n",
      "Data columns (total 31 columns):\n",
      " #   Column             Non-Null Count   Dtype  \n",
      "---  ------             --------------   -----  \n",
      " 0   X                  323296 non-null  float64\n",
      " 1   Y                  323296 non-null  float64\n",
      " 2   OBJECTID           323296 non-null  int64  \n",
      " 3   EVENT_UNIQUE_ID    323296 non-null  object \n",
      " 4   REPORT_DATE        323296 non-null  object \n",
      " 5   OCC_DATE           323296 non-null  object \n",
      " 6   REPORT_YEAR        323296 non-null  int64  \n",
      " 7   REPORT_MONTH       323296 non-null  object \n",
      " 8   REPORT_DAY         323296 non-null  int64  \n",
      " 9   REPORT_DOY         323296 non-null  int64  \n",
      " 10  REPORT_DOW         323296 non-null  object \n",
      " 11  REPORT_HOUR        323296 non-null  int64  \n",
      " 12  OCC_YEAR           323191 non-null  float64\n",
      " 13  OCC_MONTH          323191 non-null  object \n",
      " 14  OCC_DAY            323191 non-null  float64\n",
      " 15  OCC_DOY            323191 non-null  float64\n",
      " 16  OCC_DOW            323191 non-null  object \n",
      " 17  OCC_HOUR           323296 non-null  int64  \n",
      " 18  DIVISION           323296 non-null  object \n",
      " 19  LOCATION_TYPE      323296 non-null  object \n",
      " 20  PREMISES_TYPE      323296 non-null  object \n",
      " 21  UCR_CODE           323296 non-null  int64  \n",
      " 22  UCR_EXT            323296 non-null  int64  \n",
      " 23  OFFENCE            323296 non-null  object \n",
      " 24  MCI_CATEGORY       323296 non-null  object \n",
      " 25  HOOD_158           323296 non-null  object \n",
      " 26  NEIGHBOURHOOD_158  323296 non-null  object \n",
      " 27  HOOD_140           323296 non-null  object \n",
      " 28  NEIGHBOURHOOD_140  323296 non-null  object \n",
      " 29  LONG_WGS84         323296 non-null  float64\n",
      " 30  LAT_WGS84          323296 non-null  float64\n",
      "dtypes: float64(7), int64(8), object(16)\n",
      "memory usage: 76.5+ MB\n"
     ]
    }
   ],
   "source": [
    "data.info()"
   ]
  },
  {
   "cell_type": "code",
   "execution_count": 4,
   "id": "5768d8d3",
   "metadata": {
    "_kg_hide-input": true,
    "execution": {
     "iopub.execute_input": "2023-10-06T13:54:44.645991Z",
     "iopub.status.busy": "2023-10-06T13:54:44.644966Z",
     "iopub.status.idle": "2023-10-06T13:54:44.816310Z",
     "shell.execute_reply": "2023-10-06T13:54:44.815263Z"
    },
    "papermill": {
     "duration": 0.189973,
     "end_time": "2023-10-06T13:54:44.819268",
     "exception": false,
     "start_time": "2023-10-06T13:54:44.629295",
     "status": "completed"
    },
    "tags": []
   },
   "outputs": [],
   "source": [
    "# changing character values into integer in a column that has integer type data \n",
    "data['HOOD_158'] = pd.to_numeric(data['HOOD_158'], errors='coerce')\n",
    "# changing datatypes from float to int\n",
    "data['OCC_YEAR']=pd.to_numeric(data['OCC_YEAR'], errors='coerce')\n",
    "data['OCC_DAY']=pd.to_numeric(data['OCC_DAY'], errors='coerce')\n",
    "data['HOOD_158']=pd.to_numeric(data['HOOD_158'], errors='coerce')"
   ]
  },
  {
   "cell_type": "markdown",
   "id": "1f75389d",
   "metadata": {
    "papermill": {
     "duration": 0.063042,
     "end_time": "2023-10-06T13:54:44.906249",
     "exception": false,
     "start_time": "2023-10-06T13:54:44.843207",
     "status": "completed"
    },
    "tags": []
   },
   "source": [
    "### Data Filtering:"
   ]
  },
  {
   "cell_type": "code",
   "execution_count": 5,
   "id": "9f20f98f",
   "metadata": {
    "_kg_hide-input": true,
    "execution": {
     "iopub.execute_input": "2023-10-06T13:54:44.928651Z",
     "iopub.status.busy": "2023-10-06T13:54:44.928354Z",
     "iopub.status.idle": "2023-10-06T13:54:44.975988Z",
     "shell.execute_reply": "2023-10-06T13:54:44.975006Z"
    },
    "papermill": {
     "duration": 0.061249,
     "end_time": "2023-10-06T13:54:44.978131",
     "exception": false,
     "start_time": "2023-10-06T13:54:44.916882",
     "status": "completed"
    },
    "tags": []
   },
   "outputs": [],
   "source": [
    "# dropping columns we dont need for our analysis\n",
    "data = data.drop(['X', 'Y','OBJECTID','EVENT_UNIQUE_ID','REPORT_DOY','OCC_DOY','UCR_CODE',\n",
    "       'UCR_EXT', 'HOOD_140', 'NEIGHBOURHOOD_140','OCC_DATE','LOCATION_TYPE'],axis=1)"
   ]
  },
  {
   "cell_type": "markdown",
   "id": "d4bed53e",
   "metadata": {
    "papermill": {
     "duration": 0.010323,
     "end_time": "2023-10-06T13:54:44.999571",
     "exception": false,
     "start_time": "2023-10-06T13:54:44.989248",
     "status": "completed"
    },
    "tags": []
   },
   "source": [
    "### Data Duplication:"
   ]
  },
  {
   "cell_type": "markdown",
   "id": "b8665def",
   "metadata": {
    "papermill": {
     "duration": 0.011743,
     "end_time": "2023-10-06T13:54:45.022059",
     "exception": false,
     "start_time": "2023-10-06T13:54:45.010316",
     "status": "completed"
    },
    "tags": []
   },
   "source": [
    "Finding Duplicate Records:"
   ]
  },
  {
   "cell_type": "code",
   "execution_count": 6,
   "id": "697b7a2e",
   "metadata": {
    "_kg_hide-input": true,
    "execution": {
     "iopub.execute_input": "2023-10-06T13:54:45.044883Z",
     "iopub.status.busy": "2023-10-06T13:54:45.044580Z",
     "iopub.status.idle": "2023-10-06T13:54:45.363186Z",
     "shell.execute_reply": "2023-10-06T13:54:45.362210Z"
    },
    "papermill": {
     "duration": 0.331998,
     "end_time": "2023-10-06T13:54:45.365075",
     "exception": false,
     "start_time": "2023-10-06T13:54:45.033077",
     "status": "completed"
    },
    "tags": []
   },
   "outputs": [
    {
     "data": {
      "text/plain": [
       "24207"
      ]
     },
     "execution_count": 6,
     "metadata": {},
     "output_type": "execute_result"
    }
   ],
   "source": [
    "# finding the total duplicates rows\n",
    "data.duplicated().sum()"
   ]
  },
  {
   "cell_type": "markdown",
   "id": "08db4732",
   "metadata": {
    "papermill": {
     "duration": 0.010525,
     "end_time": "2023-10-06T13:54:45.386596",
     "exception": false,
     "start_time": "2023-10-06T13:54:45.376071",
     "status": "completed"
    },
    "tags": []
   },
   "source": [
    "- Total duplicates data : 24207 \n",
    "- We will remove the 24207 duplicated data from our dataframe."
   ]
  },
  {
   "cell_type": "markdown",
   "id": "b891ceef",
   "metadata": {
    "papermill": {
     "duration": 0.010326,
     "end_time": "2023-10-06T13:54:45.407512",
     "exception": false,
     "start_time": "2023-10-06T13:54:45.397186",
     "status": "completed"
    },
    "tags": []
   },
   "source": [
    "Size of Dataframe after Removing the duplicates records:"
   ]
  },
  {
   "cell_type": "code",
   "execution_count": 7,
   "id": "ded51a05",
   "metadata": {
    "_kg_hide-input": true,
    "execution": {
     "iopub.execute_input": "2023-10-06T13:54:45.429829Z",
     "iopub.status.busy": "2023-10-06T13:54:45.429544Z",
     "iopub.status.idle": "2023-10-06T13:54:45.760262Z",
     "shell.execute_reply": "2023-10-06T13:54:45.759325Z"
    },
    "papermill": {
     "duration": 0.343955,
     "end_time": "2023-10-06T13:54:45.762183",
     "exception": false,
     "start_time": "2023-10-06T13:54:45.418228",
     "status": "completed"
    },
    "tags": []
   },
   "outputs": [
    {
     "data": {
      "text/plain": [
       "299089"
      ]
     },
     "execution_count": 7,
     "metadata": {},
     "output_type": "execute_result"
    }
   ],
   "source": [
    "# removing the duplicates rows\n",
    "data = data.drop_duplicates()\n",
    "data.shape[0]"
   ]
  },
  {
   "cell_type": "markdown",
   "id": "73a8d112",
   "metadata": {
    "papermill": {
     "duration": 0.010786,
     "end_time": "2023-10-06T13:54:45.784172",
     "exception": false,
     "start_time": "2023-10-06T13:54:45.773386",
     "status": "completed"
    },
    "tags": []
   },
   "source": [
    "### Data Imputation:"
   ]
  },
  {
   "cell_type": "markdown",
   "id": "d9a41219",
   "metadata": {
    "papermill": {
     "duration": 0.010512,
     "end_time": "2023-10-06T13:54:45.805323",
     "exception": false,
     "start_time": "2023-10-06T13:54:45.794811",
     "status": "completed"
    },
    "tags": []
   },
   "source": [
    "Calculating the Percentage of missing data in each Column."
   ]
  },
  {
   "cell_type": "code",
   "execution_count": 8,
   "id": "e0aee4f3",
   "metadata": {
    "_kg_hide-input": true,
    "execution": {
     "iopub.execute_input": "2023-10-06T13:54:45.828652Z",
     "iopub.status.busy": "2023-10-06T13:54:45.827858Z",
     "iopub.status.idle": "2023-10-06T13:54:45.951395Z",
     "shell.execute_reply": "2023-10-06T13:54:45.950343Z"
    },
    "papermill": {
     "duration": 0.136903,
     "end_time": "2023-10-06T13:54:45.953376",
     "exception": false,
     "start_time": "2023-10-06T13:54:45.816473",
     "status": "completed"
    },
    "tags": []
   },
   "outputs": [
    {
     "data": {
      "text/plain": [
       "REPORT_DATE          0.000000\n",
       "REPORT_YEAR          0.000000\n",
       "REPORT_MONTH         0.000000\n",
       "REPORT_DAY           0.000000\n",
       "REPORT_DOW           0.000000\n",
       "REPORT_HOUR          0.000000\n",
       "OCC_YEAR             0.031429\n",
       "OCC_MONTH            0.031429\n",
       "OCC_DAY              0.031429\n",
       "OCC_DOW              0.031429\n",
       "OCC_HOUR             0.000000\n",
       "DIVISION             0.000000\n",
       "PREMISES_TYPE        0.000000\n",
       "OFFENCE              0.000000\n",
       "MCI_CATEGORY         0.000000\n",
       "HOOD_158             1.618582\n",
       "NEIGHBOURHOOD_158    0.000000\n",
       "LONG_WGS84           0.000000\n",
       "LAT_WGS84            0.000000\n",
       "dtype: float64"
      ]
     },
     "execution_count": 8,
     "metadata": {},
     "output_type": "execute_result"
    }
   ],
   "source": [
    "# finding the % of missing data on each column\n",
    "(data.isna().sum()/len(data))*100"
   ]
  },
  {
   "cell_type": "markdown",
   "id": "d9dde623",
   "metadata": {
    "papermill": {
     "duration": 0.01064,
     "end_time": "2023-10-06T13:54:45.975601",
     "exception": false,
     "start_time": "2023-10-06T13:54:45.964961",
     "status": "completed"
    },
    "tags": []
   },
   "source": [
    "Finding Columns that has missing values less than **threshold values(5 % of total value)**"
   ]
  },
  {
   "cell_type": "code",
   "execution_count": 9,
   "id": "a24c141f",
   "metadata": {
    "_kg_hide-input": true,
    "execution": {
     "iopub.execute_input": "2023-10-06T13:54:45.998875Z",
     "iopub.status.busy": "2023-10-06T13:54:45.998369Z",
     "iopub.status.idle": "2023-10-06T13:54:46.233198Z",
     "shell.execute_reply": "2023-10-06T13:54:46.232290Z"
    },
    "papermill": {
     "duration": 0.24864,
     "end_time": "2023-10-06T13:54:46.234928",
     "exception": false,
     "start_time": "2023-10-06T13:54:45.986288",
     "status": "completed"
    },
    "tags": []
   },
   "outputs": [
    {
     "data": {
      "text/plain": [
       "Index(['OCC_YEAR', 'OCC_MONTH', 'OCC_DAY', 'OCC_DOW', 'HOOD_158'], dtype='object')"
      ]
     },
     "execution_count": 9,
     "metadata": {},
     "output_type": "execute_result"
    }
   ],
   "source": [
    "# finding columns which contain empty values less than threshold value (5%)\n",
    "threshold=len(data)*0.05\n",
    "cols_drop=data.columns[ (data.isna().sum()>0 ) & (data.isna().sum()<=threshold)]\n",
    "cols_drop"
   ]
  },
  {
   "cell_type": "markdown",
   "id": "9e61d7f9",
   "metadata": {
    "papermill": {
     "duration": 0.010924,
     "end_time": "2023-10-06T13:54:46.259259",
     "exception": false,
     "start_time": "2023-10-06T13:54:46.248335",
     "status": "completed"
    },
    "tags": []
   },
   "source": [
    "- Column 'OCC_YEAR', 'OCC_MONTH', 'OCC_DAY', 'OCC_DOW', 'HOOD_158' has missing values which are less than the threshold value(5% of total value). So instead of filling these missing value, we will drop these records."
   ]
  },
  {
   "cell_type": "code",
   "execution_count": 10,
   "id": "4f05cb31",
   "metadata": {
    "_kg_hide-input": true,
    "execution": {
     "iopub.execute_input": "2023-10-06T13:54:46.282353Z",
     "iopub.status.busy": "2023-10-06T13:54:46.281498Z",
     "iopub.status.idle": "2023-10-06T13:54:46.361960Z",
     "shell.execute_reply": "2023-10-06T13:54:46.361041Z"
    },
    "papermill": {
     "duration": 0.094131,
     "end_time": "2023-10-06T13:54:46.364036",
     "exception": false,
     "start_time": "2023-10-06T13:54:46.269905",
     "status": "completed"
    },
    "tags": []
   },
   "outputs": [],
   "source": [
    "# removig the rows with NaN value if they are less than 5 %\n",
    "data=data.dropna(subset=cols_drop)"
   ]
  },
  {
   "cell_type": "markdown",
   "id": "ec4dcdd0",
   "metadata": {
    "papermill": {
     "duration": 0.010787,
     "end_time": "2023-10-06T13:54:46.386116",
     "exception": false,
     "start_time": "2023-10-06T13:54:46.375329",
     "status": "completed"
    },
    "tags": []
   },
   "source": [
    "Size of Dataframe after Removing the NaN values:"
   ]
  },
  {
   "cell_type": "code",
   "execution_count": 11,
   "id": "be689b63",
   "metadata": {
    "_kg_hide-input": true,
    "execution": {
     "iopub.execute_input": "2023-10-06T13:54:46.409183Z",
     "iopub.status.busy": "2023-10-06T13:54:46.408646Z",
     "iopub.status.idle": "2023-10-06T13:54:46.414395Z",
     "shell.execute_reply": "2023-10-06T13:54:46.413509Z"
    },
    "papermill": {
     "duration": 0.019174,
     "end_time": "2023-10-06T13:54:46.416282",
     "exception": false,
     "start_time": "2023-10-06T13:54:46.397108",
     "status": "completed"
    },
    "tags": []
   },
   "outputs": [
    {
     "data": {
      "text/plain": [
       "294165"
      ]
     },
     "execution_count": 11,
     "metadata": {},
     "output_type": "execute_result"
    }
   ],
   "source": [
    "# total records after dropping duplicates and NaN values\n",
    "data.shape[0]"
   ]
  },
  {
   "cell_type": "markdown",
   "id": "03a694c3",
   "metadata": {
    "papermill": {
     "duration": 0.011384,
     "end_time": "2023-10-06T13:54:46.438787",
     "exception": false,
     "start_time": "2023-10-06T13:54:46.427403",
     "status": "completed"
    },
    "tags": []
   },
   "source": [
    "294165 : Final records in our datset after cleaning the dataset."
   ]
  },
  {
   "cell_type": "code",
   "execution_count": 12,
   "id": "9466fa74",
   "metadata": {
    "_kg_hide-input": true,
    "execution": {
     "iopub.execute_input": "2023-10-06T13:54:46.462168Z",
     "iopub.status.busy": "2023-10-06T13:54:46.461448Z",
     "iopub.status.idle": "2023-10-06T13:54:46.580207Z",
     "shell.execute_reply": "2023-10-06T13:54:46.579363Z"
    },
    "papermill": {
     "duration": 0.132171,
     "end_time": "2023-10-06T13:54:46.581885",
     "exception": false,
     "start_time": "2023-10-06T13:54:46.449714",
     "status": "completed"
    },
    "tags": []
   },
   "outputs": [
    {
     "data": {
      "text/plain": [
       "REPORT_DATE          0\n",
       "REPORT_YEAR          0\n",
       "REPORT_MONTH         0\n",
       "REPORT_DAY           0\n",
       "REPORT_DOW           0\n",
       "REPORT_HOUR          0\n",
       "OCC_YEAR             0\n",
       "OCC_MONTH            0\n",
       "OCC_DAY              0\n",
       "OCC_DOW              0\n",
       "OCC_HOUR             0\n",
       "DIVISION             0\n",
       "PREMISES_TYPE        0\n",
       "OFFENCE              0\n",
       "MCI_CATEGORY         0\n",
       "HOOD_158             0\n",
       "NEIGHBOURHOOD_158    0\n",
       "LONG_WGS84           0\n",
       "LAT_WGS84            0\n",
       "dtype: int64"
      ]
     },
     "execution_count": 12,
     "metadata": {},
     "output_type": "execute_result"
    }
   ],
   "source": [
    "# again checking for Nan values\n",
    "data.isna().sum()"
   ]
  },
  {
   "cell_type": "markdown",
   "id": "b1b87281",
   "metadata": {
    "papermill": {
     "duration": 0.010862,
     "end_time": "2023-10-06T13:54:46.603425",
     "exception": false,
     "start_time": "2023-10-06T13:54:46.592563",
     "status": "completed"
    },
    "tags": []
   },
   "source": [
    "- Now in all the columns there are no duplicates value and missing values. Hence we can proceed the data analysis."
   ]
  },
  {
   "cell_type": "markdown",
   "id": "0f689a7d",
   "metadata": {
    "papermill": {
     "duration": 0.010864,
     "end_time": "2023-10-06T13:54:46.624994",
     "exception": false,
     "start_time": "2023-10-06T13:54:46.614130",
     "status": "completed"
    },
    "tags": []
   },
   "source": [
    "## Feature Engineering:"
   ]
  },
  {
   "cell_type": "markdown",
   "id": "e810ede4",
   "metadata": {
    "papermill": {
     "duration": 0.010879,
     "end_time": "2023-10-06T13:54:46.647019",
     "exception": false,
     "start_time": "2023-10-06T13:54:46.636140",
     "status": "completed"
    },
    "tags": []
   },
   "source": [
    "Deriving New Columns - Season : **Spring, Summer, Fall, Winter**"
   ]
  },
  {
   "cell_type": "code",
   "execution_count": 13,
   "id": "1c8b3721",
   "metadata": {
    "_kg_hide-input": true,
    "execution": {
     "iopub.execute_input": "2023-10-06T13:54:46.670051Z",
     "iopub.status.busy": "2023-10-06T13:54:46.669790Z",
     "iopub.status.idle": "2023-10-06T13:54:46.840031Z",
     "shell.execute_reply": "2023-10-06T13:54:46.839079Z"
    },
    "papermill": {
     "duration": 0.183681,
     "end_time": "2023-10-06T13:54:46.841757",
     "exception": false,
     "start_time": "2023-10-06T13:54:46.658076",
     "status": "completed"
    },
    "tags": []
   },
   "outputs": [
    {
     "data": {
      "text/html": [
       "<div>\n",
       "<style scoped>\n",
       "    .dataframe tbody tr th:only-of-type {\n",
       "        vertical-align: middle;\n",
       "    }\n",
       "\n",
       "    .dataframe tbody tr th {\n",
       "        vertical-align: top;\n",
       "    }\n",
       "\n",
       "    .dataframe thead th {\n",
       "        text-align: right;\n",
       "    }\n",
       "</style>\n",
       "<table border=\"1\" class=\"dataframe\">\n",
       "  <thead>\n",
       "    <tr style=\"text-align: right;\">\n",
       "      <th></th>\n",
       "      <th>REPORT_DATE</th>\n",
       "      <th>REPORT_YEAR</th>\n",
       "      <th>REPORT_MONTH</th>\n",
       "      <th>REPORT_DAY</th>\n",
       "      <th>REPORT_DOW</th>\n",
       "      <th>REPORT_HOUR</th>\n",
       "      <th>OCC_YEAR</th>\n",
       "      <th>OCC_MONTH</th>\n",
       "      <th>OCC_DAY</th>\n",
       "      <th>OCC_DOW</th>\n",
       "      <th>OCC_HOUR</th>\n",
       "      <th>DIVISION</th>\n",
       "      <th>PREMISES_TYPE</th>\n",
       "      <th>OFFENCE</th>\n",
       "      <th>MCI_CATEGORY</th>\n",
       "      <th>HOOD_158</th>\n",
       "      <th>NEIGHBOURHOOD_158</th>\n",
       "      <th>LONG_WGS84</th>\n",
       "      <th>LAT_WGS84</th>\n",
       "      <th>season</th>\n",
       "    </tr>\n",
       "  </thead>\n",
       "  <tbody>\n",
       "    <tr>\n",
       "      <th>312000</th>\n",
       "      <td>2022/09/30 04:00:00+00</td>\n",
       "      <td>2022</td>\n",
       "      <td>September</td>\n",
       "      <td>30</td>\n",
       "      <td>Friday</td>\n",
       "      <td>19</td>\n",
       "      <td>2022.0</td>\n",
       "      <td>September</td>\n",
       "      <td>30.0</td>\n",
       "      <td>Friday</td>\n",
       "      <td>4</td>\n",
       "      <td>D33</td>\n",
       "      <td>Outside</td>\n",
       "      <td>Theft Of Motor Vehicle</td>\n",
       "      <td>Auto Theft</td>\n",
       "      <td>42.0</td>\n",
       "      <td>Banbury-Don Mills</td>\n",
       "      <td>-79.326905</td>\n",
       "      <td>43.723973</td>\n",
       "      <td>Fall</td>\n",
       "    </tr>\n",
       "    <tr>\n",
       "      <th>148533</th>\n",
       "      <td>2018/05/27 04:00:00+00</td>\n",
       "      <td>2018</td>\n",
       "      <td>May</td>\n",
       "      <td>27</td>\n",
       "      <td>Sunday</td>\n",
       "      <td>21</td>\n",
       "      <td>2018.0</td>\n",
       "      <td>May</td>\n",
       "      <td>27.0</td>\n",
       "      <td>Sunday</td>\n",
       "      <td>21</td>\n",
       "      <td>D23</td>\n",
       "      <td>Outside</td>\n",
       "      <td>Robbery - Delivery Person</td>\n",
       "      <td>Robbery</td>\n",
       "      <td>1.0</td>\n",
       "      <td>West Humber-Clairville</td>\n",
       "      <td>-79.595495</td>\n",
       "      <td>43.737508</td>\n",
       "      <td>Spring</td>\n",
       "    </tr>\n",
       "    <tr>\n",
       "      <th>154571</th>\n",
       "      <td>2018/07/25 04:00:00+00</td>\n",
       "      <td>2018</td>\n",
       "      <td>July</td>\n",
       "      <td>25</td>\n",
       "      <td>Wednesday</td>\n",
       "      <td>18</td>\n",
       "      <td>2018.0</td>\n",
       "      <td>July</td>\n",
       "      <td>23.0</td>\n",
       "      <td>Monday</td>\n",
       "      <td>12</td>\n",
       "      <td>D43</td>\n",
       "      <td>Other</td>\n",
       "      <td>Assault With Weapon</td>\n",
       "      <td>Assault</td>\n",
       "      <td>136.0</td>\n",
       "      <td>West Hill</td>\n",
       "      <td>-79.179568</td>\n",
       "      <td>43.764799</td>\n",
       "      <td>Summer</td>\n",
       "    </tr>\n",
       "    <tr>\n",
       "      <th>281592</th>\n",
       "      <td>2021/12/30 05:00:00+00</td>\n",
       "      <td>2021</td>\n",
       "      <td>December</td>\n",
       "      <td>30</td>\n",
       "      <td>Thursday</td>\n",
       "      <td>11</td>\n",
       "      <td>2021.0</td>\n",
       "      <td>December</td>\n",
       "      <td>29.0</td>\n",
       "      <td>Wednesday</td>\n",
       "      <td>15</td>\n",
       "      <td>D32</td>\n",
       "      <td>House</td>\n",
       "      <td>Theft Of Motor Vehicle</td>\n",
       "      <td>Auto Theft</td>\n",
       "      <td>38.0</td>\n",
       "      <td>Lansing-Westgate</td>\n",
       "      <td>-79.433453</td>\n",
       "      <td>43.744910</td>\n",
       "      <td>Winter</td>\n",
       "    </tr>\n",
       "  </tbody>\n",
       "</table>\n",
       "</div>"
      ],
      "text/plain": [
       "                   REPORT_DATE  REPORT_YEAR REPORT_MONTH  REPORT_DAY  \\\n",
       "312000  2022/09/30 04:00:00+00         2022    September          30   \n",
       "148533  2018/05/27 04:00:00+00         2018          May          27   \n",
       "154571  2018/07/25 04:00:00+00         2018         July          25   \n",
       "281592  2021/12/30 05:00:00+00         2021     December          30   \n",
       "\n",
       "        REPORT_DOW  REPORT_HOUR  OCC_YEAR  OCC_MONTH  OCC_DAY     OCC_DOW  \\\n",
       "312000  Friday               19    2022.0  September     30.0  Friday       \n",
       "148533  Sunday               21    2018.0        May     27.0  Sunday       \n",
       "154571  Wednesday            18    2018.0       July     23.0  Monday       \n",
       "281592  Thursday             11    2021.0   December     29.0  Wednesday    \n",
       "\n",
       "        OCC_HOUR DIVISION PREMISES_TYPE                    OFFENCE  \\\n",
       "312000         4      D33       Outside     Theft Of Motor Vehicle   \n",
       "148533        21      D23       Outside  Robbery - Delivery Person   \n",
       "154571        12      D43         Other        Assault With Weapon   \n",
       "281592        15      D32         House     Theft Of Motor Vehicle   \n",
       "\n",
       "       MCI_CATEGORY  HOOD_158       NEIGHBOURHOOD_158  LONG_WGS84  LAT_WGS84  \\\n",
       "312000   Auto Theft      42.0       Banbury-Don Mills  -79.326905  43.723973   \n",
       "148533      Robbery       1.0  West Humber-Clairville  -79.595495  43.737508   \n",
       "154571      Assault     136.0               West Hill  -79.179568  43.764799   \n",
       "281592   Auto Theft      38.0        Lansing-Westgate  -79.433453  43.744910   \n",
       "\n",
       "        season  \n",
       "312000    Fall  \n",
       "148533  Spring  \n",
       "154571  Summer  \n",
       "281592  Winter  "
      ]
     },
     "execution_count": 13,
     "metadata": {},
     "output_type": "execute_result"
    }
   ],
   "source": [
    "# Define the conditions for each season\n",
    "months = [\n",
    "    (data['OCC_MONTH'].isin(['March','April','May'])),  # Spring (March to May)\n",
    "    (data['OCC_MONTH'].isin(['June','July','August'])),  # Summer (June to August)\n",
    "    (data['OCC_MONTH'].isin(['September','October','November'])),  # Fall (September to November)\n",
    "    (data['OCC_MONTH'].isin(['December','January','February']))  # Winter (December to February)\n",
    "]\n",
    "\n",
    "# Define the corresponding season labels\n",
    "season_type = ['Spring', 'Summer', 'Fall', 'Winter']\n",
    "\n",
    "# Create a new 'season' column based on the conditions\n",
    "data[\"season\"] = np.select(months, season_type, default=\"Other\")\n",
    "data.groupby(\"season\").sample(1)"
   ]
  },
  {
   "cell_type": "markdown",
   "id": "a57abd87",
   "metadata": {
    "papermill": {
     "duration": 0.011307,
     "end_time": "2023-10-06T13:54:46.865077",
     "exception": false,
     "start_time": "2023-10-06T13:54:46.853770",
     "status": "completed"
    },
    "tags": []
   },
   "source": [
    "Deriving New Column - **Parts of Day : Morning, Afternoon, Evening, Night**"
   ]
  },
  {
   "cell_type": "code",
   "execution_count": 14,
   "id": "a7f5729e",
   "metadata": {
    "_kg_hide-input": true,
    "execution": {
     "iopub.execute_input": "2023-10-06T13:54:46.889035Z",
     "iopub.status.busy": "2023-10-06T13:54:46.888222Z",
     "iopub.status.idle": "2023-10-06T13:54:47.043105Z",
     "shell.execute_reply": "2023-10-06T13:54:47.041986Z"
    },
    "papermill": {
     "duration": 0.168643,
     "end_time": "2023-10-06T13:54:47.044944",
     "exception": false,
     "start_time": "2023-10-06T13:54:46.876301",
     "status": "completed"
    },
    "tags": []
   },
   "outputs": [
    {
     "data": {
      "text/html": [
       "<div>\n",
       "<style scoped>\n",
       "    .dataframe tbody tr th:only-of-type {\n",
       "        vertical-align: middle;\n",
       "    }\n",
       "\n",
       "    .dataframe tbody tr th {\n",
       "        vertical-align: top;\n",
       "    }\n",
       "\n",
       "    .dataframe thead th {\n",
       "        text-align: right;\n",
       "    }\n",
       "</style>\n",
       "<table border=\"1\" class=\"dataframe\">\n",
       "  <thead>\n",
       "    <tr style=\"text-align: right;\">\n",
       "      <th></th>\n",
       "      <th>REPORT_DATE</th>\n",
       "      <th>REPORT_YEAR</th>\n",
       "      <th>REPORT_MONTH</th>\n",
       "      <th>REPORT_DAY</th>\n",
       "      <th>REPORT_DOW</th>\n",
       "      <th>REPORT_HOUR</th>\n",
       "      <th>OCC_YEAR</th>\n",
       "      <th>OCC_MONTH</th>\n",
       "      <th>OCC_DAY</th>\n",
       "      <th>OCC_DOW</th>\n",
       "      <th>...</th>\n",
       "      <th>DIVISION</th>\n",
       "      <th>PREMISES_TYPE</th>\n",
       "      <th>OFFENCE</th>\n",
       "      <th>MCI_CATEGORY</th>\n",
       "      <th>HOOD_158</th>\n",
       "      <th>NEIGHBOURHOOD_158</th>\n",
       "      <th>LONG_WGS84</th>\n",
       "      <th>LAT_WGS84</th>\n",
       "      <th>season</th>\n",
       "      <th>day_parts</th>\n",
       "    </tr>\n",
       "  </thead>\n",
       "  <tbody>\n",
       "    <tr>\n",
       "      <th>173150</th>\n",
       "      <td>2019/01/18 05:00:00+00</td>\n",
       "      <td>2019</td>\n",
       "      <td>January</td>\n",
       "      <td>18</td>\n",
       "      <td>Friday</td>\n",
       "      <td>17</td>\n",
       "      <td>2019.0</td>\n",
       "      <td>January</td>\n",
       "      <td>11.0</td>\n",
       "      <td>Friday</td>\n",
       "      <td>...</td>\n",
       "      <td>D33</td>\n",
       "      <td>House</td>\n",
       "      <td>B&amp;E</td>\n",
       "      <td>Break and Enter</td>\n",
       "      <td>40.0</td>\n",
       "      <td>St.Andrew-Windfields</td>\n",
       "      <td>-79.370846</td>\n",
       "      <td>43.754171</td>\n",
       "      <td>Winter</td>\n",
       "      <td>Afternoon</td>\n",
       "    </tr>\n",
       "    <tr>\n",
       "      <th>185560</th>\n",
       "      <td>2019/05/19 04:00:00+00</td>\n",
       "      <td>2019</td>\n",
       "      <td>May</td>\n",
       "      <td>19</td>\n",
       "      <td>Sunday</td>\n",
       "      <td>20</td>\n",
       "      <td>2019.0</td>\n",
       "      <td>May</td>\n",
       "      <td>19.0</td>\n",
       "      <td>Sunday</td>\n",
       "      <td>...</td>\n",
       "      <td>D51</td>\n",
       "      <td>Outside</td>\n",
       "      <td>Assault With Weapon</td>\n",
       "      <td>Assault</td>\n",
       "      <td>167.0</td>\n",
       "      <td>Church-Wellesley</td>\n",
       "      <td>-79.381310</td>\n",
       "      <td>43.666577</td>\n",
       "      <td>Spring</td>\n",
       "      <td>Evening</td>\n",
       "    </tr>\n",
       "    <tr>\n",
       "      <th>28029</th>\n",
       "      <td>2014/11/10 05:00:00+00</td>\n",
       "      <td>2014</td>\n",
       "      <td>November</td>\n",
       "      <td>10</td>\n",
       "      <td>Monday</td>\n",
       "      <td>11</td>\n",
       "      <td>2014.0</td>\n",
       "      <td>November</td>\n",
       "      <td>10.0</td>\n",
       "      <td>Monday</td>\n",
       "      <td>...</td>\n",
       "      <td>D43</td>\n",
       "      <td>Apartment</td>\n",
       "      <td>Assault</td>\n",
       "      <td>Assault</td>\n",
       "      <td>139.0</td>\n",
       "      <td>Scarborough Village</td>\n",
       "      <td>-79.220201</td>\n",
       "      <td>43.735933</td>\n",
       "      <td>Fall</td>\n",
       "      <td>Morning</td>\n",
       "    </tr>\n",
       "    <tr>\n",
       "      <th>172718</th>\n",
       "      <td>2019/01/13 05:00:00+00</td>\n",
       "      <td>2019</td>\n",
       "      <td>January</td>\n",
       "      <td>13</td>\n",
       "      <td>Sunday</td>\n",
       "      <td>1</td>\n",
       "      <td>2019.0</td>\n",
       "      <td>January</td>\n",
       "      <td>13.0</td>\n",
       "      <td>Sunday</td>\n",
       "      <td>...</td>\n",
       "      <td>D14</td>\n",
       "      <td>Commercial</td>\n",
       "      <td>Assault</td>\n",
       "      <td>Assault</td>\n",
       "      <td>172.0</td>\n",
       "      <td>Dovercourt Village</td>\n",
       "      <td>-79.422833</td>\n",
       "      <td>43.663057</td>\n",
       "      <td>Winter</td>\n",
       "      <td>Night</td>\n",
       "    </tr>\n",
       "  </tbody>\n",
       "</table>\n",
       "<p>4 rows × 21 columns</p>\n",
       "</div>"
      ],
      "text/plain": [
       "                   REPORT_DATE  REPORT_YEAR REPORT_MONTH  REPORT_DAY  \\\n",
       "173150  2019/01/18 05:00:00+00         2019      January          18   \n",
       "185560  2019/05/19 04:00:00+00         2019          May          19   \n",
       "28029   2014/11/10 05:00:00+00         2014     November          10   \n",
       "172718  2019/01/13 05:00:00+00         2019      January          13   \n",
       "\n",
       "        REPORT_DOW  REPORT_HOUR  OCC_YEAR OCC_MONTH  OCC_DAY     OCC_DOW  ...  \\\n",
       "173150  Friday               17    2019.0   January     11.0  Friday      ...   \n",
       "185560  Sunday               20    2019.0       May     19.0  Sunday      ...   \n",
       "28029   Monday               11    2014.0  November     10.0  Monday      ...   \n",
       "172718  Sunday                1    2019.0   January     13.0  Sunday      ...   \n",
       "\n",
       "        DIVISION PREMISES_TYPE              OFFENCE     MCI_CATEGORY HOOD_158  \\\n",
       "173150       D33         House                  B&E  Break and Enter     40.0   \n",
       "185560       D51       Outside  Assault With Weapon          Assault    167.0   \n",
       "28029        D43     Apartment              Assault          Assault    139.0   \n",
       "172718       D14    Commercial              Assault          Assault    172.0   \n",
       "\n",
       "           NEIGHBOURHOOD_158 LONG_WGS84  LAT_WGS84  season  day_parts  \n",
       "173150  St.Andrew-Windfields -79.370846  43.754171  Winter  Afternoon  \n",
       "185560      Church-Wellesley -79.381310  43.666577  Spring    Evening  \n",
       "28029    Scarborough Village -79.220201  43.735933    Fall    Morning  \n",
       "172718    Dovercourt Village -79.422833  43.663057  Winter      Night  \n",
       "\n",
       "[4 rows x 21 columns]"
      ]
     },
     "execution_count": 14,
     "metadata": {},
     "output_type": "execute_result"
    }
   ],
   "source": [
    "# Define the conditions for each part of the day\n",
    "day_parts = [\n",
    "    (data['OCC_HOUR'].between(6, 11,inclusive='both')),       # Morning (6:00 AM - 11:59 AM)\n",
    "    (data['OCC_HOUR'].between(12, 16,inclusive='both')),      # Afternoon (12:00 PM - 4:59 PM)\n",
    "    (data['OCC_HOUR'].between(17, 20,inclusive='both')),      # Evening (5:00 PM - 8:59 PM)\n",
    "    (data['OCC_HOUR'].between(21, 23,inclusive='both')) | (data['OCC_HOUR'].between(0, 5,inclusive='both'))  # Night (9:00 PM - 5:59 AM next day)\n",
    "]\n",
    "\n",
    "# Define the corresponding labels for each part of the day\n",
    "day_parts_labels = ['Morning', 'Afternoon', 'Evening', 'Night']\n",
    "\n",
    "# Create a new 'day_part' column based on the conditions\n",
    "data[\"day_parts\"] = np.select(day_parts, day_parts_labels, default=\"Other\")\n",
    "# data[\"day_parts\"].unique()\n",
    "data.groupby('day_parts').sample(1)"
   ]
  },
  {
   "cell_type": "markdown",
   "id": "08b0da51",
   "metadata": {
    "papermill": {
     "duration": 0.01139,
     "end_time": "2023-10-06T13:54:47.068411",
     "exception": false,
     "start_time": "2023-10-06T13:54:47.057021",
     "status": "completed"
    },
    "tags": []
   },
   "source": [
    "## Data Manipulation and Data Visualization:"
   ]
  },
  {
   "cell_type": "markdown",
   "id": "ff55964c",
   "metadata": {
    "papermill": {
     "duration": 0.01111,
     "end_time": "2023-10-06T13:54:47.091023",
     "exception": false,
     "start_time": "2023-10-06T13:54:47.079913",
     "status": "completed"
    },
    "tags": []
   },
   "source": [
    "**What is the frequency of crime in each year?**"
   ]
  },
  {
   "cell_type": "code",
   "execution_count": 15,
   "id": "97774de5",
   "metadata": {
    "_kg_hide-input": true,
    "execution": {
     "iopub.execute_input": "2023-10-06T13:54:47.115074Z",
     "iopub.status.busy": "2023-10-06T13:54:47.114477Z",
     "iopub.status.idle": "2023-10-06T13:54:47.550896Z",
     "shell.execute_reply": "2023-10-06T13:54:47.550046Z"
    },
    "papermill": {
     "duration": 0.450546,
     "end_time": "2023-10-06T13:54:47.552964",
     "exception": false,
     "start_time": "2023-10-06T13:54:47.102418",
     "status": "completed"
    },
    "tags": []
   },
   "outputs": [
    {
     "data": {
      "image/png": "[encoded data removed]",
      "text/plain": [
       "<Figure size 1200x500 with 1 Axes>"
      ]
     },
     "metadata": {},
     "output_type": "display_data"
    }
   ],
   "source": [
    "crime_trend_year=data.groupby('REPORT_YEAR').agg({'OFFENCE':'count'}).reset_index()\n",
    "# crime_trend_year\n",
    "plt.figure(figsize=(12,5))\n",
    "sns.set_style('whitegrid')\n",
    "sns.lineplot(data=crime_trend_year,x='REPORT_YEAR',y='OFFENCE',marker='o')\n",
    "sns.despine()\n",
    "plt.xlabel('')\n",
    "plt.ylabel('Number of Reported Crime',fontsize=13)\n",
    "plt.title('Reported Crime Frequency Year by Year (2014 - 2022)',y=1.02,fontsize=14,weight='bold')\n",
    "plt.savefig('crime_trend_timeline.png',bbox_inches = 'tight')\n",
    "plt.show()"
   ]
  },
  {
   "cell_type": "code",
   "execution_count": 16,
   "id": "bfb7211f",
   "metadata": {
    "_kg_hide-input": true,
    "execution": {
     "iopub.execute_input": "2023-10-06T13:54:47.579240Z",
     "iopub.status.busy": "2023-10-06T13:54:47.578994Z",
     "iopub.status.idle": "2023-10-06T13:54:49.737376Z",
     "shell.execute_reply": "2023-10-06T13:54:49.736510Z"
    },
    "papermill": {
     "duration": 2.173955,
     "end_time": "2023-10-06T13:54:49.739671",
     "exception": false,
     "start_time": "2023-10-06T13:54:47.565716",
     "status": "completed"
    },
    "tags": []
   },
   "outputs": [
    {
     "data": {
      "text/html": [
       "        <script type=\"text/javascript\">\n",
       "        window.PlotlyConfig = {MathJaxConfig: 'local'};\n",
       "        if (window.MathJax && window.MathJax.Hub && window.MathJax.Hub.Config) {window.MathJax.Hub.Config({SVG: {font: \"STIX-Web\"}});}\n",
       "        if (typeof require !== 'undefined') {\n",
       "        require.undef(\"plotly\");\n",
       "        requirejs.config({\n",
       "            paths: {\n",
       "                'plotly': ['https://cdn.plot.ly/plotly-2.24.1.min']\n",
       "            }\n",
       "        });\n",
       "        require(['plotly'], function(Plotly) {\n",
       "            window._Plotly = Plotly;\n",
       "        });\n",
       "        }\n",
       "        </script>\n",
       "        "
      ]
     },
     "metadata": {},
     "output_type": "display_data"
    },
    {
     "data": {
      "text/html": [
       "<div>                            <div id=\"c5176ff7-68f1-4ce9-94fb-1bbac2da9615\" class=\"plotly-graph-div\" style=\"height:525px; width:100%;\"></div>            <script type=\"text/javascript\">                require([\"plotly\"], function(Plotly) {                    window.PLOTLYENV=window.PLOTLYENV || {};                                    if (document.getElementById(\"c5176ff7-68f1-4ce9-94fb-1bbac2da9615\")) {                    Plotly.newPlot(                        \"c5176ff7-68f1-4ce9-94fb-1bbac2da9615\",                        [{\"hovertemplate\":\"REPORT_DATE=%{x}\\u003cbr\\u003eOFFENCE=%{y}\\u003cextra\\u003e\\u003c\\u002fextra\\u003e\",\"legendgroup\":\"\",\"line\":{\"color\":\"#636efa\",\"dash\":\"solid\"},\"marker\":{\"symbol\":\"circle\"},\"mode\":\"lines\",\"name\":\"\",\"showlegend\":false,\"x\":[\"2014-01-01\",\"2014-01-02\",\"2014-01-03\",\"2014-01-04\",\"2014-01-05\",\"2014-01-06\",\"2014-01-07\",\"2014-01-08\",\"2014-01-09\",\"2014-01-10\",\"2014-01-11\",\"2014-01-12\",\"2014-01-13\",\"2014-01-14\",\"2014-01-15\",\"2014-01-16\",\"2014-01-17\",\"2014-01-18\",\"2014-01-19\",\"2014-01-20\",\"2014-01-21\",\"2014-01-22\",\"2014-01-23\",\"2014-01-24\",\"2014-01-25\",\"2014-01-26\",\"2014-01-27\",\"2014-01-28\",\"2014-01-29\",\"2014-01-30\",\"2014-01-31\",\"2014-02-01\",\"2014-02-02\",\"2014-02-03\",\"2014-02-04\",\"2014-02-05\",\"2014-02-06\",\"2014-02-07\",\"2014-02-08\",\"2014-02-09\",\"2014-02-10\",\"2014-02-11\",\"2014-02-12\",\"2014-02-13\",\"2014-02-14\",\"2014-02-15\",\"2014-02-16\",\"2014-02-17\",\"2014-02-18\",\"2014-02-19\",\"2014-02-20\",\"2014-02-21\",\"2014-02-22\",\"2014-02-23\",\"2014-02-24\",\"2014-02-25\",\"2014-02-26\",\"2014-02-27\",\"2014-02-28\",\"2014-03-01\",\"2014-03-02\",\"2014-03-03\",\"2014-03-04\",\"2014-03-05\",\"2014-03-06\",\"2014-03-07\",\"2014-03-08\",\"2014-03-09\",\"2014-03-10\",\"2014-03-11\",\"2014-03-12\",\"2014-03-13\",\"2014-03-14\",\"2014-03-15\",\"2014-03-16\",\"2014-03-17\",\"2014-03-18\",\"2014-03-19\",\"2014-03-20\",\"2014-03-21\",\"2014-03-22\",\"2014-03-23\",\"2014-03-24\",\"2014-03-25\",\"2014-03-26\",\"2014-03-27\",\"2014-03-28\",\"2014-03-29\",\"2014-03-30\",\"2014-03-31\",\"2014-04-01\",\"2014-04-02\",\"2014-04-03\",\"2014-04-04\",\"2014-04-05\",\"2014-04-06\",\"2014-04-07\",\"2014-04-08\",\"2014-04-09\",\"2014-04-10\",\"2014-04-11\",\"2014-04-12\",\"2014-04-13\",\"2014-04-14\",\"2014-04-15\",\"2014-04-16\",\"2014-04-17\",\"2014-04-18\",\"2014-04-19\",\"2014-04-20\",\"2014-04-21\",\"2014-04-22\",\"2014-04-23\",\"2014-04-24\",\"2014-04-25\",\"2014-04-26\",\"2014-04-27\",\"2014-04-28\",\"2014-04-29\",\"2014-04-30\",\"2014-05-01\",\"2014-05-02\",\"2014-05-03\",\"2014-05-04\",\"2014-05-05\",\"2014-05-06\",\"2014-05-07\",\"2014-05-08\",\"2014-05-09\",\"2014-05-10\",\"2014-05-11\",\"2014-05-12\",\"2014-05-13\",\"2014-05-14\",\"2014-05-15\",\"2014-05-16\",\"2014-05-17\",\"2014-05-18\",\"2014-05-19\",\"2014-05-20\",\"2014-05-21\",\"2014-05-22\",\"2014-05-23\",\"2014-05-24\",\"2014-05-25\",\"2014-05-26\",\"2014-05-27\",\"2014-05-28\",\"2014-05-29\",\"2014-05-30\",\"2014-05-31\",\"2014-06-01\",\"2014-06-02\",\"2014-06-03\",\"2014-06-04\",\"2014-06-05\",\"2014-06-06\",\"2014-06-07\",\"2014-06-08\",\"2014-06-09\",\"2014-06-10\",\"2014-06-11\",\"2014-06-12\",\"2014-06-13\",\"2014-06-14\",\"2014-06-15\",\"2014-06-16\",\"2014-06-17\",\"2014-06-18\",\"2014-06-19\",\"2014-06-20\",\"2014-06-21\",\"2014-06-22\",\"2014-06-23\",\"2014-06-24\",\"2014-06-25\",\"2014-06-26\",\"2014-06-27\",\"2014-06-28\",\"2014-06-29\",\"2014-06-30\",\"2014-07-01\",\"2014-07-02\",\"2014-07-03\",\"2014-07-04\",\"2014-07-05\",\"2014-07-06\",\"2014-07-07\",\"2014-07-08\",\"2014-07-09\",\"2014-07-10\",\"2014-07-11\",\"2014-07-12\",\"2014-07-13\",\"2014-07-14\",\"2014-07-15\",\"2014-07-16\",\"2014-07-17\",\"2014-07-18\",\"2014-07-19\",\"2014-07-20\",\"2014-07-21\",\"2014-07-22\",\"2014-07-23\",\"2014-07-24\",\"2014-07-25\",\"2014-07-26\",\"2014-07-27\",\"2014-07-28\",\"2014-07-29\",\"2014-07-30\",\"2014-07-31\",\"2014-08-01\",\"2014-08-02\",\"2014-08-03\",\"2014-08-04\",\"2014-08-05\",\"2014-08-06\",\"2014-08-07\",\"2014-08-08\",\"2014-08-09\",\"2014-08-10\",\"2014-08-11\",\"2014-08-12\",\"2014-08-13\",\"2014-08-14\",\"2014-08-15\",\"2014-08-16\",\"2014-08-17\",\"2014-08-18\",\"2014-08-19\",\"2014-08-20\",\"2014-08-21\",\"2014-08-22\",\"2014-08-23\",\"2014-08-24\",\"2014-08-25\",\"2014-08-26\",\"2014-08-27\",\"2014-08-28\",\"2014-08-29\",\"2014-08-30\",\"2014-08-31\",\"2014-09-01\",\"2014-09-02\",\"2014-09-03\",\"2014-09-04\",\"2014-09-05\",\"2014-09-06\",\"2014-09-07\",\"2014-09-08\",\"2014-09-09\",\"2014-09-10\",\"2014-09-11\",\"2014-09-12\",\"2014-09-13\",\"2014-09-14\",\"2014-09-15\",\"2014-09-16\",\"2014-09-17\",\"2014-09-18\",\"2014-09-19\",\"2014-09-20\",\"2014-09-21\",\"2014-09-22\",\"2014-09-23\",\"2014-09-24\",\"2014-09-25\",\"2014-09-26\",\"2014-09-27\",\"2014-09-28\",\"2014-09-29\",\"2014-09-30\",\"2014-10-01\",\"2014-10-02\",\"2014-10-03\",\"2014-10-04\",\"2014-10-05\",\"2014-10-06\",\"2014-10-07\",\"2014-10-08\",\"2014-10-09\",\"2014-10-10\",\"2014-10-11\",\"2014-10-12\",\"2014-10-13\",\"2014-10-14\",\"2014-10-15\",\"2014-10-16\",\"2014-10-17\",\"2014-10-18\",\"2014-10-19\",\"2014-10-20\",\"2014-10-21\",\"2014-10-22\",\"2014-10-23\",\"2014-10-24\",\"2014-10-25\",\"2014-10-26\",\"2014-10-27\",\"2014-10-28\",\"2014-10-29\",\"2014-10-30\",\"2014-10-31\",\"2014-11-01\",\"2014-11-02\",\"2014-11-03\",\"2014-11-04\",\"2014-11-05\",\"2014-11-06\",\"2014-11-07\",\"2014-11-08\",\"2014-11-09\",\"2014-11-10\",\"2014-11-11\",\"2014-11-12\",\"2014-11-13\",\"2014-11-14\",\"2014-11-15\",\"2014-11-16\",\"2014-11-17\",\"2014-11-18\",\"2014-11-19\",\"2014-11-20\",\"2014-11-21\",\"2014-11-22\",\"2014-11-23\",\"2014-11-24\",\"2014-11-25\",\"2014-11-26\",\"2014-11-27\",\"2014-11-28\",\"2014-11-29\",\"2014-11-30\",\"2014-12-01\",\"2014-12-02\",\"2014-12-03\",\"2014-12-04\",\"2014-12-05\",\"2014-12-06\",\"2014-12-07\",\"2014-12-08\",\"2014-12-09\",\"2014-12-10\",\"2014-12-11\",\"2014-12-12\",\"2014-12-13\",\"2014-12-14\",\"2014-12-15\",\"2014-12-16\",\"2014-12-17\",\"2014-12-18\",\"2014-12-19\",\"2014-12-20\",\"2014-12-21\",\"2014-12-22\",\"2014-12-23\",\"2014-12-24\",\"2014-12-25\",\"2014-12-26\",\"2014-12-27\",\"2014-12-28\",\"2014-12-29\",\"2014-12-30\",\"2014-12-31\",\"2015-01-01\",\"2015-01-02\",\"2015-01-03\",\"2015-01-04\",\"2015-01-05\",\"2015-01-06\",\"2015-01-07\",\"2015-01-08\",\"2015-01-09\",\"2015-01-10\",\"2015-01-11\",\"2015-01-12\",\"2015-01-13\",\"2015-01-14\",\"2015-01-15\",\"2015-01-16\",\"2015-01-17\",\"2015-01-18\",\"2015-01-19\",\"2015-01-20\",\"2015-01-21\",\"2015-01-22\",\"2015-01-23\",\"2015-01-24\",\"2015-01-25\",\"2015-01-26\",\"2015-01-27\",\"2015-01-28\",\"2015-01-29\",\"2015-01-30\",\"2015-01-31\",\"2015-02-01\",\"2015-02-02\",\"2015-02-03\",\"2015-02-04\",\"2015-02-05\",\"2015-02-06\",\"2015-02-07\",\"2015-02-08\",\"2015-02-09\",\"2015-02-10\",\"2015-02-11\",\"2015-02-12\",\"2015-02-13\",\"2015-02-14\",\"2015-02-15\",\"2015-02-16\",\"2015-02-17\",\"2015-02-18\",\"2015-02-19\",\"2015-02-20\",\"2015-02-21\",\"2015-02-22\",\"2015-02-23\",\"2015-02-24\",\"2015-02-25\",\"2015-02-26\",\"2015-02-27\",\"2015-02-28\",\"2015-03-01\",\"2015-03-02\",\"2015-03-03\",\"2015-03-04\",\"2015-03-05\",\"2015-03-06\",\"2015-03-07\",\"2015-03-08\",\"2015-03-09\",\"2015-03-10\",\"2015-03-11\",\"2015-03-12\",\"2015-03-13\",\"2015-03-14\",\"2015-03-15\",\"2015-03-16\",\"2015-03-17\",\"2015-03-18\",\"2015-03-19\",\"2015-03-20\",\"2015-03-21\",\"2015-03-22\",\"2015-03-23\",\"2015-03-24\",\"2015-03-25\",\"2015-03-26\",\"2015-03-27\",\"2015-03-28\",\"2015-03-29\",\"2015-03-30\",\"2015-03-31\",\"2015-04-01\",\"2015-04-02\",\"2015-04-03\",\"2015-04-04\",\"2015-04-05\",\"2015-04-06\",\"2015-04-07\",\"2015-04-08\",\"2015-04-09\",\"2015-04-10\",\"2015-04-11\",\"2015-04-12\",\"2015-04-13\",\"2015-04-14\",\"2015-04-15\",\"2015-04-16\",\"2015-04-17\",\"2015-04-18\",\"2015-04-19\",\"2015-04-20\",\"2015-04-21\",\"2015-04-22\",\"2015-04-23\",\"2015-04-24\",\"2015-04-25\",\"2015-04-26\",\"2015-04-27\",\"2015-04-28\",\"2015-04-29\",\"2015-04-30\",\"2015-05-01\",\"2015-05-02\",\"2015-05-03\",\"2015-05-04\",\"2015-05-05\",\"2015-05-06\",\"2015-05-07\",\"2015-05-08\",\"2015-05-09\",\"2015-05-10\",\"2015-05-11\",\"2015-05-12\",\"2015-05-13\",\"2015-05-14\",\"2015-05-15\",\"2015-05-16\",\"2015-05-17\",\"2015-05-18\",\"2015-05-19\",\"2015-05-20\",\"2015-05-21\",\"2015-05-22\",\"2015-05-23\",\"2015-05-24\",\"2015-05-25\",\"2015-05-26\",\"2015-05-27\",\"2015-05-28\",\"2015-05-29\",\"2015-05-30\",\"2015-05-31\",\"2015-06-01\",\"2015-06-02\",\"2015-06-03\",\"2015-06-04\",\"2015-06-05\",\"2015-06-06\",\"2015-06-07\",\"2015-06-08\",\"2015-06-09\",\"2015-06-10\",\"2015-06-11\",\"2015-06-12\",\"2015-06-13\",\"2015-06-14\",\"2015-06-15\",\"2015-06-16\",\"2015-06-17\",\"2015-06-18\",\"2015-06-19\",\"2015-06-20\",\"2015-06-21\",\"2015-06-22\",\"2015-06-23\",\"2015-06-24\",\"2015-06-25\",\"2015-06-26\",\"2015-06-27\",\"2015-06-28\",\"2015-06-29\",\"2015-06-30\",\"2015-07-01\",\"2015-07-02\",\"2015-07-03\",\"2015-07-04\",\"2015-07-05\",\"2015-07-06\",\"2015-07-07\",\"2015-07-08\",\"2015-07-09\",\"2015-07-10\",\"2015-07-11\",\"2015-07-12\",\"2015-07-13\",\"2015-07-14\",\"2015-07-15\",\"2015-07-16\",\"2015-07-17\",\"2015-07-18\",\"2015-07-19\",\"2015-07-20\",\"2015-07-21\",\"2015-07-22\",\"2015-07-23\",\"2015-07-24\",\"2015-07-25\",\"2015-07-26\",\"2015-07-27\",\"2015-07-28\",\"2015-07-29\",\"2015-07-30\",\"2015-07-31\",\"2015-08-01\",\"2015-08-02\",\"2015-08-03\",\"2015-08-04\",\"2015-08-05\",\"2015-08-06\",\"2015-08-07\",\"2015-08-08\",\"2015-08-09\",\"2015-08-10\",\"2015-08-11\",\"2015-08-12\",\"2015-08-13\",\"2015-08-14\",\"2015-08-15\",\"2015-08-16\",\"2015-08-17\",\"2015-08-18\",\"2015-08-19\",\"2015-08-20\",\"2015-08-21\",\"2015-08-22\",\"2015-08-23\",\"2015-08-24\",\"2015-08-25\",\"2015-08-26\",\"2015-08-27\",\"2015-08-28\",\"2015-08-29\",\"2015-08-30\",\"2015-08-31\",\"2015-09-01\",\"2015-09-02\",\"2015-09-03\",\"2015-09-04\",\"2015-09-05\",\"2015-09-06\",\"2015-09-07\",\"2015-09-08\",\"2015-09-09\",\"2015-09-10\",\"2015-09-11\",\"2015-09-12\",\"2015-09-13\",\"2015-09-14\",\"2015-09-15\",\"2015-09-16\",\"2015-09-17\",\"2015-09-18\",\"2015-09-19\",\"2015-09-20\",\"2015-09-21\",\"2015-09-22\",\"2015-09-23\",\"2015-09-24\",\"2015-09-25\",\"2015-09-26\",\"2015-09-27\",\"2015-09-28\",\"2015-09-29\",\"2015-09-30\",\"2015-10-01\",\"2015-10-02\",\"2015-10-03\",\"2015-10-04\",\"2015-10-05\",\"2015-10-06\",\"2015-10-07\",\"2015-10-08\",\"2015-10-09\",\"2015-10-10\",\"2015-10-11\",\"2015-10-12\",\"2015-10-13\",\"2015-10-14\",\"2015-10-15\",\"2015-10-16\",\"2015-10-17\",\"2015-10-18\",\"2015-10-19\",\"2015-10-20\",\"2015-10-21\",\"2015-10-22\",\"2015-10-23\",\"2015-10-24\",\"2015-10-25\",\"2015-10-26\",\"2015-10-27\",\"2015-10-28\",\"2015-10-29\",\"2015-10-30\",\"2015-10-31\",\"2015-11-01\",\"2015-11-02\",\"2015-11-03\",\"2015-11-04\",\"2015-11-05\",\"2015-11-06\",\"2015-11-07\",\"2015-11-08\",\"2015-11-09\",\"2015-11-10\",\"2015-11-11\",\"2015-11-12\",\"2015-11-13\",\"2015-11-14\",\"2015-11-15\",\"2015-11-16\",\"2015-11-17\",\"2015-11-18\",\"2015-11-19\",\"2015-11-20\",\"2015-11-21\",\"2015-11-22\",\"2015-11-23\",\"2015-11-24\",\"2015-11-25\",\"2015-11-26\",\"2015-11-27\",\"2015-11-28\",\"2015-11-29\",\"2015-11-30\",\"2015-12-01\",\"2015-12-02\",\"2015-12-03\",\"2015-12-04\",\"2015-12-05\",\"2015-12-06\",\"2015-12-07\",\"2015-12-08\",\"2015-12-09\",\"2015-12-10\",\"2015-12-11\",\"2015-12-12\",\"2015-12-13\",\"2015-12-14\",\"2015-12-15\",\"2015-12-16\",\"2015-12-17\",\"2015-12-18\",\"2015-12-19\",\"2015-12-20\",\"2015-12-21\",\"2015-12-22\",\"2015-12-23\",\"2015-12-24\",\"2015-12-25\",\"2015-12-26\",\"2015-12-27\",\"2015-12-28\",\"2015-12-29\",\"2015-12-30\",\"2015-12-31\",\"2016-01-01\",\"2016-01-02\",\"2016-01-03\",\"2016-01-04\",\"2016-01-05\",\"2016-01-06\",\"2016-01-07\",\"2016-01-08\",\"2016-01-09\",\"2016-01-10\",\"2016-01-11\",\"2016-01-12\",\"2016-01-13\",\"2016-01-14\",\"2016-01-15\",\"2016-01-16\",\"2016-01-17\",\"2016-01-18\",\"2016-01-19\",\"2016-01-20\",\"2016-01-21\",\"2016-01-22\",\"2016-01-23\",\"2016-01-24\",\"2016-01-25\",\"2016-01-26\",\"2016-01-27\",\"2016-01-28\",\"2016-01-29\",\"2016-01-30\",\"2016-01-31\",\"2016-02-01\",\"2016-02-02\",\"2016-02-03\",\"2016-02-04\",\"2016-02-05\",\"2016-02-06\",\"2016-02-07\",\"2016-02-08\",\"2016-02-09\",\"2016-02-10\",\"2016-02-11\",\"2016-02-12\",\"2016-02-13\",\"2016-02-14\",\"2016-02-15\",\"2016-02-16\",\"2016-02-17\",\"2016-02-18\",\"2016-02-19\",\"2016-02-20\",\"2016-02-21\",\"2016-02-22\",\"2016-02-23\",\"2016-02-24\",\"2016-02-25\",\"2016-02-26\",\"2016-02-27\",\"2016-02-28\",\"2016-02-29\",\"2016-03-01\",\"2016-03-02\",\"2016-03-03\",\"2016-03-04\",\"2016-03-05\",\"2016-03-06\",\"2016-03-07\",\"2016-03-08\",\"2016-03-09\",\"2016-03-10\",\"2016-03-11\",\"2016-03-12\",\"2016-03-13\",\"2016-03-14\",\"2016-03-15\",\"2016-03-16\",\"2016-03-17\",\"2016-03-18\",\"2016-03-19\",\"2016-03-20\",\"2016-03-21\",\"2016-03-22\",\"2016-03-23\",\"2016-03-24\",\"2016-03-25\",\"2016-03-26\",\"2016-03-27\",\"2016-03-28\",\"2016-03-29\",\"2016-03-30\",\"2016-03-31\",\"2016-04-01\",\"2016-04-02\",\"2016-04-03\",\"2016-04-04\",\"2016-04-05\",\"2016-04-06\",\"2016-04-07\",\"2016-04-08\",\"2016-04-09\",\"2016-04-10\",\"2016-04-11\",\"2016-04-12\",\"2016-04-13\",\"2016-04-14\",\"2016-04-15\",\"2016-04-16\",\"2016-04-17\",\"2016-04-18\",\"2016-04-19\",\"2016-04-20\",\"2016-04-21\",\"2016-04-22\",\"2016-04-23\",\"2016-04-24\",\"2016-04-25\",\"2016-04-26\",\"2016-04-27\",\"2016-04-28\",\"2016-04-29\",\"2016-04-30\",\"2016-05-01\",\"2016-05-02\",\"2016-05-03\",\"2016-05-04\",\"2016-05-05\",\"2016-05-06\",\"2016-05-07\",\"2016-05-08\",\"2016-05-09\",\"2016-05-10\",\"2016-05-11\",\"2016-05-12\",\"2016-05-13\",\"2016-05-14\",\"2016-05-15\",\"2016-05-16\",\"2016-05-17\",\"2016-05-18\",\"2016-05-19\",\"2016-05-20\",\"2016-05-21\",\"2016-05-22\",\"2016-05-23\",\"2016-05-24\",\"2016-05-25\",\"2016-05-26\",\"2016-05-27\",\"2016-05-28\",\"2016-05-29\",\"2016-05-30\",\"2016-05-31\",\"2016-06-01\",\"2016-06-02\",\"2016-06-03\",\"2016-06-04\",\"2016-06-05\",\"2016-06-06\",\"2016-06-07\",\"2016-06-08\",\"2016-06-09\",\"2016-06-10\",\"2016-06-11\",\"2016-06-12\",\"2016-06-13\",\"2016-06-14\",\"2016-06-15\",\"2016-06-16\",\"2016-06-17\",\"2016-06-18\",\"2016-06-19\",\"2016-06-20\",\"2016-06-21\",\"2016-06-22\",\"2016-06-23\",\"2016-06-24\",\"2016-06-25\",\"2016-06-26\",\"2016-06-27\",\"2016-06-28\",\"2016-06-29\",\"2016-06-30\",\"2016-07-01\",\"2016-07-02\",\"2016-07-03\",\"2016-07-04\",\"2016-07-05\",\"2016-07-06\",\"2016-07-07\",\"2016-07-08\",\"2016-07-09\",\"2016-07-10\",\"2016-07-11\",\"2016-07-12\",\"2016-07-13\",\"2016-07-14\",\"2016-07-15\",\"2016-07-16\",\"2016-07-17\",\"2016-07-18\",\"2016-07-19\",\"2016-07-20\",\"2016-07-21\",\"2016-07-22\",\"2016-07-23\",\"2016-07-24\",\"2016-07-25\",\"2016-07-26\",\"2016-07-27\",\"2016-07-28\",\"2016-07-29\",\"2016-07-30\",\"2016-07-31\",\"2016-08-01\",\"2016-08-02\",\"2016-08-03\",\"2016-08-04\",\"2016-08-05\",\"2016-08-06\",\"2016-08-07\",\"2016-08-08\",\"2016-08-09\",\"2016-08-10\",\"2016-08-11\",\"2016-08-12\",\"2016-08-13\",\"2016-08-14\",\"2016-08-15\",\"2016-08-16\",\"2016-08-17\",\"2016-08-18\",\"2016-08-19\",\"2016-08-20\",\"2016-08-21\",\"2016-08-22\",\"2016-08-23\",\"2016-08-24\",\"2016-08-25\",\"2016-08-26\",\"2016-08-27\",\"2016-08-28\",\"2016-08-29\",\"2016-08-30\",\"2016-08-31\",\"2016-09-01\",\"2016-09-02\",\"2016-09-03\",\"2016-09-04\",\"2016-09-05\",\"2016-09-06\",\"2016-09-07\",\"2016-09-08\",\"2016-09-09\",\"2016-09-10\",\"2016-09-11\",\"2016-09-12\",\"2016-09-13\",\"2016-09-14\",\"2016-09-15\",\"2016-09-16\",\"2016-09-17\",\"2016-09-18\",\"2016-09-19\",\"2016-09-20\",\"2016-09-21\",\"2016-09-22\",\"2016-09-23\",\"2016-09-24\",\"2016-09-25\",\"2016-09-26\",\"2016-09-27\",\"2016-09-28\",\"2016-09-29\",\"2016-09-30\",\"2016-10-01\",\"2016-10-02\",\"2016-10-03\",\"2016-10-04\",\"2016-10-05\",\"2016-10-06\",\"2016-10-07\",\"2016-10-08\",\"2016-10-09\",\"2016-10-10\",\"2016-10-11\",\"2016-10-12\",\"2016-10-13\",\"2016-10-14\",\"2016-10-15\",\"2016-10-16\",\"2016-10-17\",\"2016-10-18\",\"2016-10-19\",\"2016-10-20\",\"2016-10-21\",\"2016-10-22\",\"2016-10-23\",\"2016-10-24\",\"2016-10-25\",\"2016-10-26\",\"2016-10-27\",\"2016-10-28\",\"2016-10-29\",\"2016-10-30\",\"2016-10-31\",\"2016-11-01\",\"2016-11-02\",\"2016-11-03\",\"2016-11-04\",\"2016-11-05\",\"2016-11-06\",\"2016-11-07\",\"2016-11-08\",\"2016-11-09\",\"2016-11-10\",\"2016-11-11\",\"2016-11-12\",\"2016-11-13\",\"2016-11-14\",\"2016-11-15\",\"2016-11-16\",\"2016-11-17\",\"2016-11-18\",\"2016-11-19\",\"2016-11-20\",\"2016-11-21\",\"2016-11-22\",\"2016-11-23\",\"2016-11-24\",\"2016-11-25\",\"2016-11-26\",\"2016-11-27\",\"2016-11-28\",\"2016-11-29\",\"2016-11-30\",\"2016-12-01\",\"2016-12-02\",\"2016-12-03\",\"2016-12-04\",\"2016-12-05\",\"2016-12-06\",\"2016-12-07\",\"2016-12-08\",\"2016-12-09\",\"2016-12-10\",\"2016-12-11\",\"2016-12-12\",\"2016-12-13\",\"2016-12-14\",\"2016-12-15\",\"2016-12-16\",\"2016-12-17\",\"2016-12-18\",\"2016-12-19\",\"2016-12-20\",\"2016-12-21\",\"2016-12-22\",\"2016-12-23\",\"2016-12-24\",\"2016-12-25\",\"2016-12-26\",\"2016-12-27\",\"2016-12-28\",\"2016-12-29\",\"2016-12-30\",\"2016-12-31\",\"2017-01-01\",\"2017-01-02\",\"2017-01-03\",\"2017-01-04\",\"2017-01-05\",\"2017-01-06\",\"2017-01-07\",\"2017-01-08\",\"2017-01-09\",\"2017-01-10\",\"2017-01-11\",\"2017-01-12\",\"2017-01-13\",\"2017-01-14\",\"2017-01-15\",\"2017-01-16\",\"2017-01-17\",\"2017-01-18\",\"2017-01-19\",\"2017-01-20\",\"2017-01-21\",\"2017-01-22\",\"2017-01-23\",\"2017-01-24\",\"2017-01-25\",\"2017-01-26\",\"2017-01-27\",\"2017-01-28\",\"2017-01-29\",\"2017-01-30\",\"2017-01-31\",\"2017-02-01\",\"2017-02-02\",\"2017-02-03\",\"2017-02-04\",\"2017-02-05\",\"2017-02-06\",\"2017-02-07\",\"2017-02-08\",\"2017-02-09\",\"2017-02-10\",\"2017-02-11\",\"2017-02-12\",\"2017-02-13\",\"2017-02-14\",\"2017-02-15\",\"2017-02-16\",\"2017-02-17\",\"2017-02-18\",\"2017-02-19\",\"2017-02-20\",\"2017-02-21\",\"2017-02-22\",\"2017-02-23\",\"2017-02-24\",\"2017-02-25\",\"2017-02-26\",\"2017-02-27\",\"2017-02-28\",\"2017-03-01\",\"2017-03-02\",\"2017-03-03\",\"2017-03-04\",\"2017-03-05\",\"2017-03-06\",\"2017-03-07\",\"2017-03-08\",\"2017-03-09\",\"2017-03-10\",\"2017-03-11\",\"2017-03-12\",\"2017-03-13\",\"2017-03-14\",\"2017-03-15\",\"2017-03-16\",\"2017-03-17\",\"2017-03-18\",\"2017-03-19\",\"2017-03-20\",\"2017-03-21\",\"2017-03-22\",\"2017-03-23\",\"2017-03-24\",\"2017-03-25\",\"2017-03-26\",\"2017-03-27\",\"2017-03-28\",\"2017-03-29\",\"2017-03-30\",\"2017-03-31\",\"2017-04-01\",\"2017-04-02\",\"2017-04-03\",\"2017-04-04\",\"2017-04-05\",\"2017-04-06\",\"2017-04-07\",\"2017-04-08\",\"2017-04-09\",\"2017-04-10\",\"2017-04-11\",\"2017-04-12\",\"2017-04-13\",\"2017-04-14\",\"2017-04-15\",\"2017-04-16\",\"2017-04-17\",\"2017-04-18\",\"2017-04-19\",\"2017-04-20\",\"2017-04-21\",\"2017-04-22\",\"2017-04-23\",\"2017-04-24\",\"2017-04-25\",\"2017-04-26\",\"2017-04-27\",\"2017-04-28\",\"2017-04-29\",\"2017-04-30\",\"2017-05-01\",\"2017-05-02\",\"2017-05-03\",\"2017-05-04\",\"2017-05-05\",\"2017-05-06\",\"2017-05-07\",\"2017-05-08\",\"2017-05-09\",\"2017-05-10\",\"2017-05-11\",\"2017-05-12\",\"2017-05-13\",\"2017-05-14\",\"2017-05-15\",\"2017-05-16\",\"2017-05-17\",\"2017-05-18\",\"2017-05-19\",\"2017-05-20\",\"2017-05-21\",\"2017-05-22\",\"2017-05-23\",\"2017-05-24\",\"2017-05-25\",\"2017-05-26\",\"2017-05-27\",\"2017-05-28\",\"2017-05-29\",\"2017-05-30\",\"2017-05-31\",\"2017-06-01\",\"2017-06-02\",\"2017-06-03\",\"2017-06-04\",\"2017-06-05\",\"2017-06-06\",\"2017-06-07\",\"2017-06-08\",\"2017-06-09\",\"2017-06-10\",\"2017-06-11\",\"2017-06-12\",\"2017-06-13\",\"2017-06-14\",\"2017-06-15\",\"2017-06-16\",\"2017-06-17\",\"2017-06-18\",\"2017-06-19\",\"2017-06-20\",\"2017-06-21\",\"2017-06-22\",\"2017-06-23\",\"2017-06-24\",\"2017-06-25\",\"2017-06-26\",\"2017-06-27\",\"2017-06-28\",\"2017-06-29\",\"2017-06-30\",\"2017-07-01\",\"2017-07-02\",\"2017-07-03\",\"2017-07-04\",\"2017-07-05\",\"2017-07-06\",\"2017-07-07\",\"2017-07-08\",\"2017-07-09\",\"2017-07-10\",\"2017-07-11\",\"2017-07-12\",\"2017-07-13\",\"2017-07-14\",\"2017-07-15\",\"2017-07-16\",\"2017-07-17\",\"2017-07-18\",\"2017-07-19\",\"2017-07-20\",\"2017-07-21\",\"2017-07-22\",\"2017-07-23\",\"2017-07-24\",\"2017-07-25\",\"2017-07-26\",\"2017-07-27\",\"2017-07-28\",\"2017-07-29\",\"2017-07-30\",\"2017-07-31\",\"2017-08-01\",\"2017-08-02\",\"2017-08-03\",\"2017-08-04\",\"2017-08-05\",\"2017-08-06\",\"2017-08-07\",\"2017-08-08\",\"2017-08-09\",\"2017-08-10\",\"2017-08-11\",\"2017-08-12\",\"2017-08-13\",\"2017-08-14\",\"2017-08-15\",\"2017-08-16\",\"2017-08-17\",\"2017-08-18\",\"2017-08-19\",\"2017-08-20\",\"2017-08-21\",\"2017-08-22\",\"2017-08-23\",\"2017-08-24\",\"2017-08-25\",\"2017-08-26\",\"2017-08-27\",\"2017-08-28\",\"2017-08-29\",\"2017-08-30\",\"2017-08-31\",\"2017-09-01\",\"2017-09-02\",\"2017-09-03\",\"2017-09-04\",\"2017-09-05\",\"2017-09-06\",\"2017-09-07\",\"2017-09-08\",\"2017-09-09\",\"2017-09-10\",\"2017-09-11\",\"2017-09-12\",\"2017-09-13\",\"2017-09-14\",\"2017-09-15\",\"2017-09-16\",\"2017-09-17\",\"2017-09-18\",\"2017-09-19\",\"2017-09-20\",\"2017-09-21\",\"2017-09-22\",\"2017-09-23\",\"2017-09-24\",\"2017-09-25\",\"2017-09-26\",\"2017-09-27\",\"2017-09-28\",\"2017-09-29\",\"2017-09-30\",\"2017-10-01\",\"2017-10-02\",\"2017-10-03\",\"2017-10-04\",\"2017-10-05\",\"2017-10-06\",\"2017-10-07\",\"2017-10-08\",\"2017-10-09\",\"2017-10-10\",\"2017-10-11\",\"2017-10-12\",\"2017-10-13\",\"2017-10-14\",\"2017-10-15\",\"2017-10-16\",\"2017-10-17\",\"2017-10-18\",\"2017-10-19\",\"2017-10-20\",\"2017-10-21\",\"2017-10-22\",\"2017-10-23\",\"2017-10-24\",\"2017-10-25\",\"2017-10-26\",\"2017-10-27\",\"2017-10-28\",\"2017-10-29\",\"2017-10-30\",\"2017-10-31\",\"2017-11-01\",\"2017-11-02\",\"2017-11-03\",\"2017-11-04\",\"2017-11-05\",\"2017-11-06\",\"2017-11-07\",\"2017-11-08\",\"2017-11-09\",\"2017-11-10\",\"2017-11-11\",\"2017-11-12\",\"2017-11-13\",\"2017-11-14\",\"2017-11-15\",\"2017-11-16\",\"2017-11-17\",\"2017-11-18\",\"2017-11-19\",\"2017-11-20\",\"2017-11-21\",\"2017-11-22\",\"2017-11-23\",\"2017-11-24\",\"2017-11-25\",\"2017-11-26\",\"2017-11-27\",\"2017-11-28\",\"2017-11-29\",\"2017-11-30\",\"2017-12-01\",\"2017-12-02\",\"2017-12-03\",\"2017-12-04\",\"2017-12-05\",\"2017-12-06\",\"2017-12-07\",\"2017-12-08\",\"2017-12-09\",\"2017-12-10\",\"2017-12-11\",\"2017-12-12\",\"2017-12-13\",\"2017-12-14\",\"2017-12-15\",\"2017-12-16\",\"2017-12-17\",\"2017-12-18\",\"2017-12-19\",\"2017-12-20\",\"2017-12-21\",\"2017-12-22\",\"2017-12-23\",\"2017-12-24\",\"2017-12-25\",\"2017-12-26\",\"2017-12-27\",\"2017-12-28\",\"2017-12-29\",\"2017-12-30\",\"2017-12-31\",\"2018-01-01\",\"2018-01-02\",\"2018-01-03\",\"2018-01-04\",\"2018-01-05\",\"2018-01-06\",\"2018-01-07\",\"2018-01-08\",\"2018-01-09\",\"2018-01-10\",\"2018-01-11\",\"2018-01-12\",\"2018-01-13\",\"2018-01-14\",\"2018-01-15\",\"2018-01-16\",\"2018-01-17\",\"2018-01-18\",\"2018-01-19\",\"2018-01-20\",\"2018-01-21\",\"2018-01-22\",\"2018-01-23\",\"2018-01-24\",\"2018-01-25\",\"2018-01-26\",\"2018-01-27\",\"2018-01-28\",\"2018-01-29\",\"2018-01-30\",\"2018-01-31\",\"2018-02-01\",\"2018-02-02\",\"2018-02-03\",\"2018-02-04\",\"2018-02-05\",\"2018-02-06\",\"2018-02-07\",\"2018-02-08\",\"2018-02-09\",\"2018-02-10\",\"2018-02-11\",\"2018-02-12\",\"2018-02-13\",\"2018-02-14\",\"2018-02-15\",\"2018-02-16\",\"2018-02-17\",\"2018-02-18\",\"2018-02-19\",\"2018-02-20\",\"2018-02-21\",\"2018-02-22\",\"2018-02-23\",\"2018-02-24\",\"2018-02-25\",\"2018-02-26\",\"2018-02-27\",\"2018-02-28\",\"2018-03-01\",\"2018-03-02\",\"2018-03-03\",\"2018-03-04\",\"2018-03-05\",\"2018-03-06\",\"2018-03-07\",\"2018-03-08\",\"2018-03-09\",\"2018-03-10\",\"2018-03-11\",\"2018-03-12\",\"2018-03-13\",\"2018-03-14\",\"2018-03-15\",\"2018-03-16\",\"2018-03-17\",\"2018-03-18\",\"2018-03-19\",\"2018-03-20\",\"2018-03-21\",\"2018-03-22\",\"2018-03-23\",\"2018-03-24\",\"2018-03-25\",\"2018-03-26\",\"2018-03-27\",\"2018-03-28\",\"2018-03-29\",\"2018-03-30\",\"2018-03-31\",\"2018-04-01\",\"2018-04-02\",\"2018-04-03\",\"2018-04-04\",\"2018-04-05\",\"2018-04-06\",\"2018-04-07\",\"2018-04-08\",\"2018-04-09\",\"2018-04-10\",\"2018-04-11\",\"2018-04-12\",\"2018-04-13\",\"2018-04-14\",\"2018-04-15\",\"2018-04-16\",\"2018-04-17\",\"2018-04-18\",\"2018-04-19\",\"2018-04-20\",\"2018-04-21\",\"2018-04-22\",\"2018-04-23\",\"2018-04-24\",\"2018-04-25\",\"2018-04-26\",\"2018-04-27\",\"2018-04-28\",\"2018-04-29\",\"2018-04-30\",\"2018-05-01\",\"2018-05-02\",\"2018-05-03\",\"2018-05-04\",\"2018-05-05\",\"2018-05-06\",\"2018-05-07\",\"2018-05-08\",\"2018-05-09\",\"2018-05-10\",\"2018-05-11\",\"2018-05-12\",\"2018-05-13\",\"2018-05-14\",\"2018-05-15\",\"2018-05-16\",\"2018-05-17\",\"2018-05-18\",\"2018-05-19\",\"2018-05-20\",\"2018-05-21\",\"2018-05-22\",\"2018-05-23\",\"2018-05-24\",\"2018-05-25\",\"2018-05-26\",\"2018-05-27\",\"2018-05-28\",\"2018-05-29\",\"2018-05-30\",\"2018-05-31\",\"2018-06-01\",\"2018-06-02\",\"2018-06-03\",\"2018-06-04\",\"2018-06-05\",\"2018-06-06\",\"2018-06-07\",\"2018-06-08\",\"2018-06-09\",\"2018-06-10\",\"2018-06-11\",\"2018-06-12\",\"2018-06-13\",\"2018-06-14\",\"2018-06-15\",\"2018-06-16\",\"2018-06-17\",\"2018-06-18\",\"2018-06-19\",\"2018-06-20\",\"2018-06-21\",\"2018-06-22\",\"2018-06-23\",\"2018-06-24\",\"2018-06-25\",\"2018-06-26\",\"2018-06-27\",\"2018-06-28\",\"2018-06-29\",\"2018-06-30\",\"2018-07-01\",\"2018-07-02\",\"2018-07-03\",\"2018-07-04\",\"2018-07-05\",\"2018-07-06\",\"2018-07-07\",\"2018-07-08\",\"2018-07-09\",\"2018-07-10\",\"2018-07-11\",\"2018-07-12\",\"2018-07-13\",\"2018-07-14\",\"2018-07-15\",\"2018-07-16\",\"2018-07-17\",\"2018-07-18\",\"2018-07-19\",\"2018-07-20\",\"2018-07-21\",\"2018-07-22\",\"2018-07-23\",\"2018-07-24\",\"2018-07-25\",\"2018-07-26\",\"2018-07-27\",\"2018-07-28\",\"2018-07-29\",\"2018-07-30\",\"2018-07-31\",\"2018-08-01\",\"2018-08-02\",\"2018-08-03\",\"2018-08-04\",\"2018-08-05\",\"2018-08-06\",\"2018-08-07\",\"2018-08-08\",\"2018-08-09\",\"2018-08-10\",\"2018-08-11\",\"2018-08-12\",\"2018-08-13\",\"2018-08-14\",\"2018-08-15\",\"2018-08-16\",\"2018-08-17\",\"2018-08-18\",\"2018-08-19\",\"2018-08-20\",\"2018-08-21\",\"2018-08-22\",\"2018-08-23\",\"2018-08-24\",\"2018-08-25\",\"2018-08-26\",\"2018-08-27\",\"2018-08-28\",\"2018-08-29\",\"2018-08-30\",\"2018-08-31\",\"2018-09-01\",\"2018-09-02\",\"2018-09-03\",\"2018-09-04\",\"2018-09-05\",\"2018-09-06\",\"2018-09-07\",\"2018-09-08\",\"2018-09-09\",\"2018-09-10\",\"2018-09-11\",\"2018-09-12\",\"2018-09-13\",\"2018-09-14\",\"2018-09-15\",\"2018-09-16\",\"2018-09-17\",\"2018-09-18\",\"2018-09-19\",\"2018-09-20\",\"2018-09-21\",\"2018-09-22\",\"2018-09-23\",\"2018-09-24\",\"2018-09-25\",\"2018-09-26\",\"2018-09-27\",\"2018-09-28\",\"2018-09-29\",\"2018-09-30\",\"2018-10-01\",\"2018-10-02\",\"2018-10-03\",\"2018-10-04\",\"2018-10-05\",\"2018-10-06\",\"2018-10-07\",\"2018-10-08\",\"2018-10-09\",\"2018-10-10\",\"2018-10-11\",\"2018-10-12\",\"2018-10-13\",\"2018-10-14\",\"2018-10-15\",\"2018-10-16\",\"2018-10-17\",\"2018-10-18\",\"2018-10-19\",\"2018-10-20\",\"2018-10-21\",\"2018-10-22\",\"2018-10-23\",\"2018-10-24\",\"2018-10-25\",\"2018-10-26\",\"2018-10-27\",\"2018-10-28\",\"2018-10-29\",\"2018-10-30\",\"2018-10-31\",\"2018-11-01\",\"2018-11-02\",\"2018-11-03\",\"2018-11-04\",\"2018-11-05\",\"2018-11-06\",\"2018-11-07\",\"2018-11-08\",\"2018-11-09\",\"2018-11-10\",\"2018-11-11\",\"2018-11-12\",\"2018-11-13\",\"2018-11-14\",\"2018-11-15\",\"2018-11-16\",\"2018-11-17\",\"2018-11-18\",\"2018-11-19\",\"2018-11-20\",\"2018-11-21\",\"2018-11-22\",\"2018-11-23\",\"2018-11-24\",\"2018-11-25\",\"2018-11-26\",\"2018-11-27\",\"2018-11-28\",\"2018-11-29\",\"2018-11-30\",\"2018-12-01\",\"2018-12-02\",\"2018-12-03\",\"2018-12-04\",\"2018-12-05\",\"2018-12-06\",\"2018-12-07\",\"2018-12-08\",\"2018-12-09\",\"2018-12-10\",\"2018-12-11\",\"2018-12-12\",\"2018-12-13\",\"2018-12-14\",\"2018-12-15\",\"2018-12-16\",\"2018-12-17\",\"2018-12-18\",\"2018-12-19\",\"2018-12-20\",\"2018-12-21\",\"2018-12-22\",\"2018-12-23\",\"2018-12-24\",\"2018-12-25\",\"2018-12-26\",\"2018-12-27\",\"2018-12-28\",\"2018-12-29\",\"2018-12-30\",\"2018-12-31\",\"2019-01-01\",\"2019-01-02\",\"2019-01-03\",\"2019-01-04\",\"2019-01-05\",\"2019-01-06\",\"2019-01-07\",\"2019-01-08\",\"2019-01-09\",\"2019-01-10\",\"2019-01-11\",\"2019-01-12\",\"2019-01-13\",\"2019-01-14\",\"2019-01-15\",\"2019-01-16\",\"2019-01-17\",\"2019-01-18\",\"2019-01-19\",\"2019-01-20\",\"2019-01-21\",\"2019-01-22\",\"2019-01-23\",\"2019-01-24\",\"2019-01-25\",\"2019-01-26\",\"2019-01-27\",\"2019-01-28\",\"2019-01-29\",\"2019-01-30\",\"2019-01-31\",\"2019-02-01\",\"2019-02-02\",\"2019-02-03\",\"2019-02-04\",\"2019-02-05\",\"2019-02-06\",\"2019-02-07\",\"2019-02-08\",\"2019-02-09\",\"2019-02-10\",\"2019-02-11\",\"2019-02-12\",\"2019-02-13\",\"2019-02-14\",\"2019-02-15\",\"2019-02-16\",\"2019-02-17\",\"2019-02-18\",\"2019-02-19\",\"2019-02-20\",\"2019-02-21\",\"2019-02-22\",\"2019-02-23\",\"2019-02-24\",\"2019-02-25\",\"2019-02-26\",\"2019-02-27\",\"2019-02-28\",\"2019-03-01\",\"2019-03-02\",\"2019-03-03\",\"2019-03-04\",\"2019-03-05\",\"2019-03-06\",\"2019-03-07\",\"2019-03-08\",\"2019-03-09\",\"2019-03-10\",\"2019-03-11\",\"2019-03-12\",\"2019-03-13\",\"2019-03-14\",\"2019-03-15\",\"2019-03-16\",\"2019-03-17\",\"2019-03-18\",\"2019-03-19\",\"2019-03-20\",\"2019-03-21\",\"2019-03-22\",\"2019-03-23\",\"2019-03-24\",\"2019-03-25\",\"2019-03-26\",\"2019-03-27\",\"2019-03-28\",\"2019-03-29\",\"2019-03-30\",\"2019-03-31\",\"2019-04-01\",\"2019-04-02\",\"2019-04-03\",\"2019-04-04\",\"2019-04-05\",\"2019-04-06\",\"2019-04-07\",\"2019-04-08\",\"2019-04-09\",\"2019-04-10\",\"2019-04-11\",\"2019-04-12\",\"2019-04-13\",\"2019-04-14\",\"2019-04-15\",\"2019-04-16\",\"2019-04-17\",\"2019-04-18\",\"2019-04-19\",\"2019-04-20\",\"2019-04-21\",\"2019-04-22\",\"2019-04-23\",\"2019-04-24\",\"2019-04-25\",\"2019-04-26\",\"2019-04-27\",\"2019-04-28\",\"2019-04-29\",\"2019-04-30\",\"2019-05-01\",\"2019-05-02\",\"2019-05-03\",\"2019-05-04\",\"2019-05-05\",\"2019-05-06\",\"2019-05-07\",\"2019-05-08\",\"2019-05-09\",\"2019-05-10\",\"2019-05-11\",\"2019-05-12\",\"2019-05-13\",\"2019-05-14\",\"2019-05-15\",\"2019-05-16\",\"2019-05-17\",\"2019-05-18\",\"2019-05-19\",\"2019-05-20\",\"2019-05-21\",\"2019-05-22\",\"2019-05-23\",\"2019-05-24\",\"2019-05-25\",\"2019-05-26\",\"2019-05-27\",\"2019-05-28\",\"2019-05-29\",\"2019-05-30\",\"2019-05-31\",\"2019-06-01\",\"2019-06-02\",\"2019-06-03\",\"2019-06-04\",\"2019-06-05\",\"2019-06-06\",\"2019-06-07\",\"2019-06-08\",\"2019-06-09\",\"2019-06-10\",\"2019-06-11\",\"2019-06-12\",\"2019-06-13\",\"2019-06-14\",\"2019-06-15\",\"2019-06-16\",\"2019-06-17\",\"2019-06-18\",\"2019-06-19\",\"2019-06-20\",\"2019-06-21\",\"2019-06-22\",\"2019-06-23\",\"2019-06-24\",\"2019-06-25\",\"2019-06-26\",\"2019-06-27\",\"2019-06-28\",\"2019-06-29\",\"2019-06-30\",\"2019-07-01\",\"2019-07-02\",\"2019-07-03\",\"2019-07-04\",\"2019-07-05\",\"2019-07-06\",\"2019-07-07\",\"2019-07-08\",\"2019-07-09\",\"2019-07-10\",\"2019-07-11\",\"2019-07-12\",\"2019-07-13\",\"2019-07-14\",\"2019-07-15\",\"2019-07-16\",\"2019-07-17\",\"2019-07-18\",\"2019-07-19\",\"2019-07-20\",\"2019-07-21\",\"2019-07-22\",\"2019-07-23\",\"2019-07-24\",\"2019-07-25\",\"2019-07-26\",\"2019-07-27\",\"2019-07-28\",\"2019-07-29\",\"2019-07-30\",\"2019-07-31\",\"2019-08-01\",\"2019-08-02\",\"2019-08-03\",\"2019-08-04\",\"2019-08-05\",\"2019-08-06\",\"2019-08-07\",\"2019-08-08\",\"2019-08-09\",\"2019-08-10\",\"2019-08-11\",\"2019-08-12\",\"2019-08-13\",\"2019-08-14\",\"2019-08-15\",\"2019-08-16\",\"2019-08-17\",\"2019-08-18\",\"2019-08-19\",\"2019-08-20\",\"2019-08-21\",\"2019-08-22\",\"2019-08-23\",\"2019-08-24\",\"2019-08-25\",\"2019-08-26\",\"2019-08-27\",\"2019-08-28\",\"2019-08-29\",\"2019-08-30\",\"2019-08-31\",\"2019-09-01\",\"2019-09-02\",\"2019-09-03\",\"2019-09-04\",\"2019-09-05\",\"2019-09-06\",\"2019-09-07\",\"2019-09-08\",\"2019-09-09\",\"2019-09-10\",\"2019-09-11\",\"2019-09-12\",\"2019-09-13\",\"2019-09-14\",\"2019-09-15\",\"2019-09-16\",\"2019-09-17\",\"2019-09-18\",\"2019-09-19\",\"2019-09-20\",\"2019-09-21\",\"2019-09-22\",\"2019-09-23\",\"2019-09-24\",\"2019-09-25\",\"2019-09-26\",\"2019-09-27\",\"2019-09-28\",\"2019-09-29\",\"2019-09-30\",\"2019-10-01\",\"2019-10-02\",\"2019-10-03\",\"2019-10-04\",\"2019-10-05\",\"2019-10-06\",\"2019-10-07\",\"2019-10-08\",\"2019-10-09\",\"2019-10-10\",\"2019-10-11\",\"2019-10-12\",\"2019-10-13\",\"2019-10-14\",\"2019-10-15\",\"2019-10-16\",\"2019-10-17\",\"2019-10-18\",\"2019-10-19\",\"2019-10-20\",\"2019-10-21\",\"2019-10-22\",\"2019-10-23\",\"2019-10-24\",\"2019-10-25\",\"2019-10-26\",\"2019-10-27\",\"2019-10-28\",\"2019-10-29\",\"2019-10-30\",\"2019-10-31\",\"2019-11-01\",\"2019-11-02\",\"2019-11-03\",\"2019-11-04\",\"2019-11-05\",\"2019-11-06\",\"2019-11-07\",\"2019-11-08\",\"2019-11-09\",\"2019-11-10\",\"2019-11-11\",\"2019-11-12\",\"2019-11-13\",\"2019-11-14\",\"2019-11-15\",\"2019-11-16\",\"2019-11-17\",\"2019-11-18\",\"2019-11-19\",\"2019-11-20\",\"2019-11-21\",\"2019-11-22\",\"2019-11-23\",\"2019-11-24\",\"2019-11-25\",\"2019-11-26\",\"2019-11-27\",\"2019-11-28\",\"2019-11-29\",\"2019-11-30\",\"2019-12-01\",\"2019-12-02\",\"2019-12-03\",\"2019-12-04\",\"2019-12-05\",\"2019-12-06\",\"2019-12-07\",\"2019-12-08\",\"2019-12-09\",\"2019-12-10\",\"2019-12-11\",\"2019-12-12\",\"2019-12-13\",\"2019-12-14\",\"2019-12-15\",\"2019-12-16\",\"2019-12-17\",\"2019-12-18\",\"2019-12-19\",\"2019-12-20\",\"2019-12-21\",\"2019-12-22\",\"2019-12-23\",\"2019-12-24\",\"2019-12-25\",\"2019-12-26\",\"2019-12-27\",\"2019-12-28\",\"2019-12-29\",\"2019-12-30\",\"2019-12-31\",\"2020-01-01\",\"2020-01-02\",\"2020-01-03\",\"2020-01-04\",\"2020-01-05\",\"2020-01-06\",\"2020-01-07\",\"2020-01-08\",\"2020-01-09\",\"2020-01-10\",\"2020-01-11\",\"2020-01-12\",\"2020-01-13\",\"2020-01-14\",\"2020-01-15\",\"2020-01-16\",\"2020-01-17\",\"2020-01-18\",\"2020-01-19\",\"2020-01-20\",\"2020-01-21\",\"2020-01-22\",\"2020-01-23\",\"2020-01-24\",\"2020-01-25\",\"2020-01-26\",\"2020-01-27\",\"2020-01-28\",\"2020-01-29\",\"2020-01-30\",\"2020-01-31\",\"2020-02-01\",\"2020-02-02\",\"2020-02-03\",\"2020-02-04\",\"2020-02-05\",\"2020-02-06\",\"2020-02-07\",\"2020-02-08\",\"2020-02-09\",\"2020-02-10\",\"2020-02-11\",\"2020-02-12\",\"2020-02-13\",\"2020-02-14\",\"2020-02-15\",\"2020-02-16\",\"2020-02-17\",\"2020-02-18\",\"2020-02-19\",\"2020-02-20\",\"2020-02-21\",\"2020-02-22\",\"2020-02-23\",\"2020-02-24\",\"2020-02-25\",\"2020-02-26\",\"2020-02-27\",\"2020-02-28\",\"2020-02-29\",\"2020-03-01\",\"2020-03-02\",\"2020-03-03\",\"2020-03-04\",\"2020-03-05\",\"2020-03-06\",\"2020-03-07\",\"2020-03-08\",\"2020-03-09\",\"2020-03-10\",\"2020-03-11\",\"2020-03-12\",\"2020-03-13\",\"2020-03-14\",\"2020-03-15\",\"2020-03-16\",\"2020-03-17\",\"2020-03-18\",\"2020-03-19\",\"2020-03-20\",\"2020-03-21\",\"2020-03-22\",\"2020-03-23\",\"2020-03-24\",\"2020-03-25\",\"2020-03-26\",\"2020-03-27\",\"2020-03-28\",\"2020-03-29\",\"2020-03-30\",\"2020-03-31\",\"2020-04-01\",\"2020-04-02\",\"2020-04-03\",\"2020-04-04\",\"2020-04-05\",\"2020-04-06\",\"2020-04-07\",\"2020-04-08\",\"2020-04-09\",\"2020-04-10\",\"2020-04-11\",\"2020-04-12\",\"2020-04-13\",\"2020-04-14\",\"2020-04-15\",\"2020-04-16\",\"2020-04-17\",\"2020-04-18\",\"2020-04-19\",\"2020-04-20\",\"2020-04-21\",\"2020-04-22\",\"2020-04-23\",\"2020-04-24\",\"2020-04-25\",\"2020-04-26\",\"2020-04-27\",\"2020-04-28\",\"2020-04-29\",\"2020-04-30\",\"2020-05-01\",\"2020-05-02\",\"2020-05-03\",\"2020-05-04\",\"2020-05-05\",\"2020-05-06\",\"2020-05-07\",\"2020-05-08\",\"2020-05-09\",\"2020-05-10\",\"2020-05-11\",\"2020-05-12\",\"2020-05-13\",\"2020-05-14\",\"2020-05-15\",\"2020-05-16\",\"2020-05-17\",\"2020-05-18\",\"2020-05-19\",\"2020-05-20\",\"2020-05-21\",\"2020-05-22\",\"2020-05-23\",\"2020-05-24\",\"2020-05-25\",\"2020-05-26\",\"2020-05-27\",\"2020-05-28\",\"2020-05-29\",\"2020-05-30\",\"2020-05-31\",\"2020-06-01\",\"2020-06-02\",\"2020-06-03\",\"2020-06-04\",\"2020-06-05\",\"2020-06-06\",\"2020-06-07\",\"2020-06-08\",\"2020-06-09\",\"2020-06-10\",\"2020-06-11\",\"2020-06-12\",\"2020-06-13\",\"2020-06-14\",\"2020-06-15\",\"2020-06-16\",\"2020-06-17\",\"2020-06-18\",\"2020-06-19\",\"2020-06-20\",\"2020-06-21\",\"2020-06-22\",\"2020-06-23\",\"2020-06-24\",\"2020-06-25\",\"2020-06-26\",\"2020-06-27\",\"2020-06-28\",\"2020-06-29\",\"2020-06-30\",\"2020-07-01\",\"2020-07-02\",\"2020-07-03\",\"2020-07-04\",\"2020-07-05\",\"2020-07-06\",\"2020-07-07\",\"2020-07-08\",\"2020-07-09\",\"2020-07-10\",\"2020-07-11\",\"2020-07-12\",\"2020-07-13\",\"2020-07-14\",\"2020-07-15\",\"2020-07-16\",\"2020-07-17\",\"2020-07-18\",\"2020-07-19\",\"2020-07-20\",\"2020-07-21\",\"2020-07-22\",\"2020-07-23\",\"2020-07-24\",\"2020-07-25\",\"2020-07-26\",\"2020-07-27\",\"2020-07-28\",\"2020-07-29\",\"2020-07-30\",\"2020-07-31\",\"2020-08-01\",\"2020-08-02\",\"2020-08-03\",\"2020-08-04\",\"2020-08-05\",\"2020-08-06\",\"2020-08-07\",\"2020-08-08\",\"2020-08-09\",\"2020-08-10\",\"2020-08-11\",\"2020-08-12\",\"2020-08-13\",\"2020-08-14\",\"2020-08-15\",\"2020-08-16\",\"2020-08-17\",\"2020-08-18\",\"2020-08-19\",\"2020-08-20\",\"2020-08-21\",\"2020-08-22\",\"2020-08-23\",\"2020-08-24\",\"2020-08-25\",\"2020-08-26\",\"2020-08-27\",\"2020-08-28\",\"2020-08-29\",\"2020-08-30\",\"2020-08-31\",\"2020-09-01\",\"2020-09-02\",\"2020-09-03\",\"2020-09-04\",\"2020-09-05\",\"2020-09-06\",\"2020-09-07\",\"2020-09-08\",\"2020-09-09\",\"2020-09-10\",\"2020-09-11\",\"2020-09-12\",\"2020-09-13\",\"2020-09-14\",\"2020-09-15\",\"2020-09-16\",\"2020-09-17\",\"2020-09-18\",\"2020-09-19\",\"2020-09-20\",\"2020-09-21\",\"2020-09-22\",\"2020-09-23\",\"2020-09-24\",\"2020-09-25\",\"2020-09-26\",\"2020-09-27\",\"2020-09-28\",\"2020-09-29\",\"2020-09-30\",\"2020-10-01\",\"2020-10-02\",\"2020-10-03\",\"2020-10-04\",\"2020-10-05\",\"2020-10-06\",\"2020-10-07\",\"2020-10-08\",\"2020-10-09\",\"2020-10-10\",\"2020-10-11\",\"2020-10-12\",\"2020-10-13\",\"2020-10-14\",\"2020-10-15\",\"2020-10-16\",\"2020-10-17\",\"2020-10-18\",\"2020-10-19\",\"2020-10-20\",\"2020-10-21\",\"2020-10-22\",\"2020-10-23\",\"2020-10-24\",\"2020-10-25\",\"2020-10-26\",\"2020-10-27\",\"2020-10-28\",\"2020-10-29\",\"2020-10-30\",\"2020-10-31\",\"2020-11-01\",\"2020-11-02\",\"2020-11-03\",\"2020-11-04\",\"2020-11-05\",\"2020-11-06\",\"2020-11-07\",\"2020-11-08\",\"2020-11-09\",\"2020-11-10\",\"2020-11-11\",\"2020-11-12\",\"2020-11-13\",\"2020-11-14\",\"2020-11-15\",\"2020-11-16\",\"2020-11-17\",\"2020-11-18\",\"2020-11-19\",\"2020-11-20\",\"2020-11-21\",\"2020-11-22\",\"2020-11-23\",\"2020-11-24\",\"2020-11-25\",\"2020-11-26\",\"2020-11-27\",\"2020-11-28\",\"2020-11-29\",\"2020-11-30\",\"2020-12-01\",\"2020-12-02\",\"2020-12-03\",\"2020-12-04\",\"2020-12-05\",\"2020-12-06\",\"2020-12-07\",\"2020-12-08\",\"2020-12-09\",\"2020-12-10\",\"2020-12-11\",\"2020-12-12\",\"2020-12-13\",\"2020-12-14\",\"2020-12-15\",\"2020-12-16\",\"2020-12-17\",\"2020-12-18\",\"2020-12-19\",\"2020-12-20\",\"2020-12-21\",\"2020-12-22\",\"2020-12-23\",\"2020-12-24\",\"2020-12-25\",\"2020-12-26\",\"2020-12-27\",\"2020-12-28\",\"2020-12-29\",\"2020-12-30\",\"2020-12-31\",\"2021-01-01\",\"2021-01-02\",\"2021-01-03\",\"2021-01-04\",\"2021-01-05\",\"2021-01-06\",\"2021-01-07\",\"2021-01-08\",\"2021-01-09\",\"2021-01-10\",\"2021-01-11\",\"2021-01-12\",\"2021-01-13\",\"2021-01-14\",\"2021-01-15\",\"2021-01-16\",\"2021-01-17\",\"2021-01-18\",\"2021-01-19\",\"2021-01-20\",\"2021-01-21\",\"2021-01-22\",\"2021-01-23\",\"2021-01-24\",\"2021-01-25\",\"2021-01-26\",\"2021-01-27\",\"2021-01-28\",\"2021-01-29\",\"2021-01-30\",\"2021-01-31\",\"2021-02-01\",\"2021-02-02\",\"2021-02-03\",\"2021-02-04\",\"2021-02-05\",\"2021-02-06\",\"2021-02-07\",\"2021-02-08\",\"2021-02-09\",\"2021-02-10\",\"2021-02-11\",\"2021-02-12\",\"2021-02-13\",\"2021-02-14\",\"2021-02-15\",\"2021-02-16\",\"2021-02-17\",\"2021-02-18\",\"2021-02-19\",\"2021-02-20\",\"2021-02-21\",\"2021-02-22\",\"2021-02-23\",\"2021-02-24\",\"2021-02-25\",\"2021-02-26\",\"2021-02-27\",\"2021-02-28\",\"2021-03-01\",\"2021-03-02\",\"2021-03-03\",\"2021-03-04\",\"2021-03-05\",\"2021-03-06\",\"2021-03-07\",\"2021-03-08\",\"2021-03-09\",\"2021-03-10\",\"2021-03-11\",\"2021-03-12\",\"2021-03-13\",\"2021-03-14\",\"2021-03-15\",\"2021-03-16\",\"2021-03-17\",\"2021-03-18\",\"2021-03-19\",\"2021-03-20\",\"2021-03-21\",\"2021-03-22\",\"2021-03-23\",\"2021-03-24\",\"2021-03-25\",\"2021-03-26\",\"2021-03-27\",\"2021-03-28\",\"2021-03-29\",\"2021-03-30\",\"2021-03-31\",\"2021-04-01\",\"2021-04-02\",\"2021-04-03\",\"2021-04-04\",\"2021-04-05\",\"2021-04-06\",\"2021-04-07\",\"2021-04-08\",\"2021-04-09\",\"2021-04-10\",\"2021-04-11\",\"2021-04-12\",\"2021-04-13\",\"2021-04-14\",\"2021-04-15\",\"2021-04-16\",\"2021-04-17\",\"2021-04-18\",\"2021-04-19\",\"2021-04-20\",\"2021-04-21\",\"2021-04-22\",\"2021-04-23\",\"2021-04-24\",\"2021-04-25\",\"2021-04-26\",\"2021-04-27\",\"2021-04-28\",\"2021-04-29\",\"2021-04-30\",\"2021-05-01\",\"2021-05-02\",\"2021-05-03\",\"2021-05-04\",\"2021-05-05\",\"2021-05-06\",\"2021-05-07\",\"2021-05-08\",\"2021-05-09\",\"2021-05-10\",\"2021-05-11\",\"2021-05-12\",\"2021-05-13\",\"2021-05-14\",\"2021-05-15\",\"2021-05-16\",\"2021-05-17\",\"2021-05-18\",\"2021-05-19\",\"2021-05-20\",\"2021-05-21\",\"2021-05-22\",\"2021-05-23\",\"2021-05-24\",\"2021-05-25\",\"2021-05-26\",\"2021-05-27\",\"2021-05-28\",\"2021-05-29\",\"2021-05-30\",\"2021-05-31\",\"2021-06-01\",\"2021-06-02\",\"2021-06-03\",\"2021-06-04\",\"2021-06-05\",\"2021-06-06\",\"2021-06-07\",\"2021-06-08\",\"2021-06-09\",\"2021-06-10\",\"2021-06-11\",\"2021-06-12\",\"2021-06-13\",\"2021-06-14\",\"2021-06-15\",\"2021-06-16\",\"2021-06-17\",\"2021-06-18\",\"2021-06-19\",\"2021-06-20\",\"2021-06-21\",\"2021-06-22\",\"2021-06-23\",\"2021-06-24\",\"2021-06-25\",\"2021-06-26\",\"2021-06-27\",\"2021-06-28\",\"2021-06-29\",\"2021-06-30\",\"2021-07-01\",\"2021-07-02\",\"2021-07-03\",\"2021-07-04\",\"2021-07-05\",\"2021-07-06\",\"2021-07-07\",\"2021-07-08\",\"2021-07-09\",\"2021-07-10\",\"2021-07-11\",\"2021-07-12\",\"2021-07-13\",\"2021-07-14\",\"2021-07-15\",\"2021-07-16\",\"2021-07-17\",\"2021-07-18\",\"2021-07-19\",\"2021-07-20\",\"2021-07-21\",\"2021-07-22\",\"2021-07-23\",\"2021-07-24\",\"2021-07-25\",\"2021-07-26\",\"2021-07-27\",\"2021-07-28\",\"2021-07-29\",\"2021-07-30\",\"2021-07-31\",\"2021-08-01\",\"2021-08-02\",\"2021-08-03\",\"2021-08-04\",\"2021-08-05\",\"2021-08-06\",\"2021-08-07\",\"2021-08-08\",\"2021-08-09\",\"2021-08-10\",\"2021-08-11\",\"2021-08-12\",\"2021-08-13\",\"2021-08-14\",\"2021-08-15\",\"2021-08-16\",\"2021-08-17\",\"2021-08-18\",\"2021-08-19\",\"2021-08-20\",\"2021-08-21\",\"2021-08-22\",\"2021-08-23\",\"2021-08-24\",\"2021-08-25\",\"2021-08-26\",\"2021-08-27\",\"2021-08-28\",\"2021-08-29\",\"2021-08-30\",\"2021-08-31\",\"2021-09-01\",\"2021-09-02\",\"2021-09-03\",\"2021-09-04\",\"2021-09-05\",\"2021-09-06\",\"2021-09-07\",\"2021-09-08\",\"2021-09-09\",\"2021-09-10\",\"2021-09-11\",\"2021-09-12\",\"2021-09-13\",\"2021-09-14\",\"2021-09-15\",\"2021-09-16\",\"2021-09-17\",\"2021-09-18\",\"2021-09-19\",\"2021-09-20\",\"2021-09-21\",\"2021-09-22\",\"2021-09-23\",\"2021-09-24\",\"2021-09-25\",\"2021-09-26\",\"2021-09-27\",\"2021-09-28\",\"2021-09-29\",\"2021-09-30\",\"2021-10-01\",\"2021-10-02\",\"2021-10-03\",\"2021-10-04\",\"2021-10-05\",\"2021-10-06\",\"2021-10-07\",\"2021-10-08\",\"2021-10-09\",\"2021-10-10\",\"2021-10-11\",\"2021-10-12\",\"2021-10-13\",\"2021-10-14\",\"2021-10-15\",\"2021-10-16\",\"2021-10-17\",\"2021-10-18\",\"2021-10-19\",\"2021-10-20\",\"2021-10-21\",\"2021-10-22\",\"2021-10-23\",\"2021-10-24\",\"2021-10-25\",\"2021-10-26\",\"2021-10-27\",\"2021-10-28\",\"2021-10-29\",\"2021-10-30\",\"2021-10-31\",\"2021-11-01\",\"2021-11-02\",\"2021-11-03\",\"2021-11-04\",\"2021-11-05\",\"2021-11-06\",\"2021-11-07\",\"2021-11-08\",\"2021-11-09\",\"2021-11-10\",\"2021-11-11\",\"2021-11-12\",\"2021-11-13\",\"2021-11-14\",\"2021-11-15\",\"2021-11-16\",\"2021-11-17\",\"2021-11-18\",\"2021-11-19\",\"2021-11-20\",\"2021-11-21\",\"2021-11-22\",\"2021-11-23\",\"2021-11-24\",\"2021-11-25\",\"2021-11-26\",\"2021-11-27\",\"2021-11-28\",\"2021-11-29\",\"2021-11-30\",\"2021-12-01\",\"2021-12-02\",\"2021-12-03\",\"2021-12-04\",\"2021-12-05\",\"2021-12-06\",\"2021-12-07\",\"2021-12-08\",\"2021-12-09\",\"2021-12-10\",\"2021-12-11\",\"2021-12-12\",\"2021-12-13\",\"2021-12-14\",\"2021-12-15\",\"2021-12-16\",\"2021-12-17\",\"2021-12-18\",\"2021-12-19\",\"2021-12-20\",\"2021-12-21\",\"2021-12-22\",\"2021-12-23\",\"2021-12-24\",\"2021-12-25\",\"2021-12-26\",\"2021-12-27\",\"2021-12-28\",\"2021-12-29\",\"2021-12-30\",\"2021-12-31\",\"2022-01-01\",\"2022-01-02\",\"2022-01-03\",\"2022-01-04\",\"2022-01-05\",\"2022-01-06\",\"2022-01-07\",\"2022-01-08\",\"2022-01-09\",\"2022-01-10\",\"2022-01-11\",\"2022-01-12\",\"2022-01-13\",\"2022-01-14\",\"2022-01-15\",\"2022-01-16\",\"2022-01-17\",\"2022-01-18\",\"2022-01-19\",\"2022-01-20\",\"2022-01-21\",\"2022-01-22\",\"2022-01-23\",\"2022-01-24\",\"2022-01-25\",\"2022-01-26\",\"2022-01-27\",\"2022-01-28\",\"2022-01-29\",\"2022-01-30\",\"2022-01-31\",\"2022-02-01\",\"2022-02-02\",\"2022-02-03\",\"2022-02-04\",\"2022-02-05\",\"2022-02-06\",\"2022-02-07\",\"2022-02-08\",\"2022-02-09\",\"2022-02-10\",\"2022-02-11\",\"2022-02-12\",\"2022-02-13\",\"2022-02-14\",\"2022-02-15\",\"2022-02-16\",\"2022-02-17\",\"2022-02-18\",\"2022-02-19\",\"2022-02-20\",\"2022-02-21\",\"2022-02-22\",\"2022-02-23\",\"2022-02-24\",\"2022-02-25\",\"2022-02-26\",\"2022-02-27\",\"2022-02-28\",\"2022-03-01\",\"2022-03-02\",\"2022-03-03\",\"2022-03-04\",\"2022-03-05\",\"2022-03-06\",\"2022-03-07\",\"2022-03-08\",\"2022-03-09\",\"2022-03-10\",\"2022-03-11\",\"2022-03-12\",\"2022-03-13\",\"2022-03-14\",\"2022-03-15\",\"2022-03-16\",\"2022-03-17\",\"2022-03-18\",\"2022-03-19\",\"2022-03-20\",\"2022-03-21\",\"2022-03-22\",\"2022-03-23\",\"2022-03-24\",\"2022-03-25\",\"2022-03-26\",\"2022-03-27\",\"2022-03-28\",\"2022-03-29\",\"2022-03-30\",\"2022-03-31\",\"2022-04-01\",\"2022-04-02\",\"2022-04-03\",\"2022-04-04\",\"2022-04-05\",\"2022-04-06\",\"2022-04-07\",\"2022-04-08\",\"2022-04-09\",\"2022-04-10\",\"2022-04-11\",\"2022-04-12\",\"2022-04-13\",\"2022-04-14\",\"2022-04-15\",\"2022-04-16\",\"2022-04-17\",\"2022-04-18\",\"2022-04-19\",\"2022-04-20\",\"2022-04-21\",\"2022-04-22\",\"2022-04-23\",\"2022-04-24\",\"2022-04-25\",\"2022-04-26\",\"2022-04-27\",\"2022-04-28\",\"2022-04-29\",\"2022-04-30\",\"2022-05-01\",\"2022-05-02\",\"2022-05-03\",\"2022-05-04\",\"2022-05-05\",\"2022-05-06\",\"2022-05-07\",\"2022-05-08\",\"2022-05-09\",\"2022-05-10\",\"2022-05-11\",\"2022-05-12\",\"2022-05-13\",\"2022-05-14\",\"2022-05-15\",\"2022-05-16\",\"2022-05-17\",\"2022-05-18\",\"2022-05-19\",\"2022-05-20\",\"2022-05-21\",\"2022-05-22\",\"2022-05-23\",\"2022-05-24\",\"2022-05-25\",\"2022-05-26\",\"2022-05-27\",\"2022-05-28\",\"2022-05-29\",\"2022-05-30\",\"2022-05-31\",\"2022-06-01\",\"2022-06-02\",\"2022-06-03\",\"2022-06-04\",\"2022-06-05\",\"2022-06-06\",\"2022-06-07\",\"2022-06-08\",\"2022-06-09\",\"2022-06-10\",\"2022-06-11\",\"2022-06-12\",\"2022-06-13\",\"2022-06-14\",\"2022-06-15\",\"2022-06-16\",\"2022-06-17\",\"2022-06-18\",\"2022-06-19\",\"2022-06-20\",\"2022-06-21\",\"2022-06-22\",\"2022-06-23\",\"2022-06-24\",\"2022-06-25\",\"2022-06-26\",\"2022-06-27\",\"2022-06-28\",\"2022-06-29\",\"2022-06-30\",\"2022-07-01\",\"2022-07-02\",\"2022-07-03\",\"2022-07-04\",\"2022-07-05\",\"2022-07-06\",\"2022-07-07\",\"2022-07-08\",\"2022-07-09\",\"2022-07-10\",\"2022-07-11\",\"2022-07-12\",\"2022-07-13\",\"2022-07-14\",\"2022-07-15\",\"2022-07-16\",\"2022-07-17\",\"2022-07-18\",\"2022-07-19\",\"2022-07-20\",\"2022-07-21\",\"2022-07-22\",\"2022-07-23\",\"2022-07-24\",\"2022-07-25\",\"2022-07-26\",\"2022-07-27\",\"2022-07-28\",\"2022-07-29\",\"2022-07-30\",\"2022-07-31\",\"2022-08-01\",\"2022-08-02\",\"2022-08-03\",\"2022-08-04\",\"2022-08-05\",\"2022-08-06\",\"2022-08-07\",\"2022-08-08\",\"2022-08-09\",\"2022-08-10\",\"2022-08-11\",\"2022-08-12\",\"2022-08-13\",\"2022-08-14\",\"2022-08-15\",\"2022-08-16\",\"2022-08-17\",\"2022-08-18\",\"2022-08-19\",\"2022-08-20\",\"2022-08-21\",\"2022-08-22\",\"2022-08-23\",\"2022-08-24\",\"2022-08-25\",\"2022-08-26\",\"2022-08-27\",\"2022-08-28\",\"2022-08-29\",\"2022-08-30\",\"2022-08-31\",\"2022-09-01\",\"2022-09-02\",\"2022-09-03\",\"2022-09-04\",\"2022-09-05\",\"2022-09-06\",\"2022-09-07\",\"2022-09-08\",\"2022-09-09\",\"2022-09-10\",\"2022-09-11\",\"2022-09-12\",\"2022-09-13\",\"2022-09-14\",\"2022-09-15\",\"2022-09-16\",\"2022-09-17\",\"2022-09-18\",\"2022-09-19\",\"2022-09-20\",\"2022-09-21\",\"2022-09-22\",\"2022-09-23\",\"2022-09-24\",\"2022-09-25\",\"2022-09-26\",\"2022-09-27\",\"2022-09-28\",\"2022-09-29\",\"2022-09-30\",\"2022-10-01\",\"2022-10-02\",\"2022-10-03\",\"2022-10-04\",\"2022-10-05\",\"2022-10-06\",\"2022-10-07\",\"2022-10-08\",\"2022-10-09\",\"2022-10-10\",\"2022-10-11\",\"2022-10-12\",\"2022-10-13\",\"2022-10-14\",\"2022-10-15\",\"2022-10-16\",\"2022-10-17\",\"2022-10-18\",\"2022-10-19\",\"2022-10-20\",\"2022-10-21\",\"2022-10-22\",\"2022-10-23\",\"2022-10-24\",\"2022-10-25\",\"2022-10-26\",\"2022-10-27\",\"2022-10-28\",\"2022-10-29\",\"2022-10-30\",\"2022-10-31\",\"2022-11-01\",\"2022-11-02\",\"2022-11-03\",\"2022-11-04\",\"2022-11-05\",\"2022-11-06\",\"2022-11-07\",\"2022-11-08\",\"2022-11-09\",\"2022-11-10\",\"2022-11-11\",\"2022-11-12\",\"2022-11-13\",\"2022-11-14\",\"2022-11-15\",\"2022-11-16\",\"2022-11-17\",\"2022-11-18\",\"2022-11-19\",\"2022-11-20\",\"2022-11-21\",\"2022-11-22\",\"2022-11-23\",\"2022-11-24\",\"2022-11-25\",\"2022-11-26\",\"2022-11-27\",\"2022-11-28\",\"2022-11-29\",\"2022-11-30\",\"2022-12-01\",\"2022-12-02\",\"2022-12-03\",\"2022-12-04\",\"2022-12-05\",\"2022-12-06\",\"2022-12-07\",\"2022-12-08\",\"2022-12-09\",\"2022-12-10\",\"2022-12-11\",\"2022-12-12\",\"2022-12-13\",\"2022-12-14\",\"2022-12-15\",\"2022-12-16\",\"2022-12-17\",\"2022-12-18\",\"2022-12-19\",\"2022-12-20\",\"2022-12-21\",\"2022-12-22\",\"2022-12-23\",\"2022-12-24\",\"2022-12-25\",\"2022-12-26\",\"2022-12-27\",\"2022-12-28\",\"2022-12-29\",\"2022-12-30\",\"2022-12-31\"],\"xaxis\":\"x\",\"y\":[93,62,54,59,72,68,81,79,80,64,57,83,76,79,65,73,87,83,68,73,67,69,63,77,58,64,66,66,65,82,80,72,73,69,78,66,61,76,62,62,82,84,68,91,73,77,65,56,85,98,81,64,77,91,75,69,68,80,77,63,72,79,76,69,83,77,73,67,86,72,73,60,65,71,70,68,86,73,80,62,66,71,82,78,72,83,89,82,82,51,73,71,102,85,70,63,94,75,72,91,90,79,76,77,67,91,74,65,57,72,65,89,95,77,75,93,79,99,73,72,81,96,74,83,83,87,95,84,93,97,88,93,75,94,82,83,83,75,82,104,76,77,68,75,101,79,87,110,81,84,90,85,86,82,69,87,72,92,95,103,86,89,84,79,74,92,90,97,69,98,96,91,78,98,92,60,89,85,100,85,90,91,84,87,86,70,71,82,70,84,88,78,83,78,64,83,89,98,89,84,80,97,84,90,75,73,102,80,79,59,67,77,71,74,85,83,93,91,72,77,86,96,92,95,91,63,75,85,83,85,81,96,80,95,82,83,80,77,76,96,76,76,97,87,79,105,89,80,91,93,82,90,75,80,91,87,80,80,99,99,91,98,87,95,98,82,77,81,91,89,90,88,82,87,70,84,77,82,91,87,79,85,100,70,58,62,112,91,71,108,88,102,95,99,97,105,79,99,77,99,95,78,74,100,101,94,114,97,114,83,91,78,70,94,87,111,75,107,84,83,66,95,79,81,110,79,94,88,79,84,80,91,66,64,76,84,91,72,78,76,82,95,82,76,73,69,62,84,82,76,92,88,77,68,79,73,83,60,58,57,69,57,75,75,73,117,66,77,73,82,80,57,62,79,66,67,85,70,72,73,82,78,76,80,73,69,74,76,84,78,75,62,64,57,62,74,70,70,60,65,82,73,68,75,68,84,55,61,64,87,62,64,75,84,69,62,67,56,69,56,67,68,65,72,79,79,75,72,72,66,67,65,86,60,70,83,75,83,81,83,71,67,89,68,78,76,101,56,77,70,72,58,64,67,93,77,78,76,78,92,67,77,90,89,99,75,92,85,80,80,61,99,82,81,77,83,79,85,89,81,74,79,89,77,78,91,79,83,95,83,81,108,74,91,86,74,96,84,78,90,84,64,74,100,91,83,93,68,89,90,76,96,80,96,97,86,91,87,93,78,91,78,77,87,103,103,89,103,81,90,82,87,81,88,83,79,78,92,91,105,70,86,98,92,107,85,76,92,75,74,71,89,93,76,80,69,79,83,96,88,91,90,104,89,101,105,92,89,74,91,84,93,85,82,86,90,102,73,81,82,108,81,83,95,84,96,85,91,94,70,107,99,96,106,71,94,85,81,94,89,81,82,65,85,104,65,97,92,94,74,87,88,102,72,78,95,86,86,94,84,79,88,96,115,74,112,94,96,80,95,93,99,83,104,90,92,76,74,78,70,84,90,92,96,75,89,82,104,86,73,89,78,91,95,73,76,88,81,90,102,80,77,95,84,96,80,87,95,94,119,98,82,108,99,99,94,77,102,93,93,83,93,94,75,128,94,80,89,96,79,79,84,74,87,88,87,75,67,73,83,68,87,88,69,99,94,70,97,92,100,84,85,79,81,100,111,90,80,67,69,70,85,68,63,60,65,86,72,69,76,103,64,70,61,81,83,72,79,72,68,78,73,66,74,90,75,82,88,73,96,72,70,73,87,103,86,79,75,79,70,84,74,73,76,78,76,79,75,95,91,72,73,76,92,67,67,75,67,85,91,93,87,87,83,64,71,68,86,75,76,79,73,88,78,80,83,83,98,97,80,77,95,76,96,80,82,88,92,70,90,73,83,84,70,48,70,93,80,98,67,73,91,69,72,71,80,81,85,72,77,71,91,92,81,90,74,93,76,92,99,103,94,94,74,76,106,70,80,82,81,84,94,84,90,78,65,92,77,98,80,78,76,100,78,74,65,87,88,75,77,83,76,96,80,93,87,80,86,82,104,88,96,97,87,99,102,92,94,61,82,71,103,62,65,113,66,80,91,86,84,99,110,91,93,78,75,112,107,115,102,71,66,75,81,94,91,92,86,98,103,81,92,87,79,81,83,99,85,91,103,82,80,67,89,79,100,84,111,88,76,85,86,73,81,84,82,86,75,87,91,82,70,86,83,97,99,79,83,84,77,91,65,87,70,74,80,61,86,74,104,75,90,63,81,71,74,76,107,100,80,91,75,83,96,87,84,94,83,92,71,91,97,100,91,79,88,91,76,89,88,82,88,85,87,79,90,99,79,90,77,70,62,88,60,79,76,111,76,97,81,106,92,91,101,86,86,101,84,92,92,78,75,81,100,100,69,92,93,88,82,84,82,72,76,93,98,83,82,81,79,92,92,109,90,71,90,99,84,89,100,92,80,104,76,90,89,79,97,103,63,75,79,82,107,68,79,105,63,67,74,73,73,81,85,70,63,68,98,91,48,51,70,71,79,91,77,95,71,81,70,55,77,70,63,76,75,73,80,84,67,64,91,64,91,69,76,82,101,90,82,91,65,85,75,92,93,85,87,98,84,82,72,90,76,82,64,71,82,75,78,92,84,66,83,82,83,74,83,81,84,81,82,69,93,85,77,103,67,79,85,91,67,74,67,88,74,64,74,58,74,69,75,98,81,81,97,82,80,99,76,80,87,92,81,79,74,85,84,85,55,79,78,112,76,101,87,81,85,88,86,82,91,78,87,92,97,85,102,87,90,99,105,75,91,112,90,85,98,87,63,85,73,84,79,104,66,83,78,83,92,100,92,85,108,88,99,87,74,96,112,89,86,66,97,100,74,74,102,103,71,90,80,85,76,102,84,84,82,104,84,75,94,94,89,91,93,98,82,84,90,84,89,85,92,88,80,86,82,111,99,83,78,91,110,83,87,97,83,85,98,93,92,101,90,105,72,85,86,97,112,111,93,118,102,88,97,100,98,89,88,87,88,104,97,71,81,81,79,92,85,97,104,93,101,80,76,103,96,95,104,85,96,106,89,77,100,85,72,85,91,79,83,102,88,82,84,86,79,94,88,76,104,95,109,99,93,107,94,77,96,100,90,80,99,93,91,97,68,80,72,93,90,82,80,77,87,85,70,107,108,73,82,94,84,100,96,99,91,126,88,78,94,102,106,85,92,94,92,98,111,90,97,95,91,85,82,88,91,94,88,95,98,117,99,109,77,106,107,108,94,106,107,87,97,95,80,87,98,119,75,92,98,77,105,82,78,90,98,79,83,110,85,92,70,112,87,107,96,76,93,79,72,95,62,53,50,80,83,66,79,72,103,95,75,65,73,77,72,115,92,91,86,84,89,87,86,93,86,94,120,73,90,101,103,92,92,91,99,83,91,88,92,76,88,71,75,90,90,78,71,95,82,70,102,72,106,102,81,88,83,74,96,129,114,93,83,80,82,93,92,101,89,68,69,94,99,94,94,96,94,86,99,101,100,85,97,90,104,84,89,86,87,92,67,79,87,97,75,90,62,91,84,81,106,81,87,82,84,79,91,85,98,107,83,73,52,67,80,87,94,97,73,85,81,83,94,116,108,82,83,94,105,98,89,76,75,84,127,98,103,111,100,89,101,95,83,90,94,107,89,103,113,114,109,84,121,99,90,96,89,122,93,84,96,92,101,82,105,104,103,102,75,124,80,115,99,105,77,98,104,85,110,88,100,91,74,83,95,87,92,97,82,93,82,136,102,97,105,83,81,90,93,79,99,98,94,84,103,97,102,99,90,84,72,93,85,70,88,90,76,81,81,103,102,99,92,86,95,83,101,92,107,85,101,93,102,93,97,86,107,90,123,110,113,86,100,105,79,88,106,101,91,93,99,84,94,92,102,89,111,77,85,68,103,93,84,101,97,88,95,103,106,100,103,90,80,94,106,91,88,90,73,68,99,109,86,92,98,85,75,74,82,115,104,100,104,100,92,115,99,101,100,115,96,89,111,104,112,118,123,90,83,102,94,112,85,125,83,79,103,114,104,109,113,118,90,113,71,87,91,107,96,86,110,111,112,90,105,87,95,112,101,113,106,101,89,87,132,99,97,95,89,120,81,114,100,86,95,90,83,88,108,111,81,81,100,88,92,82,67,78,89,101,90,83,91,108,70,95,90,87,77,92,104,109,91,102,90,77,111,100,82,87,101,83,64,77,79,98,118,91,87,83,80,79,97,78,105,70,89,98,97,68,101,117,78,68,97,82,85,107,92,100,85,102,103,101,84,108,82,85,104,81,77,93,92,98,88,90,69,88,85,86,84,90,82,85,84,87,91,91,88,120,87,101,83,93,76,83,108,83,97,102,83,88,84,106,102,102,116,103,90,97,107,105,96,116,80,84,86,92,97,94,93,86,84,100,98,101,98,114,99,94,81,98,119,87,87,116,89,109,111,104,116,87,128,110,84,110,102,93,83,110,66,86,98,109,112,99,121,89,97,126,102,122,87,99,80,95,93,94,61,101,103,119,96,127,119,123,101,112,83,119,115,96,111,113,96,117,107,128,112,129,105,118,96,98,108,136,100,96,111,116,110,108,109,117,114,108,88,118,125,107,100,118,105,112,111,134,150,104,121,98,101,106,113,117,78,104,100,107,93,111,114,109,92,115,96,103,112,96,102,77,137,101,94,121,102,102,105,106,75,99,98,105,117,100,109,95,103,83,106,86,93,113,99,81,109,99,108,109,117,87,99,116,119,99,104,113,109,90,97,95,102,111,107,93,87,100,97,106,104,109,105,108,107,97,86,111,105,107,99,98,111,108,129,105,114,88,116,108,113,113,118,110,103,109,105,105,107,118,85,89,115,100,111,112,104,93,77,109,87,93,110,103,90,88,154,104,91,106,115,114,99,125,107,112,101,107,86,82,80,96,124,86,99,100,99,106,98,115,85,97,89,95,106,89,90,98,84,88,82,94,75,53,66,102,88,98,86,90,104,107,96,98,99,84,93,99,90,115,93,62,95,99,104,109,113,78,74,93,90,91,112,92,99,86,110,88,90,81,119,67,78,85,109,86,100,88,78,95,98,111,107,91,99,89,84,78,83,116,104,74,95,85,99,113,123,84,116,95,92,102,99,98,117,99,106,100,123,105,120,90,123,92,100,85,92,92,82,100,72,72,84,90,94,84,85,67,64,83,88,80,76,71,80,84,86,80,75,89,58,78,67,85,90,80,89,75,66,72,84,69,77,74,58,57,44,69,71,72,79,61,65,68,78,60,72,89,75,69,55,63,71,69,66,93,64,81,79,79,76,58,101,89,75,85,72,83,84,74,60,73,66,78,91,79,91,81,81,101,72,85,78,76,63,64,73,80,98,86,83,80,78,104,78,74,94,92,88,76,98,101,89,113,102,91,81,100,101,98,83,91,77,90,99,98,92,114,97,99,85,114,99,110,91,114,93,87,101,86,117,104,76,100,76,95,93,111,84,98,97,80,105,87,100,80,109,106,86,98,94,82,100,108,94,84,115,91,86,96,112,86,97,100,93,101,96,79,93,57,101,79,121,111,69,84,83,86,100,82,110,104,96,96,96,95,110,112,87,93,90,99,107,111,95,104,82,69,75,84,78,84,73,101,75,64,102,100,82,101,87,93,103,90,98,94,80,89,86,77,86,77,78,96,60,76,95,90,94,90,91,83,85,105,65,93,88,106,68,74,73,81,92,76,83,80,68,94,89,91,87,80,66,57,52,69,74,69,107,90,57,91,60,80,67,73,82,92,87,76,75,73,81,70,75,78,68,79,97,75,63,60,65,69,97,83,90,60,58,93,80,93,90,78,89,57,77,65,78,79,60,78,76,84,74,71,99,78,61,77,73,61,53,69,82,79,88,70,85,74,80,73,73,70,81,85,69,76,68,68,87,62,64,87,82,88,72,80,81,64,90,84,75,77,79,89,80,71,73,74,81,74,97,72,84,79,88,80,71,83,94,84,89,77,75,86,76,85,81,94,82,69,71,84,82,92,96,77,65,70,76,86,66,75,81,88,73,85,78,79,75,83,61,70,88,68,79,70,70,66,67,80,67,86,69,87,75,84,80,68,89,88,85,84,79,83,101,98,83,74,74,102,99,114,103,71,102,101,91,110,110,88,87,99,78,77,74,75,81,102,93,85,73,94,100,108,84,90,87,79,95,95,77,98,78,81,93,96,94,95,110,83,106,104,79,91,92,100,89,74,102,88,113,93,68,63,76,59,72,113,112,109,97,91,90,88,91,86,104,93,76,101,97,90,96,90,96,91,71,79,95,104,96,101,101,92,100,85,87,96,88,81,81,102,97,110,91,111,90,95,106,87,103,89,85,97,91,111,99,106,93,91,98,102,91,114,76,102,93,100,92,120,105,107,92,108,87,84,114,105,101,91,111,88,95,100,90,82,103,89,98,92,104,111,96,82,94,96,83,89,127,120,114,101,105,101,82,108,103,91,84,75,82,95,109,100,100,100,81,80,85,89,97,97,85,110,79,86,98,86,115,110,88,81,102,112,85,81,95,120,100,125,111,88,108,87,99,91,78,89,87,108,85,88,81,81,86,85,93,88,92,85,117,96,101,91,113,76,93,91,82,91,79,75,69,74,67,75,88,84,94,105,71,75,83,92,87,81,78,66,83,73,81,85,77,71,67,62,73,75,76,78,84,90,90,77,78,85,94,70,80,75,85,89,102,88,69,76,92,107,101,93,89,80,91,87,79,98,88,80,90,72,81,104,99,105,92,110,90,83,113,99,105,93,85,84,121,107,106,101,121,98,91,141,98,104,105,107,96,100,105,98,89,114,92,94,97,100,100,89,110,108,91,84,121,103,95,98,120,96,105,119,118,106,108,83,92,100,93,117,108,97,103,97,86,121,110,104,109,100,90,89,125,120,92,117,108,108,88,109,101,131,100,107,97,98,106,110,135,129,94,89,101,106,132,97,113,123,110,98,116,115,128,107,108,110,106,100,109,104,124,102,107,93,113,105,111,96,98,93,103,110,106,125,93,118,84,93,102,100,89,98,92,101,88,132,82,88,99,94,112,105,95,124,95,95,102,91,91,134,115,103,92,97,106,109,128,111,126,113,93,93,85,111,128,102,85,111,91,77,114,128,109,114,114,103,88,102,101,87,126,121,98,122,104,118,130,111,105,107,100,110,102,80,99,105,109,87,106,107,105,99,116,92,107,124,109,118,115,112,113,126,134,122,105,142,106,95,79,120,112,127,100,123,102,83,106,123,109,128,115,90,101,101,124,117,114,104,94,95,106,130,99,121,111,104,98,129,122,112,96,121,101,92,133,132,108,122,116,107,102,108,117,112,111,132,102,90,113,104,117,140,112,106,87,111,127,117,114,111,84,111,126,141,112,132,112,92,98,128,111,114,116,123,100,80,121,126,126,113,99,136,111,111,114,125,113,108,100,86,85,98,103,110,106,125],\"yaxis\":\"y\",\"type\":\"scattergl\"}],                        {\"template\":{\"data\":{\"histogram2dcontour\":[{\"type\":\"histogram2dcontour\",\"colorbar\":{\"outlinewidth\":0,\"ticks\":\"\"},\"colorscale\":[[0.0,\"#0d0887\"],[0.1111111111111111,\"#46039f\"],[0.2222222222222222,\"#7201a8\"],[0.3333333333333333,\"#9c179e\"],[0.4444444444444444,\"#bd3786\"],[0.5555555555555556,\"#d8576b\"],[0.6666666666666666,\"#ed7953\"],[0.7777777777777778,\"#fb9f3a\"],[0.8888888888888888,\"#fdca26\"],[1.0,\"#f0f921\"]]}],\"choropleth\":[{\"type\":\"choropleth\",\"colorbar\":{\"outlinewidth\":0,\"ticks\":\"\"}}],\"histogram2d\":[{\"type\":\"histogram2d\",\"colorbar\":{\"outlinewidth\":0,\"ticks\":\"\"},\"colorscale\":[[0.0,\"#0d0887\"],[0.1111111111111111,\"#46039f\"],[0.2222222222222222,\"#7201a8\"],[0.3333333333333333,\"#9c179e\"],[0.4444444444444444,\"#bd3786\"],[0.5555555555555556,\"#d8576b\"],[0.6666666666666666,\"#ed7953\"],[0.7777777777777778,\"#fb9f3a\"],[0.8888888888888888,\"#fdca26\"],[1.0,\"#f0f921\"]]}],\"heatmap\":[{\"type\":\"heatmap\",\"colorbar\":{\"outlinewidth\":0,\"ticks\":\"\"},\"colorscale\":[[0.0,\"#0d0887\"],[0.1111111111111111,\"#46039f\"],[0.2222222222222222,\"#7201a8\"],[0.3333333333333333,\"#9c179e\"],[0.4444444444444444,\"#bd3786\"],[0.5555555555555556,\"#d8576b\"],[0.6666666666666666,\"#ed7953\"],[0.7777777777777778,\"#fb9f3a\"],[0.8888888888888888,\"#fdca26\"],[1.0,\"#f0f921\"]]}],\"heatmapgl\":[{\"type\":\"heatmapgl\",\"colorbar\":{\"outlinewidth\":0,\"ticks\":\"\"},\"colorscale\":[[0.0,\"#0d0887\"],[0.1111111111111111,\"#46039f\"],[0.2222222222222222,\"#7201a8\"],[0.3333333333333333,\"#9c179e\"],[0.4444444444444444,\"#bd3786\"],[0.5555555555555556,\"#d8576b\"],[0.6666666666666666,\"#ed7953\"],[0.7777777777777778,\"#fb9f3a\"],[0.8888888888888888,\"#fdca26\"],[1.0,\"#f0f921\"]]}],\"contourcarpet\":[{\"type\":\"contourcarpet\",\"colorbar\":{\"outlinewidth\":0,\"ticks\":\"\"}}],\"contour\":[{\"type\":\"contour\",\"colorbar\":{\"outlinewidth\":0,\"ticks\":\"\"},\"colorscale\":[[0.0,\"#0d0887\"],[0.1111111111111111,\"#46039f\"],[0.2222222222222222,\"#7201a8\"],[0.3333333333333333,\"#9c179e\"],[0.4444444444444444,\"#bd3786\"],[0.5555555555555556,\"#d8576b\"],[0.6666666666666666,\"#ed7953\"],[0.7777777777777778,\"#fb9f3a\"],[0.8888888888888888,\"#fdca26\"],[1.0,\"#f0f921\"]]}],\"surface\":[{\"type\":\"surface\",\"colorbar\":{\"outlinewidth\":0,\"ticks\":\"\"},\"colorscale\":[[0.0,\"#0d0887\"],[0.1111111111111111,\"#46039f\"],[0.2222222222222222,\"#7201a8\"],[0.3333333333333333,\"#9c179e\"],[0.4444444444444444,\"#bd3786\"],[0.5555555555555556,\"#d8576b\"],[0.6666666666666666,\"#ed7953\"],[0.7777777777777778,\"#fb9f3a\"],[0.8888888888888888,\"#fdca26\"],[1.0,\"#f0f921\"]]}],\"mesh3d\":[{\"type\":\"mesh3d\",\"colorbar\":{\"outlinewidth\":0,\"ticks\":\"\"}}],\"scatter\":[{\"fillpattern\":{\"fillmode\":\"overlay\",\"size\":10,\"solidity\":0.2},\"type\":\"scatter\"}],\"parcoords\":[{\"type\":\"parcoords\",\"line\":{\"colorbar\":{\"outlinewidth\":0,\"ticks\":\"\"}}}],\"scatterpolargl\":[{\"type\":\"scatterpolargl\",\"marker\":{\"colorbar\":{\"outlinewidth\":0,\"ticks\":\"\"}}}],\"bar\":[{\"error_x\":{\"color\":\"#2a3f5f\"},\"error_y\":{\"color\":\"#2a3f5f\"},\"marker\":{\"line\":{\"color\":\"#E5ECF6\",\"width\":0.5},\"pattern\":{\"fillmode\":\"overlay\",\"size\":10,\"solidity\":0.2}},\"type\":\"bar\"}],\"scattergeo\":[{\"type\":\"scattergeo\",\"marker\":{\"colorbar\":{\"outlinewidth\":0,\"ticks\":\"\"}}}],\"scatterpolar\":[{\"type\":\"scatterpolar\",\"marker\":{\"colorbar\":{\"outlinewidth\":0,\"ticks\":\"\"}}}],\"histogram\":[{\"marker\":{\"pattern\":{\"fillmode\":\"overlay\",\"size\":10,\"solidity\":0.2}},\"type\":\"histogram\"}],\"scattergl\":[{\"type\":\"scattergl\",\"marker\":{\"colorbar\":{\"outlinewidth\":0,\"ticks\":\"\"}}}],\"scatter3d\":[{\"type\":\"scatter3d\",\"line\":{\"colorbar\":{\"outlinewidth\":0,\"ticks\":\"\"}},\"marker\":{\"colorbar\":{\"outlinewidth\":0,\"ticks\":\"\"}}}],\"scattermapbox\":[{\"type\":\"scattermapbox\",\"marker\":{\"colorbar\":{\"outlinewidth\":0,\"ticks\":\"\"}}}],\"scatterternary\":[{\"type\":\"scatterternary\",\"marker\":{\"colorbar\":{\"outlinewidth\":0,\"ticks\":\"\"}}}],\"scattercarpet\":[{\"type\":\"scattercarpet\",\"marker\":{\"colorbar\":{\"outlinewidth\":0,\"ticks\":\"\"}}}],\"carpet\":[{\"aaxis\":{\"endlinecolor\":\"#2a3f5f\",\"gridcolor\":\"white\",\"linecolor\":\"white\",\"minorgridcolor\":\"white\",\"startlinecolor\":\"#2a3f5f\"},\"baxis\":{\"endlinecolor\":\"#2a3f5f\",\"gridcolor\":\"white\",\"linecolor\":\"white\",\"minorgridcolor\":\"white\",\"startlinecolor\":\"#2a3f5f\"},\"type\":\"carpet\"}],\"table\":[{\"cells\":{\"fill\":{\"color\":\"#EBF0F8\"},\"line\":{\"color\":\"white\"}},\"header\":{\"fill\":{\"color\":\"#C8D4E3\"},\"line\":{\"color\":\"white\"}},\"type\":\"table\"}],\"barpolar\":[{\"marker\":{\"line\":{\"color\":\"#E5ECF6\",\"width\":0.5},\"pattern\":{\"fillmode\":\"overlay\",\"size\":10,\"solidity\":0.2}},\"type\":\"barpolar\"}],\"pie\":[{\"automargin\":true,\"type\":\"pie\"}]},\"layout\":{\"autotypenumbers\":\"strict\",\"colorway\":[\"#636efa\",\"#EF553B\",\"#00cc96\",\"#ab63fa\",\"#FFA15A\",\"#19d3f3\",\"#FF6692\",\"#B6E880\",\"#FF97FF\",\"#FECB52\"],\"font\":{\"color\":\"#2a3f5f\"},\"hovermode\":\"closest\",\"hoverlabel\":{\"align\":\"left\"},\"paper_bgcolor\":\"white\",\"plot_bgcolor\":\"#E5ECF6\",\"polar\":{\"bgcolor\":\"#E5ECF6\",\"angularaxis\":{\"gridcolor\":\"white\",\"linecolor\":\"white\",\"ticks\":\"\"},\"radialaxis\":{\"gridcolor\":\"white\",\"linecolor\":\"white\",\"ticks\":\"\"}},\"ternary\":{\"bgcolor\":\"#E5ECF6\",\"aaxis\":{\"gridcolor\":\"white\",\"linecolor\":\"white\",\"ticks\":\"\"},\"baxis\":{\"gridcolor\":\"white\",\"linecolor\":\"white\",\"ticks\":\"\"},\"caxis\":{\"gridcolor\":\"white\",\"linecolor\":\"white\",\"ticks\":\"\"}},\"coloraxis\":{\"colorbar\":{\"outlinewidth\":0,\"ticks\":\"\"}},\"colorscale\":{\"sequential\":[[0.0,\"#0d0887\"],[0.1111111111111111,\"#46039f\"],[0.2222222222222222,\"#7201a8\"],[0.3333333333333333,\"#9c179e\"],[0.4444444444444444,\"#bd3786\"],[0.5555555555555556,\"#d8576b\"],[0.6666666666666666,\"#ed7953\"],[0.7777777777777778,\"#fb9f3a\"],[0.8888888888888888,\"#fdca26\"],[1.0,\"#f0f921\"]],\"sequentialminus\":[[0.0,\"#0d0887\"],[0.1111111111111111,\"#46039f\"],[0.2222222222222222,\"#7201a8\"],[0.3333333333333333,\"#9c179e\"],[0.4444444444444444,\"#bd3786\"],[0.5555555555555556,\"#d8576b\"],[0.6666666666666666,\"#ed7953\"],[0.7777777777777778,\"#fb9f3a\"],[0.8888888888888888,\"#fdca26\"],[1.0,\"#f0f921\"]],\"diverging\":[[0,\"#8e0152\"],[0.1,\"#c51b7d\"],[0.2,\"#de77ae\"],[0.3,\"#f1b6da\"],[0.4,\"#fde0ef\"],[0.5,\"#f7f7f7\"],[0.6,\"#e6f5d0\"],[0.7,\"#b8e186\"],[0.8,\"#7fbc41\"],[0.9,\"#4d9221\"],[1,\"#276419\"]]},\"xaxis\":{\"gridcolor\":\"white\",\"linecolor\":\"white\",\"ticks\":\"\",\"title\":{\"standoff\":15},\"zerolinecolor\":\"white\",\"automargin\":true,\"zerolinewidth\":2},\"yaxis\":{\"gridcolor\":\"white\",\"linecolor\":\"white\",\"ticks\":\"\",\"title\":{\"standoff\":15},\"zerolinecolor\":\"white\",\"automargin\":true,\"zerolinewidth\":2},\"scene\":{\"xaxis\":{\"backgroundcolor\":\"#E5ECF6\",\"gridcolor\":\"white\",\"linecolor\":\"white\",\"showbackground\":true,\"ticks\":\"\",\"zerolinecolor\":\"white\",\"gridwidth\":2},\"yaxis\":{\"backgroundcolor\":\"#E5ECF6\",\"gridcolor\":\"white\",\"linecolor\":\"white\",\"showbackground\":true,\"ticks\":\"\",\"zerolinecolor\":\"white\",\"gridwidth\":2},\"zaxis\":{\"backgroundcolor\":\"#E5ECF6\",\"gridcolor\":\"white\",\"linecolor\":\"white\",\"showbackground\":true,\"ticks\":\"\",\"zerolinecolor\":\"white\",\"gridwidth\":2}},\"shapedefaults\":{\"line\":{\"color\":\"#2a3f5f\"}},\"annotationdefaults\":{\"arrowcolor\":\"#2a3f5f\",\"arrowhead\":0,\"arrowwidth\":1},\"geo\":{\"bgcolor\":\"white\",\"landcolor\":\"#E5ECF6\",\"subunitcolor\":\"white\",\"showland\":true,\"showlakes\":true,\"lakecolor\":\"white\"},\"title\":{\"x\":0.05},\"mapbox\":{\"style\":\"light\"}}},\"xaxis\":{\"anchor\":\"y\",\"domain\":[0.0,1.0],\"title\":{\"text\":\"Date\"},\"showgrid\":true},\"yaxis\":{\"anchor\":\"x\",\"domain\":[0.0,1.0],\"title\":{\"text\":\"Number of Offences\"},\"showgrid\":true},\"legend\":{\"tracegroupgap\":0},\"title\":{\"text\":\"Reported Crime Fquency Month by Month (2014 - 2022)\"}},                        {\"responsive\": true}                    ).then(function(){\n",
       "                            \n",
       "var gd = document.getElementById('c5176ff7-68f1-4ce9-94fb-1bbac2da9615');\n",
       "var x = new MutationObserver(function (mutations, observer) {{\n",
       "        var display = window.getComputedStyle(gd).display;\n",
       "        if (!display || display === 'none') {{\n",
       "            console.log([gd, 'removed!']);\n",
       "            Plotly.purge(gd);\n",
       "            observer.disconnect();\n",
       "        }}\n",
       "}});\n",
       "\n",
       "// Listen for the removal of the full notebook cells\n",
       "var notebookContainer = gd.closest('#notebook-container');\n",
       "if (notebookContainer) {{\n",
       "    x.observe(notebookContainer, {childList: true});\n",
       "}}\n",
       "\n",
       "// Listen for the clearing of the current output cell\n",
       "var outputEl = gd.closest('.output');\n",
       "if (outputEl) {{\n",
       "    x.observe(outputEl, {childList: true});\n",
       "}}\n",
       "\n",
       "                        })                };                });            </script>        </div>"
      ]
     },
     "metadata": {},
     "output_type": "display_data"
    }
   ],
   "source": [
    "import plotly.express as px\n",
    "crime_trend = data[['REPORT_DATE','REPORT_MONTH','OFFENCE']]\n",
    "crime_trend['REPORT_DATE'] = pd.to_datetime(crime_trend['REPORT_DATE']).dt.date\n",
    "crime_trend = crime_trend.groupby('REPORT_DATE').agg({'OFFENCE':'count'}).reset_index()\n",
    "# crime_trend\n",
    "\n",
    "# Create a line plot using Plotly\n",
    "fig = px.line(crime_trend, x='REPORT_DATE', y='OFFENCE', title='Reported Crime Fquency Month by Month (2014 - 2022)')\n",
    "\n",
    "# Customize the plot layout\n",
    "fig.update_layout(\n",
    "    xaxis_title='Date',\n",
    "    yaxis_title='Number of Offences',\n",
    "    xaxis=dict(showgrid=True),\n",
    "    yaxis=dict(showgrid=True),\n",
    ")\n",
    "\n",
    "# Show the plot\n",
    "fig.show()\n"
   ]
  },
  {
   "cell_type": "markdown",
   "id": "24c5bb63",
   "metadata": {
    "papermill": {
     "duration": 0.016441,
     "end_time": "2023-10-06T13:54:49.769960",
     "exception": false,
     "start_time": "2023-10-06T13:54:49.753519",
     "status": "completed"
    },
    "tags": []
   },
   "source": [
    "### Key Findings:\n",
    "\n",
    "1. **Rising Trend (2016-2019):** There is a notable upward trend in the number of reported offenses from 2016 to 2019.\n",
    "\n",
    "2. **Decrease and Stabilization (2019-2021):** Subsequently, there was a significant decline in reported crimes in 2020 and 2021. However, it's worth noting that the crime rate remained higher than the levels observed between 2014 and 2017.\n",
    "\n",
    "3. **Resurgence (2021-2022):** The trend reversed once again from 2021 to 2022, with a sharp increase in the number of reported offenses.\n",
    "\n",
    "4. **Historical Comparison:** Over the period of 2014 to 2022, the highest number of reported offenses was recorded in 2022, while the lowest was observed in 2014."
   ]
  },
  {
   "cell_type": "markdown",
   "id": "44712248",
   "metadata": {
    "papermill": {
     "duration": 0.013075,
     "end_time": "2023-10-06T13:54:49.796678",
     "exception": false,
     "start_time": "2023-10-06T13:54:49.783603",
     "status": "completed"
    },
    "tags": []
   },
   "source": [
    "**What is the Frequency of different types of crime in Each Year?**"
   ]
  },
  {
   "cell_type": "code",
   "execution_count": 17,
   "id": "1e547472",
   "metadata": {
    "_kg_hide-input": true,
    "execution": {
     "iopub.execute_input": "2023-10-06T13:54:49.824127Z",
     "iopub.status.busy": "2023-10-06T13:54:49.823629Z",
     "iopub.status.idle": "2023-10-06T13:54:49.874579Z",
     "shell.execute_reply": "2023-10-06T13:54:49.873665Z"
    },
    "papermill": {
     "duration": 0.067216,
     "end_time": "2023-10-06T13:54:49.876664",
     "exception": false,
     "start_time": "2023-10-06T13:54:49.809448",
     "status": "completed"
    },
    "tags": []
   },
   "outputs": [
    {
     "data": {
      "text/html": [
       "<div>\n",
       "<style scoped>\n",
       "    .dataframe tbody tr th:only-of-type {\n",
       "        vertical-align: middle;\n",
       "    }\n",
       "\n",
       "    .dataframe tbody tr th {\n",
       "        vertical-align: top;\n",
       "    }\n",
       "\n",
       "    .dataframe thead th {\n",
       "        text-align: right;\n",
       "    }\n",
       "</style>\n",
       "<table border=\"1\" class=\"dataframe\">\n",
       "  <thead>\n",
       "    <tr style=\"text-align: right;\">\n",
       "      <th>MCI_CATEGORY</th>\n",
       "      <th>Assault</th>\n",
       "      <th>Auto Theft</th>\n",
       "      <th>Break and Enter</th>\n",
       "      <th>Robbery</th>\n",
       "      <th>Theft Over</th>\n",
       "    </tr>\n",
       "    <tr>\n",
       "      <th>REPORT_YEAR</th>\n",
       "      <th></th>\n",
       "      <th></th>\n",
       "      <th></th>\n",
       "      <th></th>\n",
       "      <th></th>\n",
       "    </tr>\n",
       "  </thead>\n",
       "  <tbody>\n",
       "    <tr>\n",
       "      <th>2014</th>\n",
       "      <td>14957</td>\n",
       "      <td>3423</td>\n",
       "      <td>7148</td>\n",
       "      <td>3101</td>\n",
       "      <td>991</td>\n",
       "    </tr>\n",
       "    <tr>\n",
       "      <th>2015</th>\n",
       "      <td>16279</td>\n",
       "      <td>3086</td>\n",
       "      <td>6857</td>\n",
       "      <td>2970</td>\n",
       "      <td>1034</td>\n",
       "    </tr>\n",
       "    <tr>\n",
       "      <th>2016</th>\n",
       "      <td>17026</td>\n",
       "      <td>3041</td>\n",
       "      <td>6343</td>\n",
       "      <td>3080</td>\n",
       "      <td>1028</td>\n",
       "    </tr>\n",
       "    <tr>\n",
       "      <th>2017</th>\n",
       "      <td>17226</td>\n",
       "      <td>3278</td>\n",
       "      <td>6827</td>\n",
       "      <td>3361</td>\n",
       "      <td>1166</td>\n",
       "    </tr>\n",
       "    <tr>\n",
       "      <th>2018</th>\n",
       "      <td>17855</td>\n",
       "      <td>4270</td>\n",
       "      <td>7516</td>\n",
       "      <td>3158</td>\n",
       "      <td>1228</td>\n",
       "    </tr>\n",
       "    <tr>\n",
       "      <th>2019</th>\n",
       "      <td>18765</td>\n",
       "      <td>4736</td>\n",
       "      <td>8387</td>\n",
       "      <td>3019</td>\n",
       "      <td>1365</td>\n",
       "    </tr>\n",
       "    <tr>\n",
       "      <th>2020</th>\n",
       "      <td>16392</td>\n",
       "      <td>5098</td>\n",
       "      <td>6853</td>\n",
       "      <td>2353</td>\n",
       "      <td>1208</td>\n",
       "    </tr>\n",
       "    <tr>\n",
       "      <th>2021</th>\n",
       "      <td>17495</td>\n",
       "      <td>5906</td>\n",
       "      <td>5617</td>\n",
       "      <td>1944</td>\n",
       "      <td>1053</td>\n",
       "    </tr>\n",
       "    <tr>\n",
       "      <th>2022</th>\n",
       "      <td>19277</td>\n",
       "      <td>8646</td>\n",
       "      <td>5993</td>\n",
       "      <td>2363</td>\n",
       "      <td>1446</td>\n",
       "    </tr>\n",
       "  </tbody>\n",
       "</table>\n",
       "</div>"
      ],
      "text/plain": [
       "MCI_CATEGORY  Assault  Auto Theft  Break and Enter  Robbery  Theft Over\n",
       "REPORT_YEAR                                                            \n",
       "2014            14957        3423             7148     3101         991\n",
       "2015            16279        3086             6857     2970        1034\n",
       "2016            17026        3041             6343     3080        1028\n",
       "2017            17226        3278             6827     3361        1166\n",
       "2018            17855        4270             7516     3158        1228\n",
       "2019            18765        4736             8387     3019        1365\n",
       "2020            16392        5098             6853     2353        1208\n",
       "2021            17495        5906             5617     1944        1053\n",
       "2022            19277        8646             5993     2363        1446"
      ]
     },
     "execution_count": 17,
     "metadata": {},
     "output_type": "execute_result"
    }
   ],
   "source": [
    "# finding the no of offences that were reported from 2014 - 2022 across different offence category\n",
    "crime_year=pd.crosstab(data['REPORT_YEAR'],data['MCI_CATEGORY'])\n",
    "crime_year"
   ]
  },
  {
   "cell_type": "code",
   "execution_count": 18,
   "id": "db47c73e",
   "metadata": {
    "_kg_hide-input": true,
    "execution": {
     "iopub.execute_input": "2023-10-06T13:54:49.905474Z",
     "iopub.status.busy": "2023-10-06T13:54:49.904623Z",
     "iopub.status.idle": "2023-10-06T13:54:50.531445Z",
     "shell.execute_reply": "2023-10-06T13:54:50.530600Z"
    },
    "papermill": {
     "duration": 0.643326,
     "end_time": "2023-10-06T13:54:50.533621",
     "exception": false,
     "start_time": "2023-10-06T13:54:49.890295",
     "status": "completed"
    },
    "tags": []
   },
   "outputs": [
    {
     "data": {
      "image/png": "[encoded data removed]",
      "text/plain": [
       "<Figure size 1000x500 with 1 Axes>"
      ]
     },
     "metadata": {},
     "output_type": "display_data"
    }
   ],
   "source": [
    "# Create a line plot using Seaborn\n",
    "plt.figure(figsize=(10, 5))\n",
    "sns.set_style(\"darkgrid\")  \n",
    "fig=sns.lineplot(data=crime_year, markers=True, palette='tab10',dashes=False)\n",
    "plt.title('Frequency of Different Crime Type (2014 - 2022)',y=1.02,fontsize=14,fontweight='bold')\n",
    "plt.xlabel('')\n",
    "plt.ylabel('Number of Crimes',fontsize=13)\n",
    "plt.legend(title='Crime Category', loc='upper left', bbox_to_anchor=(1, 1))\n",
    "plt.tight_layout()\n",
    "plt.savefig('crime_trend.png',bbox_inches = 'tight')\n",
    "plt.show()"
   ]
  },
  {
   "cell_type": "markdown",
   "id": "fd650c59",
   "metadata": {
    "papermill": {
     "duration": 0.014394,
     "end_time": "2023-10-06T13:54:50.563105",
     "exception": false,
     "start_time": "2023-10-06T13:54:50.548711",
     "status": "completed"
    },
    "tags": []
   },
   "source": [
    "**Key Findings:**\n",
    "\n",
    "1. **Assault Remains Consistent Leader:**\n",
    "   - Assault has consistently held the top position as the most commonly reported crime between 2014 and 2022.\n",
    "\n",
    "2. **Shift in Second Place:**\n",
    "   - Between 2014 and 2020, Break and Enter ranked as the second most frequently reported crime. However, in 2021 and 2022, Auto Theft surpassed Break and Enter in frequency, indicating a notable shift in crime patterns.\n",
    "\n",
    "3. **Break and Enter's Rising Trend and Subsequent Decline:**\n",
    "   - Starting in 2016 and continuing until 2019, Break and Enter exhibited a steady increase in reported cases. However, after 2019, both Break and Enter and Robbery have been on a consistent decline. In contrast, Auto Theft has shown a rapid increase during this period and now ranks as the second most frequently reported crime."
   ]
  },
  {
   "cell_type": "markdown",
   "id": "dbeabf2b",
   "metadata": {
    "papermill": {
     "duration": 0.013968,
     "end_time": "2023-10-06T13:54:50.591267",
     "exception": false,
     "start_time": "2023-10-06T13:54:50.577299",
     "status": "completed"
    },
    "tags": []
   },
   "source": [
    "**Do Crime occour equally In Each Premises?**"
   ]
  },
  {
   "cell_type": "code",
   "execution_count": 19,
   "id": "9f80d39b",
   "metadata": {
    "_kg_hide-input": true,
    "execution": {
     "iopub.execute_input": "2023-10-06T13:54:50.621739Z",
     "iopub.status.busy": "2023-10-06T13:54:50.621439Z",
     "iopub.status.idle": "2023-10-06T13:54:50.658795Z",
     "shell.execute_reply": "2023-10-06T13:54:50.657754Z"
    },
    "papermill": {
     "duration": 0.055091,
     "end_time": "2023-10-06T13:54:50.660537",
     "exception": false,
     "start_time": "2023-10-06T13:54:50.605446",
     "status": "completed"
    },
    "tags": []
   },
   "outputs": [
    {
     "data": {
      "text/html": [
       "<div>\n",
       "<style scoped>\n",
       "    .dataframe tbody tr th:only-of-type {\n",
       "        vertical-align: middle;\n",
       "    }\n",
       "\n",
       "    .dataframe tbody tr th {\n",
       "        vertical-align: top;\n",
       "    }\n",
       "\n",
       "    .dataframe thead th {\n",
       "        text-align: right;\n",
       "    }\n",
       "</style>\n",
       "<table border=\"1\" class=\"dataframe\">\n",
       "  <thead>\n",
       "    <tr style=\"text-align: right;\">\n",
       "      <th></th>\n",
       "      <th>PREMISES_TYPE</th>\n",
       "      <th>OFFENCE</th>\n",
       "    </tr>\n",
       "  </thead>\n",
       "  <tbody>\n",
       "    <tr>\n",
       "      <th>0</th>\n",
       "      <td>Apartment</td>\n",
       "      <td>72089</td>\n",
       "    </tr>\n",
       "    <tr>\n",
       "      <th>1</th>\n",
       "      <td>Commercial</td>\n",
       "      <td>58746</td>\n",
       "    </tr>\n",
       "    <tr>\n",
       "      <th>2</th>\n",
       "      <td>Educational</td>\n",
       "      <td>7291</td>\n",
       "    </tr>\n",
       "    <tr>\n",
       "      <th>3</th>\n",
       "      <td>House</td>\n",
       "      <td>54391</td>\n",
       "    </tr>\n",
       "    <tr>\n",
       "      <th>4</th>\n",
       "      <td>Other</td>\n",
       "      <td>17185</td>\n",
       "    </tr>\n",
       "    <tr>\n",
       "      <th>5</th>\n",
       "      <td>Outside</td>\n",
       "      <td>76067</td>\n",
       "    </tr>\n",
       "    <tr>\n",
       "      <th>6</th>\n",
       "      <td>Transit</td>\n",
       "      <td>8396</td>\n",
       "    </tr>\n",
       "  </tbody>\n",
       "</table>\n",
       "</div>"
      ],
      "text/plain": [
       "  PREMISES_TYPE  OFFENCE\n",
       "0     Apartment    72089\n",
       "1    Commercial    58746\n",
       "2   Educational     7291\n",
       "3         House    54391\n",
       "4         Other    17185\n",
       "5       Outside    76067\n",
       "6       Transit     8396"
      ]
     },
     "execution_count": 19,
     "metadata": {},
     "output_type": "execute_result"
    }
   ],
   "source": [
    "# finding the number of offences reported in each premises from 2014 - 2022\n",
    "crime_premise=data.groupby('PREMISES_TYPE').agg({'OFFENCE':'count'}).reset_index()\n",
    "crime_premise"
   ]
  },
  {
   "cell_type": "code",
   "execution_count": 20,
   "id": "48aa5c7f",
   "metadata": {
    "_kg_hide-input": true,
    "execution": {
     "iopub.execute_input": "2023-10-06T13:54:50.692031Z",
     "iopub.status.busy": "2023-10-06T13:54:50.691149Z",
     "iopub.status.idle": "2023-10-06T13:54:50.982106Z",
     "shell.execute_reply": "2023-10-06T13:54:50.981232Z"
    },
    "papermill": {
     "duration": 0.308392,
     "end_time": "2023-10-06T13:54:50.984000",
     "exception": false,
     "start_time": "2023-10-06T13:54:50.675608",
     "status": "completed"
    },
    "tags": []
   },
   "outputs": [
    {
     "data": {
      "image/png": "[encoded data removed]",
      "text/plain": [
       "<Figure size 640x480 with 1 Axes>"
      ]
     },
     "metadata": {},
     "output_type": "display_data"
    }
   ],
   "source": [
    "sns.set_style('white')\n",
    "# Calculate the percentages\n",
    "crime_premise['Percentage'] = ((crime_premise['OFFENCE'] / crime_premise['OFFENCE'].sum()) * 100)\n",
    "\n",
    "# Sort the DataFrame by 'Percentage' in ascending order\n",
    "crime_premise = crime_premise.sort_values(by='Percentage')\n",
    "\n",
    "# Set the style\n",
    "# sns.set_style('darkgrid')\n",
    "\n",
    "# Create a bar plot\n",
    "ax = sns.barplot(data=crime_premise, y='PREMISES_TYPE', x='Percentage', palette='viridis')\n",
    "\n",
    "# Annotate the bars with their percentages\n",
    "for p in ax.patches:\n",
    "    percentage = p.get_width()\n",
    "    ax.annotate(f'{percentage:.2f}%', (p.get_x() + p.get_width() / 2., p.get_y() + p.get_height() / 2.),\n",
    "                ha='center', va='center', fontsize=10, color='white',weight='bold')  # Adjust color and position\n",
    "\n",
    "# Set the x-axis label\n",
    "plt.xlabel('')\n",
    "plt.xticks([])\n",
    "\n",
    "# Set the y-axis label\n",
    "plt.ylabel('Types of Premises',fontsize=13)\n",
    "\n",
    "plt.title('Crime Distribution by Premises Type (2014 - 2022)',y=1.02,fontsize=14,fontweight='bold')\n",
    "sns.despine()\n",
    "# Show the plot\n",
    "plt.savefig('crime_premises.png',bbox_inches = 'tight')\n",
    "plt.show()\n"
   ]
  },
  {
   "cell_type": "markdown",
   "id": "8dd4c8fd",
   "metadata": {
    "papermill": {
     "duration": 0.014726,
     "end_time": "2023-10-06T13:54:51.013951",
     "exception": false,
     "start_time": "2023-10-06T13:54:50.999225",
     "status": "completed"
    },
    "tags": []
   },
   "source": [
    "**Key Findings:**\n",
    "\n",
    "1. **Outdoor Dominance** (25.86%):\n",
    "   - Outdoor areas, such as streets, roads, highways, and parking lots, were the most common settings for criminal incidents.\n",
    "\n",
    "2. **Apartment Incidents** (24.51%):\n",
    "   - Apartments, including rooming houses and condos, ranked second, with 24.51% of reported offenses.\n",
    "\n",
    "3. **Commercial Complexities** (19.57%):\n",
    "   - Commercial dwelling units (hotels, motels, B & Bs), corporate establishments, and convenience stores constituted the third most frequent premises for crimes.\n",
    "\n",
    "4. **Household Concerns** (18.49%):\n",
    "   - Houses accounted for 18.49% of reported crimes, placing them as the fourth most common setting.\n",
    "\n",
    "5. **Transit Troubles** (2.85%):\n",
    "   - Transit locations, such as TTC subway stations, Go Train stations, and Go stations, witnessed 2.85% of criminal incidents.\n",
    "\n",
    "6. **Mysterious \"Other\" Premises** (5.84%):\n",
    "   - Hospitals, institutions, medical facilities, retirement homes, pharmacies, homeless shelters etc collectively saw 5.84% of reported crimes.\n",
    "\n",
    "7. **Educational Exception** (2.48%):\n",
    "   - Educational institutions, including schools, universities, and colleges, reported the lowest number of crimes, accounting for only 2.48% of incidents."
   ]
  },
  {
   "cell_type": "markdown",
   "id": "f3af9a8b",
   "metadata": {
    "papermill": {
     "duration": 0.014742,
     "end_time": "2023-10-06T13:54:51.043620",
     "exception": false,
     "start_time": "2023-10-06T13:54:51.028878",
     "status": "completed"
    },
    "tags": []
   },
   "source": [
    "**Do crime occour equally at Different Parts of the Day?:**"
   ]
  },
  {
   "cell_type": "code",
   "execution_count": 21,
   "id": "7c6f589c",
   "metadata": {
    "_kg_hide-input": true,
    "execution": {
     "iopub.execute_input": "2023-10-06T13:54:51.075741Z",
     "iopub.status.busy": "2023-10-06T13:54:51.074653Z",
     "iopub.status.idle": "2023-10-06T13:54:51.132323Z",
     "shell.execute_reply": "2023-10-06T13:54:51.131245Z"
    },
    "papermill": {
     "duration": 0.075911,
     "end_time": "2023-10-06T13:54:51.134272",
     "exception": false,
     "start_time": "2023-10-06T13:54:51.058361",
     "status": "completed"
    },
    "tags": []
   },
   "outputs": [
    {
     "data": {
      "text/html": [
       "<div>\n",
       "<style scoped>\n",
       "    .dataframe tbody tr th:only-of-type {\n",
       "        vertical-align: middle;\n",
       "    }\n",
       "\n",
       "    .dataframe tbody tr th {\n",
       "        vertical-align: top;\n",
       "    }\n",
       "\n",
       "    .dataframe thead th {\n",
       "        text-align: right;\n",
       "    }\n",
       "</style>\n",
       "<table border=\"1\" class=\"dataframe\">\n",
       "  <thead>\n",
       "    <tr style=\"text-align: right;\">\n",
       "      <th></th>\n",
       "      <th>REPORT_YEAR</th>\n",
       "      <th>Afternoon</th>\n",
       "      <th>Evening</th>\n",
       "      <th>Morning</th>\n",
       "      <th>Night</th>\n",
       "    </tr>\n",
       "  </thead>\n",
       "  <tbody>\n",
       "    <tr>\n",
       "      <th>0</th>\n",
       "      <td>2014</td>\n",
       "      <td>7163</td>\n",
       "      <td>6192</td>\n",
       "      <td>5367</td>\n",
       "      <td>10898</td>\n",
       "    </tr>\n",
       "    <tr>\n",
       "      <th>1</th>\n",
       "      <td>2015</td>\n",
       "      <td>7078</td>\n",
       "      <td>6153</td>\n",
       "      <td>5532</td>\n",
       "      <td>11463</td>\n",
       "    </tr>\n",
       "    <tr>\n",
       "      <th>2</th>\n",
       "      <td>2016</td>\n",
       "      <td>7071</td>\n",
       "      <td>6402</td>\n",
       "      <td>5335</td>\n",
       "      <td>11710</td>\n",
       "    </tr>\n",
       "    <tr>\n",
       "      <th>3</th>\n",
       "      <td>2017</td>\n",
       "      <td>7605</td>\n",
       "      <td>6649</td>\n",
       "      <td>5414</td>\n",
       "      <td>12190</td>\n",
       "    </tr>\n",
       "    <tr>\n",
       "      <th>4</th>\n",
       "      <td>2018</td>\n",
       "      <td>8020</td>\n",
       "      <td>7056</td>\n",
       "      <td>5836</td>\n",
       "      <td>13115</td>\n",
       "    </tr>\n",
       "    <tr>\n",
       "      <th>5</th>\n",
       "      <td>2019</td>\n",
       "      <td>8246</td>\n",
       "      <td>7272</td>\n",
       "      <td>6491</td>\n",
       "      <td>14263</td>\n",
       "    </tr>\n",
       "    <tr>\n",
       "      <th>6</th>\n",
       "      <td>2020</td>\n",
       "      <td>7128</td>\n",
       "      <td>7110</td>\n",
       "      <td>5194</td>\n",
       "      <td>12472</td>\n",
       "    </tr>\n",
       "    <tr>\n",
       "      <th>7</th>\n",
       "      <td>2021</td>\n",
       "      <td>7275</td>\n",
       "      <td>6982</td>\n",
       "      <td>5127</td>\n",
       "      <td>12631</td>\n",
       "    </tr>\n",
       "    <tr>\n",
       "      <th>8</th>\n",
       "      <td>2022</td>\n",
       "      <td>8235</td>\n",
       "      <td>7821</td>\n",
       "      <td>6152</td>\n",
       "      <td>15517</td>\n",
       "    </tr>\n",
       "  </tbody>\n",
       "</table>\n",
       "</div>"
      ],
      "text/plain": [
       "   REPORT_YEAR  Afternoon  Evening  Morning  Night\n",
       "0         2014       7163     6192     5367  10898\n",
       "1         2015       7078     6153     5532  11463\n",
       "2         2016       7071     6402     5335  11710\n",
       "3         2017       7605     6649     5414  12190\n",
       "4         2018       8020     7056     5836  13115\n",
       "5         2019       8246     7272     6491  14263\n",
       "6         2020       7128     7110     5194  12472\n",
       "7         2021       7275     6982     5127  12631\n",
       "8         2022       8235     7821     6152  15517"
      ]
     },
     "execution_count": 21,
     "metadata": {},
     "output_type": "execute_result"
    }
   ],
   "source": [
    "result = pd.crosstab(data['REPORT_YEAR'], data['day_parts'], values=data['MCI_CATEGORY'], aggfunc='count')\n",
    "result = result.reset_index()\n",
    "result = result.rename_axis(None, axis=1)\n",
    "# result.describe().T\n",
    "result"
   ]
  },
  {
   "cell_type": "code",
   "execution_count": 22,
   "id": "3d16855f",
   "metadata": {
    "_kg_hide-input": true,
    "execution": {
     "iopub.execute_input": "2023-10-06T13:54:51.167098Z",
     "iopub.status.busy": "2023-10-06T13:54:51.166204Z",
     "iopub.status.idle": "2023-10-06T13:54:51.819506Z",
     "shell.execute_reply": "2023-10-06T13:54:51.818653Z"
    },
    "papermill": {
     "duration": 0.671658,
     "end_time": "2023-10-06T13:54:51.821555",
     "exception": false,
     "start_time": "2023-10-06T13:54:51.149897",
     "status": "completed"
    },
    "tags": []
   },
   "outputs": [
    {
     "data": {
      "image/png": "[encoded data removed]",
      "text/plain": [
       "<Figure size 1200x600 with 1 Axes>"
      ]
     },
     "metadata": {},
     "output_type": "display_data"
    }
   ],
   "source": [
    "sns.set_style('white')\n",
    "plt.figure(figsize=(12,6))\n",
    "# defining the colors for each parts of the day\n",
    "color=['#ff8811','#880d1e','#403f4c','#14213d']\n",
    "\n",
    "# making the stackplot\n",
    "plt.stackplot(result['REPORT_YEAR'],\n",
    "              result['Morning'],\n",
    "              result['Afternoon'],\n",
    "              result['Evening'],\n",
    "              result['Night'],\n",
    "              edgecolor='none',\n",
    "              colors=color\n",
    "             )\n",
    "\n",
    "label=['Morning(6AM-12PM)','Afternoon(12PM-5PM)','Evening(5PM-9PM)','Night(9PM-6AM']\n",
    "plt.legend(labels=label,loc='upper left',bbox_to_anchor=(1,1))\n",
    "plt.ylabel('Number of Crime',fontsize=13)\n",
    "plt.title('Crime Frequency at Different Parts Of The Day (2014 - 2022)',fontsize=14,weight='bold')\n",
    "sns.despine()\n",
    "plt.savefig('crime_day_part.png',bbox_inches = 'tight')\n",
    "plt.show()"
   ]
  },
  {
   "cell_type": "markdown",
   "id": "d8847039",
   "metadata": {
    "papermill": {
     "duration": 0.015798,
     "end_time": "2023-10-06T13:54:51.853870",
     "exception": false,
     "start_time": "2023-10-06T13:54:51.838072",
     "status": "completed"
    },
    "tags": []
   },
   "source": [
    "**Key Findings:**\n",
    "\n",
    "1. **Nighttime Dominance (9:00 PM - 6:00 AM):**\n",
    "   - Criminal incidents exhibited a clear preference for nighttime occurrences, with the hours from 9:00 PM to 6:00 AM recording the highest frequency.\n",
    "\n",
    "2. **Afternoon Activity (12:00 PM - 5:00 PM):**\n",
    "   - The second most frequently observed time frame for criminal activities was during the afternoon, spanning from 12:00 PM to 5:00 PM.\n",
    "\n",
    "3. **Evening Engagement (5:00 PM - 9:00 PM):**\n",
    "   - Subsequently, the evening hours, ranging from 5:00 PM to 9:00 PM, emerged as the third most prevalent temporal window for reported criminal incidents.\n",
    "\n",
    "4. **Morning Movement (6:00 AM - 12:00 PM):**\n",
    "   - Morning hours, starting at 6:00 AM and extending until 12:00 PM, represented the fourth most common time segment for the reporting of criminal events."
   ]
  },
  {
   "cell_type": "markdown",
   "id": "f38d7507",
   "metadata": {
    "papermill": {
     "duration": 0.015563,
     "end_time": "2023-10-06T13:54:51.885506",
     "exception": false,
     "start_time": "2023-10-06T13:54:51.869943",
     "status": "completed"
    },
    "tags": []
   },
   "source": [
    "**At which time of the Day Crime Frequency is high and low?**"
   ]
  },
  {
   "cell_type": "code",
   "execution_count": 23,
   "id": "887dc95d",
   "metadata": {
    "_kg_hide-input": true,
    "execution": {
     "iopub.execute_input": "2023-10-06T13:54:51.918729Z",
     "iopub.status.busy": "2023-10-06T13:54:51.918421Z",
     "iopub.status.idle": "2023-10-06T13:54:52.588662Z",
     "shell.execute_reply": "2023-10-06T13:54:52.587839Z"
    },
    "papermill": {
     "duration": 0.68936,
     "end_time": "2023-10-06T13:54:52.590757",
     "exception": false,
     "start_time": "2023-10-06T13:54:51.901397",
     "status": "completed"
    },
    "tags": []
   },
   "outputs": [
    {
     "data": {
      "image/png": "[encoded data removed]",
      "text/plain": [
       "<Figure size 1000x500 with 1 Axes>"
      ]
     },
     "metadata": {},
     "output_type": "display_data"
    }
   ],
   "source": [
    "# count offence by each hour\n",
    "offence_hour=data.groupby('OCC_HOUR')['OFFENCE'].count().reset_index()\n",
    "\n",
    "# Set the style\n",
    "sns.set_style('whitegrid')\n",
    "\n",
    "# Create a line plot with custom style\n",
    "sns.relplot(data=offence_hour, kind='line',x='OCC_HOUR',y='OFFENCE', aspect=2, marker='o', \n",
    "            linewidth=2, markersize=8)\n",
    "\n",
    "# Set the x-ticks to represent each hour of the day (0 to 23)\n",
    "plt.xticks(np.arange(0,24,1))\n",
    "\n",
    "# Set the x-axis label\n",
    "plt.xlabel('Hour of the Day',fontsize=12)\n",
    "plt.ylabel('Number of Offences',fontsize=12)\n",
    "\n",
    "# Set the title\n",
    "plt.title('Offences by Hour(24hrs) of the Day (2014 - 2022)',y=1.02,fontsize=14,fontweight='bold')\n",
    "\n",
    "# Show the plot\n",
    "plt.savefig('crime_24hours.png',bbox_inches = 'tight')\n",
    "plt.show()"
   ]
  },
  {
   "cell_type": "markdown",
   "id": "27a63149",
   "metadata": {
    "papermill": {
     "duration": 0.016738,
     "end_time": "2023-10-06T13:54:52.624739",
     "exception": false,
     "start_time": "2023-10-06T13:54:52.608001",
     "status": "completed"
    },
    "tags": []
   },
   "source": [
    "**Key Findings:**\n",
    "\n",
    "1. **Alignment with Trends:**\n",
    "   - The observations from the stack area plot closely mirror the trends depicted in the line chart above, providing consistency in the analysis.\n",
    "\n",
    "2. **Peak Evening Crime (6:00 PM - 12:00 AM):**\n",
    "   - The hours spanning from 6:00 PM to 12:00 AM stand out with the highest frequency of reported criminal incidents, establishing this time frame as the period with the most substantial occurrence of crimes.\n",
    "\n",
    "3. **Early Morning Dip (2:00 AM - 6:00 AM):**\n",
    "   - Between 2:00 AM and 6:00 AM, a noticeable decline in reported crimes is evident, indicating a distinct decrease during these early morning hours.\n",
    "\n",
    "4. **Morning and Afternoon Peaks:**\n",
    "   - Following the early morning hours, there is a sharp increase in reported criminal activities from 6:00 AM to 12:00 PM. Another pronounced upswing in incidents occurs from 1:00 PM to 6:00 PM. These trends reveal distinct patterns of crime incidence during different times of the day."
   ]
  },
  {
   "cell_type": "markdown",
   "id": "3577faa6",
   "metadata": {
    "papermill": {
     "duration": 0.016802,
     "end_time": "2023-10-06T13:54:52.658829",
     "exception": false,
     "start_time": "2023-10-06T13:54:52.642027",
     "status": "completed"
    },
    "tags": []
   },
   "source": [
    "**Does crime occour consistently every week in a month or does some week experience high crime than other?**"
   ]
  },
  {
   "cell_type": "code",
   "execution_count": 24,
   "id": "3b9c6881",
   "metadata": {
    "_kg_hide-input": true,
    "execution": {
     "iopub.execute_input": "2023-10-06T13:54:52.694798Z",
     "iopub.status.busy": "2023-10-06T13:54:52.694461Z",
     "iopub.status.idle": "2023-10-06T13:54:52.987908Z",
     "shell.execute_reply": "2023-10-06T13:54:52.987013Z"
    },
    "papermill": {
     "duration": 0.313671,
     "end_time": "2023-10-06T13:54:52.989904",
     "exception": false,
     "start_time": "2023-10-06T13:54:52.676233",
     "status": "completed"
    },
    "tags": []
   },
   "outputs": [
    {
     "data": {
      "image/png": "[encoded data removed]",
      "text/plain": [
       "<Figure size 900x500 with 1 Axes>"
      ]
     },
     "metadata": {},
     "output_type": "display_data"
    }
   ],
   "source": [
    "# Define custom bin edges (intervals) for 4 bins\n",
    "bin_edges = [0, 7, 14, 21, 31]  # Adjusted for 4 bins\n",
    "\n",
    "sns.set_style('white')\n",
    "plt.figure(figsize=(9, 5))\n",
    "hist_data, _, _ = plt.hist(data['REPORT_DAY'], bins=bin_edges, color='#108A99')\n",
    "\n",
    "total_crimes = len(data)  # Total number of crimes in the dataset\n",
    "\n",
    "# Annotate each bar with its label (centered) and percentage\n",
    "for i in range(len(hist_data)):\n",
    "    x = (bin_edges[i] + bin_edges[i + 1]) / 2  # Calculate the center of the bar\n",
    "    percentage = (hist_data[i] / total_crimes) * 100  # Calculate percentage\n",
    "    plt.text(x, hist_data[i], f'{int(hist_data[i])}\\n{percentage:.2f}%', ha='center', va='bottom', fontsize=12)\n",
    "\n",
    "    # Add interval labels below each bin's center\n",
    "    plt.text(x, -5, f'Days {bin_edges[i] + 1}-{bin_edges[i + 1]}', ha='center', va='bottom',\n",
    "             fontsize=10, color='white', weight='bold')\n",
    "\n",
    "# Set labels and title\n",
    "plt.xticks([])  # Remove x-axis ticks\n",
    "plt.xlabel('')\n",
    "plt.ylabel('Number of Crimes Reported', fontsize=13)\n",
    "plt.title('Crimes Across Each Week in a Month (2014 - 2022)', y=1.04, fontsize=14, weight='bold')\n",
    "\n",
    "# Show the plot\n",
    "sns.despine()\n",
    "plt.savefig('crime_weeks.png', bbox_inches='tight')\n",
    "plt.show()\n"
   ]
  },
  {
   "cell_type": "markdown",
   "id": "31d0dc46",
   "metadata": {
    "papermill": {
     "duration": 0.018438,
     "end_time": "2023-10-06T13:54:53.026150",
     "exception": false,
     "start_time": "2023-10-06T13:54:53.007712",
     "status": "completed"
    },
    "tags": []
   },
   "source": [
    "**Key Findings:**\n",
    "\n",
    "1. **Week Four Dominance (34.20%):**\n",
    "   - A substantial majority of criminal incidents, amounting to 34.20%, were reported during the fourth week of the month, indicating a peak in crime during this period.\n",
    "\n",
    "2. **Week One Lull (19.49%):**\n",
    "   - Conversely, the first week experienced the lowest occurrence of crimes, representing only 19.49% of the total. This week stands out as having the fewest reported incidents.\n",
    "\n",
    "3. **Consistent Weeks (Weeks Three and Four - Approximately 23% each):**\n",
    "   - Weeks three and four demonstrated a relatively consistent number of criminal incidents, with approximately 23% of cases reported during each of these weeks. This suggests a stable level of crime during this timeframe."
   ]
  },
  {
   "cell_type": "markdown",
   "id": "1bd9f00c",
   "metadata": {
    "execution": {
     "iopub.execute_input": "2023-10-06T13:04:08.134325Z",
     "iopub.status.busy": "2023-10-06T13:04:08.133247Z",
     "iopub.status.idle": "2023-10-06T13:04:08.139284Z",
     "shell.execute_reply": "2023-10-06T13:04:08.138273Z",
     "shell.execute_reply.started": "2023-10-06T13:04:08.134292Z"
    },
    "papermill": {
     "duration": 0.01727,
     "end_time": "2023-10-06T13:54:53.060788",
     "exception": false,
     "start_time": "2023-10-06T13:54:53.043518",
     "status": "completed"
    },
    "tags": []
   },
   "source": [
    "**Does Crime occur equally in each day of the week or is there high crime on weekends?**"
   ]
  },
  {
   "cell_type": "code",
   "execution_count": 25,
   "id": "47059104",
   "metadata": {
    "_kg_hide-input": true,
    "execution": {
     "iopub.execute_input": "2023-10-06T13:54:53.098292Z",
     "iopub.status.busy": "2023-10-06T13:54:53.097986Z",
     "iopub.status.idle": "2023-10-06T13:54:53.411600Z",
     "shell.execute_reply": "2023-10-06T13:54:53.410726Z"
    },
    "papermill": {
     "duration": 0.335432,
     "end_time": "2023-10-06T13:54:53.413550",
     "exception": false,
     "start_time": "2023-10-06T13:54:53.078118",
     "status": "completed"
    },
    "tags": []
   },
   "outputs": [
    {
     "data": {
      "image/png": "[encoded data removed]",
      "text/plain": [
       "<Figure size 500x500 with 1 Axes>"
      ]
     },
     "metadata": {},
     "output_type": "display_data"
    }
   ],
   "source": [
    "crime_DOW=data.groupby('OCC_DOW')['OFFENCE'].count().reset_index()\n",
    "# crime_DOW\n",
    "\n",
    "# Calculate percentages\n",
    "crime_DOW['Percentage'] = (crime_DOW['OFFENCE'] / crime_DOW['OFFENCE'].sum()) * 100\n",
    "\n",
    "# Sort the DataFrame by percentage in descending order\n",
    "crime_DOW = crime_DOW.sort_values(by='Percentage', ascending=False).head(10)\n",
    "\n",
    "# Create a Viridis colormap\n",
    "cmap = plt.get_cmap('viridis')\n",
    "\n",
    "# Create a pie chart with gradient colors based on the percentage\n",
    "fig, ax = plt.subplots(figsize=(5, 5))\n",
    "wedges, texts, autotexts = ax.pie(\n",
    "    crime_DOW['Percentage'],\n",
    "    labels=crime_DOW['OCC_DOW'],\n",
    "    autopct='%1.1f%%',\n",
    "    startangle=140,\n",
    "    colors=[cmap(i / len(crime_DOW)) for i in range(len(crime_DOW))],\n",
    "    pctdistance=0.75,\n",
    ")\n",
    "\n",
    "# Draw a white circle at the center to create a donut-like chart\n",
    "center_circle = plt.Circle((0, 0), 0.60, fc='white')\n",
    "fig.gca().add_artist(center_circle)\n",
    "\n",
    "# Equal aspect ratio ensures that pie is drawn as a circle.\n",
    "ax.axis('equal')\n",
    "\n",
    "# Set percentage labels to white\n",
    "for autotext in autotexts:\n",
    "    autotext.set_color('white')\n",
    "    autotext.set_weight('bold')\n",
    "    \n",
    "# Set title\n",
    "plt.title('Distribution of Crime by Day of the Week (2014 - 2022)',y=1.02,fontsize=14,weight='bold')\n",
    "\n",
    "# Show the donut chart\n",
    "plt.savefig('crime_days.png',bbox_inches = 'tight')\n",
    "plt.show()"
   ]
  },
  {
   "cell_type": "markdown",
   "id": "655fa3ce",
   "metadata": {
    "papermill": {
     "duration": 0.018267,
     "end_time": "2023-10-06T13:54:53.450329",
     "exception": false,
     "start_time": "2023-10-06T13:54:53.432062",
     "status": "completed"
    },
    "tags": []
   },
   "source": [
    "**Key Findings:**\n",
    "\n",
    "1. **Uniform Weekly Frequency:**\n",
    "   - The frequency of reported crimes remains consistently uniform throughout the week, with no notable variations among the days.\n",
    "\n",
    "2. **Absence of Day-Specific Trends:**\n",
    "   - There is no discernible trend indicating a specific day of the week as the primary day for the occurrence of most criminal incidents. This signifies the absence of day-specific patterns in crime occurrence."
   ]
  },
  {
   "cell_type": "markdown",
   "id": "a2e97db0",
   "metadata": {
    "papermill": {
     "duration": 0.018,
     "end_time": "2023-10-06T13:54:53.486624",
     "exception": false,
     "start_time": "2023-10-06T13:54:53.468624",
     "status": "completed"
    },
    "tags": []
   },
   "source": [
    "**Do Some Crime occur more frequently in some season? Does season affect the nature and frequency of crime?**"
   ]
  },
  {
   "cell_type": "code",
   "execution_count": 26,
   "id": "44ba4e00",
   "metadata": {
    "_kg_hide-input": true,
    "execution": {
     "iopub.execute_input": "2023-10-06T13:54:53.525833Z",
     "iopub.status.busy": "2023-10-06T13:54:53.524980Z",
     "iopub.status.idle": "2023-10-06T13:54:54.525585Z",
     "shell.execute_reply": "2023-10-06T13:54:54.524731Z"
    },
    "papermill": {
     "duration": 1.023724,
     "end_time": "2023-10-06T13:54:54.528686",
     "exception": false,
     "start_time": "2023-10-06T13:54:53.504962",
     "status": "completed"
    },
    "tags": []
   },
   "outputs": [
    {
     "data": {
      "image/png": "[encoded data removed]",
      "text/plain": [
       "<Figure size 1000x500 with 1 Axes>"
      ]
     },
     "metadata": {},
     "output_type": "display_data"
    }
   ],
   "source": [
    "# Set the style\n",
    "sns.set_style('white')\n",
    "\n",
    "# Create a figure with a specific figsize\n",
    "fig, ax = plt.subplots(figsize=(10, 5))  # Adjust the width and height as needed\n",
    "\n",
    "# Define custom colors for each 'MCI_CATEGORY'\n",
    "custom_colors = {'Break and Enter': '#000814', 'Assault': '#f95738', 'Robbery': '#ff9505',\n",
    "                 'Auto Theft': '#772fda','Theft Over':'#0077b6'}\n",
    "\n",
    "# Create the countplot with custom colors and specify the 'ax' parameter\n",
    "sns.countplot(data=data, x='season', hue='MCI_CATEGORY', palette=custom_colors, ax=ax)\n",
    "\n",
    "# Add text labels to the bars\n",
    "for p in ax.patches:\n",
    "    height = p.get_height()\n",
    "    ax.annotate(f'{int(height)}', (p.get_x() + p.get_width() / 2., height), \n",
    "                ha='center', va='bottom', rotation=90, fontsize=10)\n",
    "\n",
    "# Add legend\n",
    "plt.legend(title='Crime Category', loc='upper left', bbox_to_anchor=(1, 1))\n",
    "\n",
    "# Set figure title and labels\n",
    "plt.title('Reported Crime Number in Different Season (2014 - 2022)', y=1.04, fontsize=14, weight='bold')\n",
    "plt.xlabel('')\n",
    "plt.ylabel('Number of Crime',fontsize=13)\n",
    "sns.despine()\n",
    "\n",
    "# Show the plot\n",
    "plt.savefig('crime_season.png',bbox_inches = 'tight')\n",
    "plt.show()\n"
   ]
  },
  {
   "cell_type": "markdown",
   "id": "addddede",
   "metadata": {
    "papermill": {
     "duration": 0.020818,
     "end_time": "2023-10-06T13:54:54.577521",
     "exception": false,
     "start_time": "2023-10-06T13:54:54.556703",
     "status": "completed"
    },
    "tags": []
   },
   "source": [
    "**Key Findings:**\n",
    "\n",
    "1. **Assault Dominance in All Seasons:**\n",
    "   - Assault consistently emerges as the most prevalent crime throughout all seasons. Its occurrence shows a slight increase during the summer months and a minor decrease during the winter season.\n",
    "\n",
    "2. **Robbery and Theft Over: Steady Throughout Seasons:**\n",
    "   - Robbery and Theft Over consistently rank as the least frequent crimes across all seasons, with their frequencies remaining relatively stable throughout the year.\n",
    "\n",
    "3. **Break and Enter as a Steady Second:**\n",
    "   - Break and Enter stands as the second most common crime, maintaining a consistent frequency across all seasons except for the fall, where it experiences a slight increase.\n",
    "\n",
    "4. **Auto Theft Peaks in the Fall:**\n",
    "   - Auto theft exhibits a modest rise during the summer season and reaches its peak during the fall, marking the highest frequency among the seasons."
   ]
  },
  {
   "cell_type": "markdown",
   "id": "ae677b89",
   "metadata": {
    "papermill": {
     "duration": 0.01858,
     "end_time": "2023-10-06T13:54:54.615127",
     "exception": false,
     "start_time": "2023-10-06T13:54:54.596547",
     "status": "completed"
    },
    "tags": []
   },
   "source": [
    "### High Crime Frequency Area(Top 50): \n"
   ]
  },
  {
   "cell_type": "markdown",
   "id": "873b9a05",
   "metadata": {
    "papermill": {
     "duration": 0.019015,
     "end_time": "2023-10-06T13:54:54.653050",
     "exception": false,
     "start_time": "2023-10-06T13:54:54.634035",
     "status": "completed"
    },
    "tags": []
   },
   "source": [
    "**Sample of top (50) areas where maximum crime has occured.**"
   ]
  },
  {
   "cell_type": "code",
   "execution_count": 27,
   "id": "83f9d5d6",
   "metadata": {
    "_kg_hide-input": true,
    "execution": {
     "iopub.execute_input": "2023-10-06T13:54:54.693278Z",
     "iopub.status.busy": "2023-10-06T13:54:54.692969Z",
     "iopub.status.idle": "2023-10-06T13:54:54.734864Z",
     "shell.execute_reply": "2023-10-06T13:54:54.733851Z"
    },
    "papermill": {
     "duration": 0.064911,
     "end_time": "2023-10-06T13:54:54.737076",
     "exception": false,
     "start_time": "2023-10-06T13:54:54.672165",
     "status": "completed"
    },
    "tags": []
   },
   "outputs": [
    {
     "data": {
      "text/html": [
       "<div>\n",
       "<style scoped>\n",
       "    .dataframe tbody tr th:only-of-type {\n",
       "        vertical-align: middle;\n",
       "    }\n",
       "\n",
       "    .dataframe tbody tr th {\n",
       "        vertical-align: top;\n",
       "    }\n",
       "\n",
       "    .dataframe thead th {\n",
       "        text-align: right;\n",
       "    }\n",
       "</style>\n",
       "<table border=\"1\" class=\"dataframe\">\n",
       "  <thead>\n",
       "    <tr style=\"text-align: right;\">\n",
       "      <th></th>\n",
       "      <th>NEIGHBOURHOOD_158</th>\n",
       "      <th>OFFENCE</th>\n",
       "    </tr>\n",
       "  </thead>\n",
       "  <tbody>\n",
       "    <tr>\n",
       "      <th>142</th>\n",
       "      <td>Runnymede-Bloor West Village</td>\n",
       "      <td>766</td>\n",
       "    </tr>\n",
       "    <tr>\n",
       "      <th>12</th>\n",
       "      <td>Oakdale-Beverley Heights</td>\n",
       "      <td>3730</td>\n",
       "    </tr>\n",
       "    <tr>\n",
       "      <th>9</th>\n",
       "      <td>Glenfield-Jane Heights</td>\n",
       "      <td>4017</td>\n",
       "    </tr>\n",
       "    <tr>\n",
       "      <th>106</th>\n",
       "      <td>Humber Bay Shores</td>\n",
       "      <td>1172</td>\n",
       "    </tr>\n",
       "    <tr>\n",
       "      <th>25</th>\n",
       "      <td>Mimico-Queensway</td>\n",
       "      <td>2683</td>\n",
       "    </tr>\n",
       "  </tbody>\n",
       "</table>\n",
       "</div>"
      ],
      "text/plain": [
       "                NEIGHBOURHOOD_158  OFFENCE\n",
       "142  Runnymede-Bloor West Village      766\n",
       "12       Oakdale-Beverley Heights     3730\n",
       "9          Glenfield-Jane Heights     4017\n",
       "106             Humber Bay Shores     1172\n",
       "25               Mimico-Queensway     2683"
      ]
     },
     "execution_count": 27,
     "metadata": {},
     "output_type": "execute_result"
    }
   ],
   "source": [
    "high_crime_area=data.groupby('NEIGHBOURHOOD_158')['OFFENCE'].count().sort_values(ascending=False)\n",
    "high_crime_area = high_crime_area.reset_index()\n",
    "high_crime_area.sample(5)"
   ]
  },
  {
   "cell_type": "markdown",
   "id": "0a384580",
   "metadata": {
    "papermill": {
     "duration": 0.025724,
     "end_time": "2023-10-06T13:54:54.783310",
     "exception": false,
     "start_time": "2023-10-06T13:54:54.757586",
     "status": "completed"
    },
    "tags": []
   },
   "source": [
    "**Finding the duration in days and week between first and last offence in each neighbourhood (Sample):**"
   ]
  },
  {
   "cell_type": "code",
   "execution_count": 28,
   "id": "83925b26",
   "metadata": {
    "_kg_hide-input": true,
    "execution": {
     "iopub.execute_input": "2023-10-06T13:54:54.825338Z",
     "iopub.status.busy": "2023-10-06T13:54:54.824715Z",
     "iopub.status.idle": "2023-10-06T13:54:54.905511Z",
     "shell.execute_reply": "2023-10-06T13:54:54.904593Z"
    },
    "papermill": {
     "duration": 0.102787,
     "end_time": "2023-10-06T13:54:54.907247",
     "exception": false,
     "start_time": "2023-10-06T13:54:54.804460",
     "status": "completed"
    },
    "tags": []
   },
   "outputs": [
    {
     "data": {
      "text/html": [
       "<div>\n",
       "<style scoped>\n",
       "    .dataframe tbody tr th:only-of-type {\n",
       "        vertical-align: middle;\n",
       "    }\n",
       "\n",
       "    .dataframe tbody tr th {\n",
       "        vertical-align: top;\n",
       "    }\n",
       "\n",
       "    .dataframe thead th {\n",
       "        text-align: right;\n",
       "    }\n",
       "</style>\n",
       "<table border=\"1\" class=\"dataframe\">\n",
       "  <thead>\n",
       "    <tr style=\"text-align: right;\">\n",
       "      <th></th>\n",
       "      <th>NEIGHBOURHOOD_158</th>\n",
       "      <th>min</th>\n",
       "      <th>max</th>\n",
       "      <th>duration_days</th>\n",
       "      <th>duration_weeks</th>\n",
       "    </tr>\n",
       "  </thead>\n",
       "  <tbody>\n",
       "    <tr>\n",
       "      <th>138</th>\n",
       "      <td>West Hill</td>\n",
       "      <td>2014-01-01 05:00:00+00:00</td>\n",
       "      <td>2022-12-31 05:00:00+00:00</td>\n",
       "      <td>3286</td>\n",
       "      <td>469</td>\n",
       "    </tr>\n",
       "    <tr>\n",
       "      <th>79</th>\n",
       "      <td>Lansing-Westgate</td>\n",
       "      <td>2014-01-13 05:00:00+00:00</td>\n",
       "      <td>2022-12-31 05:00:00+00:00</td>\n",
       "      <td>3274</td>\n",
       "      <td>467</td>\n",
       "    </tr>\n",
       "    <tr>\n",
       "      <th>150</th>\n",
       "      <td>Woodbine-Lumsden</td>\n",
       "      <td>2014-01-02 05:00:00+00:00</td>\n",
       "      <td>2022-12-23 05:00:00+00:00</td>\n",
       "      <td>3277</td>\n",
       "      <td>468</td>\n",
       "    </tr>\n",
       "    <tr>\n",
       "      <th>109</th>\n",
       "      <td>Parkwoods-O'Connor Hills</td>\n",
       "      <td>2014-01-03 05:00:00+00:00</td>\n",
       "      <td>2022-12-30 05:00:00+00:00</td>\n",
       "      <td>3283</td>\n",
       "      <td>469</td>\n",
       "    </tr>\n",
       "    <tr>\n",
       "      <th>142</th>\n",
       "      <td>Westminster-Branson</td>\n",
       "      <td>2014-01-03 05:00:00+00:00</td>\n",
       "      <td>2022-12-29 05:00:00+00:00</td>\n",
       "      <td>3282</td>\n",
       "      <td>468</td>\n",
       "    </tr>\n",
       "  </tbody>\n",
       "</table>\n",
       "</div>"
      ],
      "text/plain": [
       "            NEIGHBOURHOOD_158                       min  \\\n",
       "138                 West Hill 2014-01-01 05:00:00+00:00   \n",
       "79           Lansing-Westgate 2014-01-13 05:00:00+00:00   \n",
       "150          Woodbine-Lumsden 2014-01-02 05:00:00+00:00   \n",
       "109  Parkwoods-O'Connor Hills 2014-01-03 05:00:00+00:00   \n",
       "142       Westminster-Branson 2014-01-03 05:00:00+00:00   \n",
       "\n",
       "                          max  duration_days  duration_weeks  \n",
       "138 2022-12-31 05:00:00+00:00           3286             469  \n",
       "79  2022-12-31 05:00:00+00:00           3274             467  \n",
       "150 2022-12-23 05:00:00+00:00           3277             468  \n",
       "109 2022-12-30 05:00:00+00:00           3283             469  \n",
       "142 2022-12-29 05:00:00+00:00           3282             468  "
      ]
     },
     "execution_count": 28,
     "metadata": {},
     "output_type": "execute_result"
    }
   ],
   "source": [
    "data['REPORT_DATE'] = pd.to_datetime(data['REPORT_DATE'])\n",
    "\n",
    "# Group by 'NEIGHBOURHOOD_158' and calculate the minimum and maximum dates\n",
    "crime_duration = data.groupby('NEIGHBOURHOOD_158')['REPORT_DATE'].agg(['min', 'max']).reset_index()\n",
    "\n",
    "#  Convert 'min' and 'max' to datetime objects\n",
    "crime_duration['min'] = pd.to_datetime(crime_duration['min'])\n",
    "crime_duration['max'] = pd.to_datetime(crime_duration['max'])\n",
    "\n",
    "# Calculate the difference in days between 'max' and 'min'\n",
    "crime_duration['duration_days'] = (crime_duration['max'] - crime_duration['min']).dt.days\n",
    "\n",
    "# Calculate the duration in weeks\n",
    "crime_duration['duration_weeks'] = crime_duration['duration_days'] // 7\n",
    "crime_duration.sample(5)"
   ]
  },
  {
   "cell_type": "markdown",
   "id": "abb5cb7a",
   "metadata": {
    "papermill": {
     "duration": 0.01911,
     "end_time": "2023-10-06T13:54:54.945857",
     "exception": false,
     "start_time": "2023-10-06T13:54:54.926747",
     "status": "completed"
    },
    "tags": []
   },
   "source": [
    "**Joining multiple tables:**"
   ]
  },
  {
   "cell_type": "code",
   "execution_count": 29,
   "id": "f3fa70bd",
   "metadata": {
    "_kg_hide-input": true,
    "execution": {
     "iopub.execute_input": "2023-10-06T13:54:54.986046Z",
     "iopub.status.busy": "2023-10-06T13:54:54.985460Z",
     "iopub.status.idle": "2023-10-06T13:54:55.049458Z",
     "shell.execute_reply": "2023-10-06T13:54:55.048020Z"
    },
    "papermill": {
     "duration": 0.086982,
     "end_time": "2023-10-06T13:54:55.051870",
     "exception": false,
     "start_time": "2023-10-06T13:54:54.964888",
     "status": "completed"
    },
    "tags": []
   },
   "outputs": [
    {
     "data": {
      "text/html": [
       "<div>\n",
       "<style scoped>\n",
       "    .dataframe tbody tr th:only-of-type {\n",
       "        vertical-align: middle;\n",
       "    }\n",
       "\n",
       "    .dataframe tbody tr th {\n",
       "        vertical-align: top;\n",
       "    }\n",
       "\n",
       "    .dataframe thead th {\n",
       "        text-align: right;\n",
       "    }\n",
       "</style>\n",
       "<table border=\"1\" class=\"dataframe\">\n",
       "  <thead>\n",
       "    <tr style=\"text-align: right;\">\n",
       "      <th></th>\n",
       "      <th>NEIGHBOURHOOD_158</th>\n",
       "      <th>OFFENCE</th>\n",
       "      <th>LONG_WGS84</th>\n",
       "      <th>LAT_WGS84</th>\n",
       "    </tr>\n",
       "  </thead>\n",
       "  <tbody>\n",
       "    <tr>\n",
       "      <th>269649</th>\n",
       "      <td>Elms-Old Rexdale</td>\n",
       "      <td>947</td>\n",
       "      <td>-79.552972</td>\n",
       "      <td>43.718640</td>\n",
       "    </tr>\n",
       "    <tr>\n",
       "      <th>248183</th>\n",
       "      <td>Humber Bay Shores</td>\n",
       "      <td>1172</td>\n",
       "      <td>-79.489884</td>\n",
       "      <td>43.612099</td>\n",
       "    </tr>\n",
       "    <tr>\n",
       "      <th>119213</th>\n",
       "      <td>Harbourfront-CityPlace</td>\n",
       "      <td>2519</td>\n",
       "      <td>-79.396021</td>\n",
       "      <td>43.640894</td>\n",
       "    </tr>\n",
       "    <tr>\n",
       "      <th>89358</th>\n",
       "      <td>Yorkdale-Glen Park</td>\n",
       "      <td>2977</td>\n",
       "      <td>-79.448969</td>\n",
       "      <td>43.717490</td>\n",
       "    </tr>\n",
       "    <tr>\n",
       "      <th>219386</th>\n",
       "      <td>Thorncliffe Park</td>\n",
       "      <td>1409</td>\n",
       "      <td>-79.345795</td>\n",
       "      <td>43.703684</td>\n",
       "    </tr>\n",
       "  </tbody>\n",
       "</table>\n",
       "</div>"
      ],
      "text/plain": [
       "             NEIGHBOURHOOD_158  OFFENCE  LONG_WGS84  LAT_WGS84\n",
       "269649        Elms-Old Rexdale      947  -79.552972  43.718640\n",
       "248183       Humber Bay Shores     1172  -79.489884  43.612099\n",
       "119213  Harbourfront-CityPlace     2519  -79.396021  43.640894\n",
       "89358       Yorkdale-Glen Park     2977  -79.448969  43.717490\n",
       "219386        Thorncliffe Park     1409  -79.345795  43.703684"
      ]
     },
     "execution_count": 29,
     "metadata": {},
     "output_type": "execute_result"
    }
   ],
   "source": [
    "area=data[['NEIGHBOURHOOD_158','LONG_WGS84','LAT_WGS84']]\n",
    "\n",
    "# Merge 'high_crime_area' with 'area' using a left join\n",
    "crime_loc = pd.merge(high_crime_area, area, how='inner', on='NEIGHBOURHOOD_158')\n",
    "\n",
    "# Drop duplicates based on the 'NEIGHBOURHOOD_158' column, keeping only the first occurrence\n",
    "crime_loc = crime_loc.drop_duplicates(subset='NEIGHBOURHOOD_158', keep='first')\n",
    "\n",
    "# Now 'merged_df' contains one record for each neighborhood\n",
    "crime_location = crime_loc.sort_values(by='OFFENCE',ascending=False)\n",
    "crime_location.sample(5)"
   ]
  },
  {
   "cell_type": "code",
   "execution_count": 30,
   "id": "0896ab92",
   "metadata": {
    "_kg_hide-input": true,
    "execution": {
     "iopub.execute_input": "2023-10-06T13:54:55.102545Z",
     "iopub.status.busy": "2023-10-06T13:54:55.101622Z",
     "iopub.status.idle": "2023-10-06T13:54:55.119804Z",
     "shell.execute_reply": "2023-10-06T13:54:55.118640Z"
    },
    "papermill": {
     "duration": 0.045084,
     "end_time": "2023-10-06T13:54:55.122075",
     "exception": false,
     "start_time": "2023-10-06T13:54:55.076991",
     "status": "completed"
    },
    "tags": []
   },
   "outputs": [
    {
     "data": {
      "text/html": [
       "<div>\n",
       "<style scoped>\n",
       "    .dataframe tbody tr th:only-of-type {\n",
       "        vertical-align: middle;\n",
       "    }\n",
       "\n",
       "    .dataframe tbody tr th {\n",
       "        vertical-align: top;\n",
       "    }\n",
       "\n",
       "    .dataframe thead th {\n",
       "        text-align: right;\n",
       "    }\n",
       "</style>\n",
       "<table border=\"1\" class=\"dataframe\">\n",
       "  <thead>\n",
       "    <tr style=\"text-align: right;\">\n",
       "      <th></th>\n",
       "      <th>NEIGHBOURHOOD_158</th>\n",
       "      <th>OFFENCE</th>\n",
       "      <th>LONG_WGS84</th>\n",
       "      <th>LAT_WGS84</th>\n",
       "      <th>min</th>\n",
       "      <th>max</th>\n",
       "      <th>duration_days</th>\n",
       "      <th>duration_weeks</th>\n",
       "    </tr>\n",
       "  </thead>\n",
       "  <tbody>\n",
       "    <tr>\n",
       "      <th>0</th>\n",
       "      <td>West Humber-Clairville</td>\n",
       "      <td>8046</td>\n",
       "      <td>-79.600737</td>\n",
       "      <td>43.731827</td>\n",
       "      <td>2014-01-03 05:00:00+00:00</td>\n",
       "      <td>2022-12-31 05:00:00+00:00</td>\n",
       "      <td>3284</td>\n",
       "      <td>469</td>\n",
       "    </tr>\n",
       "    <tr>\n",
       "      <th>1</th>\n",
       "      <td>Moss Park</td>\n",
       "      <td>7328</td>\n",
       "      <td>-79.372758</td>\n",
       "      <td>43.655602</td>\n",
       "      <td>2014-01-02 05:00:00+00:00</td>\n",
       "      <td>2022-12-31 05:00:00+00:00</td>\n",
       "      <td>3285</td>\n",
       "      <td>469</td>\n",
       "    </tr>\n",
       "    <tr>\n",
       "      <th>2</th>\n",
       "      <td>Downtown Yonge East</td>\n",
       "      <td>6259</td>\n",
       "      <td>-79.380311</td>\n",
       "      <td>43.656454</td>\n",
       "      <td>2014-01-02 05:00:00+00:00</td>\n",
       "      <td>2022-12-31 05:00:00+00:00</td>\n",
       "      <td>3285</td>\n",
       "      <td>469</td>\n",
       "    </tr>\n",
       "    <tr>\n",
       "      <th>3</th>\n",
       "      <td>Yonge-Bay Corridor</td>\n",
       "      <td>5835</td>\n",
       "      <td>-79.386412</td>\n",
       "      <td>43.658168</td>\n",
       "      <td>2014-01-01 05:00:00+00:00</td>\n",
       "      <td>2022-12-30 05:00:00+00:00</td>\n",
       "      <td>3285</td>\n",
       "      <td>469</td>\n",
       "    </tr>\n",
       "    <tr>\n",
       "      <th>4</th>\n",
       "      <td>York University Heights</td>\n",
       "      <td>5747</td>\n",
       "      <td>-79.503349</td>\n",
       "      <td>43.760303</td>\n",
       "      <td>2014-01-01 05:00:00+00:00</td>\n",
       "      <td>2022-12-31 05:00:00+00:00</td>\n",
       "      <td>3286</td>\n",
       "      <td>469</td>\n",
       "    </tr>\n",
       "  </tbody>\n",
       "</table>\n",
       "</div>"
      ],
      "text/plain": [
       "         NEIGHBOURHOOD_158  OFFENCE  LONG_WGS84  LAT_WGS84  \\\n",
       "0   West Humber-Clairville     8046  -79.600737  43.731827   \n",
       "1                Moss Park     7328  -79.372758  43.655602   \n",
       "2      Downtown Yonge East     6259  -79.380311  43.656454   \n",
       "3       Yonge-Bay Corridor     5835  -79.386412  43.658168   \n",
       "4  York University Heights     5747  -79.503349  43.760303   \n",
       "\n",
       "                        min                       max  duration_days  \\\n",
       "0 2014-01-03 05:00:00+00:00 2022-12-31 05:00:00+00:00           3284   \n",
       "1 2014-01-02 05:00:00+00:00 2022-12-31 05:00:00+00:00           3285   \n",
       "2 2014-01-02 05:00:00+00:00 2022-12-31 05:00:00+00:00           3285   \n",
       "3 2014-01-01 05:00:00+00:00 2022-12-30 05:00:00+00:00           3285   \n",
       "4 2014-01-01 05:00:00+00:00 2022-12-31 05:00:00+00:00           3286   \n",
       "\n",
       "   duration_weeks  \n",
       "0             469  \n",
       "1             469  \n",
       "2             469  \n",
       "3             469  \n",
       "4             469  "
      ]
     },
     "execution_count": 30,
     "metadata": {},
     "output_type": "execute_result"
    }
   ],
   "source": [
    "crime_loc_dur = crime_location.merge(crime_duration,on = 'NEIGHBOURHOOD_158')\n",
    "crime_loc_dur = crime_loc_dur.drop_duplicates(subset='NEIGHBOURHOOD_158', keep='first').sort_values(by='OFFENCE',ascending=False)\n",
    "crime_loc_dur.head()"
   ]
  },
  {
   "cell_type": "markdown",
   "id": "134b8032",
   "metadata": {
    "papermill": {
     "duration": 0.022248,
     "end_time": "2023-10-06T13:54:55.168327",
     "exception": false,
     "start_time": "2023-10-06T13:54:55.146079",
     "status": "completed"
    },
    "tags": []
   },
   "source": [
    "**Finding top(50) locations where maximum crime has taken place:**"
   ]
  },
  {
   "cell_type": "code",
   "execution_count": 31,
   "id": "917372d6",
   "metadata": {
    "_kg_hide-input": true,
    "execution": {
     "iopub.execute_input": "2023-10-06T13:54:55.208472Z",
     "iopub.status.busy": "2023-10-06T13:54:55.207904Z",
     "iopub.status.idle": "2023-10-06T13:54:55.650724Z",
     "shell.execute_reply": "2023-10-06T13:54:55.649849Z"
    },
    "papermill": {
     "duration": 0.465366,
     "end_time": "2023-10-06T13:54:55.652950",
     "exception": false,
     "start_time": "2023-10-06T13:54:55.187584",
     "status": "completed"
    },
    "scrolled": true,
    "tags": []
   },
   "outputs": [
    {
     "data": {
      "text/html": [
       "<div style=\"width:100%;\"><div style=\"position:relative;width:100%;height:0;padding-bottom:60%;\"><span style=\"color:#565656\">Make this Notebook Trusted to load map: File -> Trust Notebook</span><iframe srcdoc=\"&lt;!DOCTYPE html&gt;\n",
       "&lt;html&gt;\n",
       "&lt;head&gt;\n",
       "    \n",
       "    &lt;meta http-equiv=&quot;content-type&quot; content=&quot;text/html; charset=UTF-8&quot; /&gt;\n",
       "    \n",
       "        &lt;script&gt;\n",
       "            L_NO_TOUCH = false;\n",
       "            L_DISABLE_3D = false;\n",
       "        &lt;/script&gt;\n",
       "    \n",
       "    &lt;style&gt;html, body {width: 100%;height: 100%;margin: 0;padding: 0;}&lt;/style&gt;\n",
       "    &lt;style&gt;#map {position:absolute;top:0;bottom:0;right:0;left:0;}&lt;/style&gt;\n",
       "    &lt;script src=&quot;https://cdn.jsdelivr.net/npm/leaflet@1.9.3/dist/leaflet.js&quot;&gt;&lt;/script&gt;\n",
       "    &lt;script src=&quot;https://code.jquery.com/jquery-1.12.4.min.js&quot;&gt;&lt;/script&gt;\n",
       "    &lt;script src=&quot;https://cdn.jsdelivr.net/npm/bootstrap@5.2.2/dist/js/bootstrap.bundle.min.js&quot;&gt;&lt;/script&gt;\n",
       "    &lt;script src=&quot;https://cdnjs.cloudflare.com/ajax/libs/Leaflet.awesome-markers/2.0.2/leaflet.awesome-markers.js&quot;&gt;&lt;/script&gt;\n",
       "    &lt;link rel=&quot;stylesheet&quot; href=&quot;https://cdn.jsdelivr.net/npm/leaflet@1.9.3/dist/leaflet.css&quot;/&gt;\n",
       "    &lt;link rel=&quot;stylesheet&quot; href=&quot;https://cdn.jsdelivr.net/npm/bootstrap@5.2.2/dist/css/bootstrap.min.css&quot;/&gt;\n",
       "    &lt;link rel=&quot;stylesheet&quot; href=&quot;https://netdna.bootstrapcdn.com/bootstrap/3.0.0/css/bootstrap.min.css&quot;/&gt;\n",
       "    &lt;link rel=&quot;stylesheet&quot; href=&quot;https://cdn.jsdelivr.net/npm/@fortawesome/fontawesome-free@6.2.0/css/all.min.css&quot;/&gt;\n",
       "    &lt;link rel=&quot;stylesheet&quot; href=&quot;https://cdnjs.cloudflare.com/ajax/libs/Leaflet.awesome-markers/2.0.2/leaflet.awesome-markers.css&quot;/&gt;\n",
       "    &lt;link rel=&quot;stylesheet&quot; href=&quot;https://cdn.jsdelivr.net/gh/python-visualization/folium/folium/templates/leaflet.awesome.rotate.min.css&quot;/&gt;\n",
       "    \n",
       "            &lt;meta name=&quot;viewport&quot; content=&quot;width=device-width,\n",
       "                initial-scale=1.0, maximum-scale=1.0, user-scalable=no&quot; /&gt;\n",
       "            &lt;style&gt;\n",
       "                #map_e91bd545db44f41ee86b7408b90ffebc {\n",
       "                    position: relative;\n",
       "                    width: 100.0%;\n",
       "                    height: 100.0%;\n",
       "                    left: 0.0%;\n",
       "                    top: 0.0%;\n",
       "                }\n",
       "                .leaflet-container { font-size: 1rem; }\n",
       "            &lt;/style&gt;\n",
       "        \n",
       "&lt;/head&gt;\n",
       "&lt;body&gt;\n",
       "    \n",
       "    \n",
       "            &lt;div class=&quot;folium-map&quot; id=&quot;map_e91bd545db44f41ee86b7408b90ffebc&quot; &gt;&lt;/div&gt;\n",
       "        \n",
       "&lt;/body&gt;\n",
       "&lt;script&gt;\n",
       "    \n",
       "    \n",
       "            var map_e91bd545db44f41ee86b7408b90ffebc = L.map(\n",
       "                &quot;map_e91bd545db44f41ee86b7408b90ffebc&quot;,\n",
       "                {\n",
       "                    center: [43.7, -79.4],\n",
       "                    crs: L.CRS.EPSG3857,\n",
       "                    zoom: 11,\n",
       "                    zoomControl: true,\n",
       "                    preferCanvas: false,\n",
       "                }\n",
       "            );\n",
       "\n",
       "            \n",
       "\n",
       "        \n",
       "    \n",
       "            var tile_layer_a1bb2fac0d2343071f108d90d91a32f0 = L.tileLayer(\n",
       "                &quot;https://{s}.tile.openstreetmap.org/{z}/{x}/{y}.png&quot;,\n",
       "                {&quot;attribution&quot;: &quot;Data by \\u0026copy; \\u003ca target=\\&quot;_blank\\&quot; href=\\&quot;http://openstreetmap.org\\&quot;\\u003eOpenStreetMap\\u003c/a\\u003e, under \\u003ca target=\\&quot;_blank\\&quot; href=\\&quot;http://www.openstreetmap.org/copyright\\&quot;\\u003eODbL\\u003c/a\\u003e.&quot;, &quot;detectRetina&quot;: false, &quot;maxNativeZoom&quot;: 18, &quot;maxZoom&quot;: 18, &quot;minZoom&quot;: 0, &quot;noWrap&quot;: false, &quot;opacity&quot;: 1, &quot;subdomains&quot;: &quot;abc&quot;, &quot;tms&quot;: false}\n",
       "            ).addTo(map_e91bd545db44f41ee86b7408b90ffebc);\n",
       "        \n",
       "    \n",
       "            var marker_57e5a88f33623fa48de8700392591b9c = L.marker(\n",
       "                [43.71, -79.41],\n",
       "                {}\n",
       "            ).addTo(map_e91bd545db44f41ee86b7408b90ffebc);\n",
       "        \n",
       "    \n",
       "            var div_icon_6cb730f87f907ea6a47d2c809a1b3044 = L.divIcon({&quot;className&quot;: &quot;empty&quot;, &quot;html&quot;: &quot;\\u003ch4 style=\\u0027text-align:center;\\u0027\\u003eArea Having High Crime Frequency(Top 50)\\u003c/h4\\u003e&quot;});\n",
       "            marker_57e5a88f33623fa48de8700392591b9c.setIcon(div_icon_6cb730f87f907ea6a47d2c809a1b3044);\n",
       "        \n",
       "    \n",
       "            var marker_748e6e96fe68dbb32903f9af46664569 = L.marker(\n",
       "                [43.7318266241219, -79.6007367875979],\n",
       "                {}\n",
       "            ).addTo(map_e91bd545db44f41ee86b7408b90ffebc);\n",
       "        \n",
       "    \n",
       "            var icon_0473de20e0b8cb4828318b513dfcd105 = L.AwesomeMarkers.icon(\n",
       "                {&quot;extraClasses&quot;: &quot;fa-rotate-0&quot;, &quot;icon&quot;: &quot;star&quot;, &quot;iconColor&quot;: &quot;blue&quot;, &quot;iconSize&quot;: [0, 0], &quot;markerColor&quot;: &quot;blue&quot;, &quot;prefix&quot;: &quot;glyphicon&quot;}\n",
       "            );\n",
       "            marker_748e6e96fe68dbb32903f9af46664569.setIcon(icon_0473de20e0b8cb4828318b513dfcd105);\n",
       "        \n",
       "    \n",
       "            marker_748e6e96fe68dbb32903f9af46664569.bindTooltip(\n",
       "                `&lt;div&gt;\n",
       "                     West Humber-Clairville: 8046 offenses\n",
       "                 &lt;/div&gt;`,\n",
       "                {&quot;sticky&quot;: true}\n",
       "            );\n",
       "        \n",
       "    \n",
       "            var marker_9a8e225616d4016833cdc7e992751c80 = L.marker(\n",
       "                [43.6556021041628, -79.3727580813418],\n",
       "                {}\n",
       "            ).addTo(map_e91bd545db44f41ee86b7408b90ffebc);\n",
       "        \n",
       "    \n",
       "            var icon_3112970bddc9078a01aa826023d65fdb = L.AwesomeMarkers.icon(\n",
       "                {&quot;extraClasses&quot;: &quot;fa-rotate-0&quot;, &quot;icon&quot;: &quot;star&quot;, &quot;iconColor&quot;: &quot;blue&quot;, &quot;iconSize&quot;: [0, 0], &quot;markerColor&quot;: &quot;blue&quot;, &quot;prefix&quot;: &quot;glyphicon&quot;}\n",
       "            );\n",
       "            marker_9a8e225616d4016833cdc7e992751c80.setIcon(icon_3112970bddc9078a01aa826023d65fdb);\n",
       "        \n",
       "    \n",
       "            marker_9a8e225616d4016833cdc7e992751c80.bindTooltip(\n",
       "                `&lt;div&gt;\n",
       "                     Moss Park: 7328 offenses\n",
       "                 &lt;/div&gt;`,\n",
       "                {&quot;sticky&quot;: true}\n",
       "            );\n",
       "        \n",
       "    \n",
       "            var marker_b43ad3b0a74f0b67cfdbc00d10ca34ea = L.marker(\n",
       "                [43.656453806685, -79.3803110983711],\n",
       "                {}\n",
       "            ).addTo(map_e91bd545db44f41ee86b7408b90ffebc);\n",
       "        \n",
       "    \n",
       "            var icon_8655be5fd66b193a06733bce88d8d67e = L.AwesomeMarkers.icon(\n",
       "                {&quot;extraClasses&quot;: &quot;fa-rotate-0&quot;, &quot;icon&quot;: &quot;star&quot;, &quot;iconColor&quot;: &quot;blue&quot;, &quot;iconSize&quot;: [0, 0], &quot;markerColor&quot;: &quot;blue&quot;, &quot;prefix&quot;: &quot;glyphicon&quot;}\n",
       "            );\n",
       "            marker_b43ad3b0a74f0b67cfdbc00d10ca34ea.setIcon(icon_8655be5fd66b193a06733bce88d8d67e);\n",
       "        \n",
       "    \n",
       "            marker_b43ad3b0a74f0b67cfdbc00d10ca34ea.bindTooltip(\n",
       "                `&lt;div&gt;\n",
       "                     Downtown Yonge East: 6259 offenses\n",
       "                 &lt;/div&gt;`,\n",
       "                {&quot;sticky&quot;: true}\n",
       "            );\n",
       "        \n",
       "    \n",
       "            var marker_c19894258be379817212ea91327c0c10 = L.marker(\n",
       "                [43.6581677417367, -79.3864118704696],\n",
       "                {}\n",
       "            ).addTo(map_e91bd545db44f41ee86b7408b90ffebc);\n",
       "        \n",
       "    \n",
       "            var icon_2814f14f4db448898327521e2dd8ee9e = L.AwesomeMarkers.icon(\n",
       "                {&quot;extraClasses&quot;: &quot;fa-rotate-0&quot;, &quot;icon&quot;: &quot;star&quot;, &quot;iconColor&quot;: &quot;blue&quot;, &quot;iconSize&quot;: [0, 0], &quot;markerColor&quot;: &quot;blue&quot;, &quot;prefix&quot;: &quot;glyphicon&quot;}\n",
       "            );\n",
       "            marker_c19894258be379817212ea91327c0c10.setIcon(icon_2814f14f4db448898327521e2dd8ee9e);\n",
       "        \n",
       "    \n",
       "            marker_c19894258be379817212ea91327c0c10.bindTooltip(\n",
       "                `&lt;div&gt;\n",
       "                     Yonge-Bay Corridor: 5835 offenses\n",
       "                 &lt;/div&gt;`,\n",
       "                {&quot;sticky&quot;: true}\n",
       "            );\n",
       "        \n",
       "    \n",
       "            var marker_78d640e3c8bfb47d5337f9b9249ac475 = L.marker(\n",
       "                [43.7603027241335, -79.5033485702814],\n",
       "                {}\n",
       "            ).addTo(map_e91bd545db44f41ee86b7408b90ffebc);\n",
       "        \n",
       "    \n",
       "            var icon_50503cbacd77f4de0b552a670aebc231 = L.AwesomeMarkers.icon(\n",
       "                {&quot;extraClasses&quot;: &quot;fa-rotate-0&quot;, &quot;icon&quot;: &quot;star&quot;, &quot;iconColor&quot;: &quot;blue&quot;, &quot;iconSize&quot;: [0, 0], &quot;markerColor&quot;: &quot;blue&quot;, &quot;prefix&quot;: &quot;glyphicon&quot;}\n",
       "            );\n",
       "            marker_78d640e3c8bfb47d5337f9b9249ac475.setIcon(icon_50503cbacd77f4de0b552a670aebc231);\n",
       "        \n",
       "    \n",
       "            marker_78d640e3c8bfb47d5337f9b9249ac475.bindTooltip(\n",
       "                `&lt;div&gt;\n",
       "                     York University Heights: 5747 offenses\n",
       "                 &lt;/div&gt;`,\n",
       "                {&quot;sticky&quot;: true}\n",
       "            );\n",
       "        \n",
       "    \n",
       "            var marker_16c54cf0ed66049affef74205f38b7cf = L.marker(\n",
       "                [43.6466392084374, -79.3918413604065],\n",
       "                {}\n",
       "            ).addTo(map_e91bd545db44f41ee86b7408b90ffebc);\n",
       "        \n",
       "    \n",
       "            var icon_7040801b0c6cae382438a8e5d87803f4 = L.AwesomeMarkers.icon(\n",
       "                {&quot;extraClasses&quot;: &quot;fa-rotate-0&quot;, &quot;icon&quot;: &quot;star&quot;, &quot;iconColor&quot;: &quot;blue&quot;, &quot;iconSize&quot;: [0, 0], &quot;markerColor&quot;: &quot;blue&quot;, &quot;prefix&quot;: &quot;glyphicon&quot;}\n",
       "            );\n",
       "            marker_16c54cf0ed66049affef74205f38b7cf.setIcon(icon_7040801b0c6cae382438a8e5d87803f4);\n",
       "        \n",
       "    \n",
       "            marker_16c54cf0ed66049affef74205f38b7cf.bindTooltip(\n",
       "                `&lt;div&gt;\n",
       "                     Wellington Place: 5668 offenses\n",
       "                 &lt;/div&gt;`,\n",
       "                {&quot;sticky&quot;: true}\n",
       "            );\n",
       "        \n",
       "    \n",
       "            var marker_71ea33c887957497c93611f16605a0a2 = L.marker(\n",
       "                [43.6547968700057, -79.3942768172954],\n",
       "                {}\n",
       "            ).addTo(map_e91bd545db44f41ee86b7408b90ffebc);\n",
       "        \n",
       "    \n",
       "            var icon_61bfd4b197dc53364fc10d6c387e9c5c = L.AwesomeMarkers.icon(\n",
       "                {&quot;extraClasses&quot;: &quot;fa-rotate-0&quot;, &quot;icon&quot;: &quot;star&quot;, &quot;iconColor&quot;: &quot;blue&quot;, &quot;iconSize&quot;: [0, 0], &quot;markerColor&quot;: &quot;blue&quot;, &quot;prefix&quot;: &quot;glyphicon&quot;}\n",
       "            );\n",
       "            marker_71ea33c887957497c93611f16605a0a2.setIcon(icon_61bfd4b197dc53364fc10d6c387e9c5c);\n",
       "        \n",
       "    \n",
       "            marker_71ea33c887957497c93611f16605a0a2.bindTooltip(\n",
       "                `&lt;div&gt;\n",
       "                     Kensington-Chinatown: 5337 offenses\n",
       "                 &lt;/div&gt;`,\n",
       "                {&quot;sticky&quot;: true}\n",
       "            );\n",
       "        \n",
       "    \n",
       "            var marker_adfe8f73f6a9ac17f10c28930330adbb = L.marker(\n",
       "                [43.7613933196769, -79.1740333794421],\n",
       "                {}\n",
       "            ).addTo(map_e91bd545db44f41ee86b7408b90ffebc);\n",
       "        \n",
       "    \n",
       "            var icon_d3943e9f24dc2a82a0cff3374f837af7 = L.AwesomeMarkers.icon(\n",
       "                {&quot;extraClasses&quot;: &quot;fa-rotate-0&quot;, &quot;icon&quot;: &quot;star&quot;, &quot;iconColor&quot;: &quot;blue&quot;, &quot;iconSize&quot;: [0, 0], &quot;markerColor&quot;: &quot;blue&quot;, &quot;prefix&quot;: &quot;glyphicon&quot;}\n",
       "            );\n",
       "            marker_adfe8f73f6a9ac17f10c28930330adbb.setIcon(icon_d3943e9f24dc2a82a0cff3374f837af7);\n",
       "        \n",
       "    \n",
       "            marker_adfe8f73f6a9ac17f10c28930330adbb.bindTooltip(\n",
       "                `&lt;div&gt;\n",
       "                     West Hill: 4660 offenses\n",
       "                 &lt;/div&gt;`,\n",
       "                {&quot;sticky&quot;: true}\n",
       "            );\n",
       "        \n",
       "    \n",
       "            var marker_c2cbf6d56d00e7f474a6066c3d26e2d4 = L.marker(\n",
       "                [43.6711273924786, -79.391279482384],\n",
       "                {}\n",
       "            ).addTo(map_e91bd545db44f41ee86b7408b90ffebc);\n",
       "        \n",
       "    \n",
       "            var icon_c6b03c3c758887e08f903520d54ab846 = L.AwesomeMarkers.icon(\n",
       "                {&quot;extraClasses&quot;: &quot;fa-rotate-0&quot;, &quot;icon&quot;: &quot;star&quot;, &quot;iconColor&quot;: &quot;blue&quot;, &quot;iconSize&quot;: [0, 0], &quot;markerColor&quot;: &quot;blue&quot;, &quot;prefix&quot;: &quot;glyphicon&quot;}\n",
       "            );\n",
       "            marker_c2cbf6d56d00e7f474a6066c3d26e2d4.setIcon(icon_c6b03c3c758887e08f903520d54ab846);\n",
       "        \n",
       "    \n",
       "            marker_c2cbf6d56d00e7f474a6066c3d26e2d4.bindTooltip(\n",
       "                `&lt;div&gt;\n",
       "                     Annex: 4389 offenses\n",
       "                 &lt;/div&gt;`,\n",
       "                {&quot;sticky&quot;: true}\n",
       "            );\n",
       "        \n",
       "    \n",
       "            var marker_d70d63e333ea7b0532626a3e5748b154 = L.marker(\n",
       "                [43.7393831786129, -79.5132172795793],\n",
       "                {}\n",
       "            ).addTo(map_e91bd545db44f41ee86b7408b90ffebc);\n",
       "        \n",
       "    \n",
       "            var icon_725b93c65d06568e25f0f4644626a486 = L.AwesomeMarkers.icon(\n",
       "                {&quot;extraClasses&quot;: &quot;fa-rotate-0&quot;, &quot;icon&quot;: &quot;star&quot;, &quot;iconColor&quot;: &quot;blue&quot;, &quot;iconSize&quot;: [0, 0], &quot;markerColor&quot;: &quot;blue&quot;, &quot;prefix&quot;: &quot;glyphicon&quot;}\n",
       "            );\n",
       "            marker_d70d63e333ea7b0532626a3e5748b154.setIcon(icon_725b93c65d06568e25f0f4644626a486);\n",
       "        \n",
       "    \n",
       "            marker_d70d63e333ea7b0532626a3e5748b154.bindTooltip(\n",
       "                `&lt;div&gt;\n",
       "                     Glenfield-Jane Heights: 4017 offenses\n",
       "                 &lt;/div&gt;`,\n",
       "                {&quot;sticky&quot;: true}\n",
       "            );\n",
       "        \n",
       "    \n",
       "            var marker_5b4857dacb902a45e8ea4047309e6091 = L.marker(\n",
       "                [43.6638977699362, -79.3841540266399],\n",
       "                {}\n",
       "            ).addTo(map_e91bd545db44f41ee86b7408b90ffebc);\n",
       "        \n",
       "    \n",
       "            var icon_c1a0e2f36efca537fed5209936bdab94 = L.AwesomeMarkers.icon(\n",
       "                {&quot;extraClasses&quot;: &quot;fa-rotate-0&quot;, &quot;icon&quot;: &quot;star&quot;, &quot;iconColor&quot;: &quot;blue&quot;, &quot;iconSize&quot;: [0, 0], &quot;markerColor&quot;: &quot;blue&quot;, &quot;prefix&quot;: &quot;glyphicon&quot;}\n",
       "            );\n",
       "            marker_5b4857dacb902a45e8ea4047309e6091.setIcon(icon_c1a0e2f36efca537fed5209936bdab94);\n",
       "        \n",
       "    \n",
       "            marker_5b4857dacb902a45e8ea4047309e6091.bindTooltip(\n",
       "                `&lt;div&gt;\n",
       "                     Church-Wellesley: 3974 offenses\n",
       "                 &lt;/div&gt;`,\n",
       "                {&quot;sticky&quot;: true}\n",
       "            );\n",
       "        \n",
       "    \n",
       "            var marker_488527a48624c8a49616dcfef28585b0 = L.marker(\n",
       "                [43.646293183398, -79.3502294146631],\n",
       "                {}\n",
       "            ).addTo(map_e91bd545db44f41ee86b7408b90ffebc);\n",
       "        \n",
       "    \n",
       "            var icon_c5ef19e427502747436712a682df6971 = L.AwesomeMarkers.icon(\n",
       "                {&quot;extraClasses&quot;: &quot;fa-rotate-0&quot;, &quot;icon&quot;: &quot;star&quot;, &quot;iconColor&quot;: &quot;blue&quot;, &quot;iconSize&quot;: [0, 0], &quot;markerColor&quot;: &quot;blue&quot;, &quot;prefix&quot;: &quot;glyphicon&quot;}\n",
       "            );\n",
       "            marker_488527a48624c8a49616dcfef28585b0.setIcon(icon_c5ef19e427502747436712a682df6971);\n",
       "        \n",
       "    \n",
       "            marker_488527a48624c8a49616dcfef28585b0.bindTooltip(\n",
       "                `&lt;div&gt;\n",
       "                     South Riverdale: 3810 offenses\n",
       "                 &lt;/div&gt;`,\n",
       "                {&quot;sticky&quot;: true}\n",
       "            );\n",
       "        \n",
       "    \n",
       "            var marker_82d24539a5f4ed9ebcf653789296d7a0 = L.marker(\n",
       "                [43.7198240863369, -79.5137965538313],\n",
       "                {}\n",
       "            ).addTo(map_e91bd545db44f41ee86b7408b90ffebc);\n",
       "        \n",
       "    \n",
       "            var icon_7bcd3c69422eb0573ed650efe6745238 = L.AwesomeMarkers.icon(\n",
       "                {&quot;extraClasses&quot;: &quot;fa-rotate-0&quot;, &quot;icon&quot;: &quot;star&quot;, &quot;iconColor&quot;: &quot;blue&quot;, &quot;iconSize&quot;: [0, 0], &quot;markerColor&quot;: &quot;blue&quot;, &quot;prefix&quot;: &quot;glyphicon&quot;}\n",
       "            );\n",
       "            marker_82d24539a5f4ed9ebcf653789296d7a0.setIcon(icon_7bcd3c69422eb0573ed650efe6745238);\n",
       "        \n",
       "    \n",
       "            marker_82d24539a5f4ed9ebcf653789296d7a0.bindTooltip(\n",
       "                `&lt;div&gt;\n",
       "                     Oakdale-Beverley Heights: 3730 offenses\n",
       "                 &lt;/div&gt;`,\n",
       "                {&quot;sticky&quot;: true}\n",
       "            );\n",
       "        \n",
       "    \n",
       "            var marker_891d45c5821e6497cc4d96e2a82f8e22 = L.marker(\n",
       "                [43.7000781869406, -79.2867261150234],\n",
       "                {}\n",
       "            ).addTo(map_e91bd545db44f41ee86b7408b90ffebc);\n",
       "        \n",
       "    \n",
       "            var icon_1976cc5b104f19c88c61f7933af94e32 = L.AwesomeMarkers.icon(\n",
       "                {&quot;extraClasses&quot;: &quot;fa-rotate-0&quot;, &quot;icon&quot;: &quot;star&quot;, &quot;iconColor&quot;: &quot;blue&quot;, &quot;iconSize&quot;: [0, 0], &quot;markerColor&quot;: &quot;blue&quot;, &quot;prefix&quot;: &quot;glyphicon&quot;}\n",
       "            );\n",
       "            marker_891d45c5821e6497cc4d96e2a82f8e22.setIcon(icon_1976cc5b104f19c88c61f7933af94e32);\n",
       "        \n",
       "    \n",
       "            marker_891d45c5821e6497cc4d96e2a82f8e22.bindTooltip(\n",
       "                `&lt;div&gt;\n",
       "                     Clairlea-Birchmount: 3642 offenses\n",
       "                 &lt;/div&gt;`,\n",
       "                {&quot;sticky&quot;: true}\n",
       "            );\n",
       "        \n",
       "    \n",
       "            var marker_512677e67bab40894721bf069abbd384 = L.marker(\n",
       "                [43.6451618181954, -79.3787584263892],\n",
       "                {}\n",
       "            ).addTo(map_e91bd545db44f41ee86b7408b90ffebc);\n",
       "        \n",
       "    \n",
       "            var icon_aa4d41ee7dd28e940bc87bbf669e67e9 = L.AwesomeMarkers.icon(\n",
       "                {&quot;extraClasses&quot;: &quot;fa-rotate-0&quot;, &quot;icon&quot;: &quot;star&quot;, &quot;iconColor&quot;: &quot;blue&quot;, &quot;iconSize&quot;: [0, 0], &quot;markerColor&quot;: &quot;blue&quot;, &quot;prefix&quot;: &quot;glyphicon&quot;}\n",
       "            );\n",
       "            marker_512677e67bab40894721bf069abbd384.setIcon(icon_aa4d41ee7dd28e940bc87bbf669e67e9);\n",
       "        \n",
       "    \n",
       "            marker_512677e67bab40894721bf069abbd384.bindTooltip(\n",
       "                `&lt;div&gt;\n",
       "                     St Lawrence-East Bayfront-The Islands: 3604 offenses\n",
       "                 &lt;/div&gt;`,\n",
       "                {&quot;sticky&quot;: true}\n",
       "            );\n",
       "        \n",
       "    \n",
       "            var marker_687f94314551928cec18feeee3f908e7 = L.marker(\n",
       "                [43.7453703486846, -79.2947269257573],\n",
       "                {}\n",
       "            ).addTo(map_e91bd545db44f41ee86b7408b90ffebc);\n",
       "        \n",
       "    \n",
       "            var icon_d9577f9c57b23616823381c0726f383e = L.AwesomeMarkers.icon(\n",
       "                {&quot;extraClasses&quot;: &quot;fa-rotate-0&quot;, &quot;icon&quot;: &quot;star&quot;, &quot;iconColor&quot;: &quot;blue&quot;, &quot;iconSize&quot;: [0, 0], &quot;markerColor&quot;: &quot;blue&quot;, &quot;prefix&quot;: &quot;glyphicon&quot;}\n",
       "            );\n",
       "            marker_687f94314551928cec18feeee3f908e7.setIcon(icon_d9577f9c57b23616823381c0726f383e);\n",
       "        \n",
       "    \n",
       "            marker_687f94314551928cec18feeee3f908e7.bindTooltip(\n",
       "                `&lt;div&gt;\n",
       "                     Wexford/Maryvale: 3511 offenses\n",
       "                 &lt;/div&gt;`,\n",
       "                {&quot;sticky&quot;: true}\n",
       "            );\n",
       "        \n",
       "    \n",
       "            var marker_37f498cf3406f3ea17a43d1eb98fa7b6 = L.marker(\n",
       "                [43.7442806139144, -79.5953643923368],\n",
       "                {}\n",
       "            ).addTo(map_e91bd545db44f41ee86b7408b90ffebc);\n",
       "        \n",
       "    \n",
       "            var icon_161abbfcdc0a8e95136c2cb3abb96f54 = L.AwesomeMarkers.icon(\n",
       "                {&quot;extraClasses&quot;: &quot;fa-rotate-0&quot;, &quot;icon&quot;: &quot;star&quot;, &quot;iconColor&quot;: &quot;blue&quot;, &quot;iconSize&quot;: [0, 0], &quot;markerColor&quot;: &quot;blue&quot;, &quot;prefix&quot;: &quot;glyphicon&quot;}\n",
       "            );\n",
       "            marker_37f498cf3406f3ea17a43d1eb98fa7b6.setIcon(icon_161abbfcdc0a8e95136c2cb3abb96f54);\n",
       "        \n",
       "    \n",
       "            marker_37f498cf3406f3ea17a43d1eb98fa7b6.bindTooltip(\n",
       "                `&lt;div&gt;\n",
       "                     Mount Olive-Silverstone-Jamestown: 3461 offenses\n",
       "                 &lt;/div&gt;`,\n",
       "                {&quot;sticky&quot;: true}\n",
       "            );\n",
       "        \n",
       "    \n",
       "            var marker_553273155084afe42950ca002cc2edc9 = L.marker(\n",
       "                [43.6184722332727, -79.5294778490325],\n",
       "                {}\n",
       "            ).addTo(map_e91bd545db44f41ee86b7408b90ffebc);\n",
       "        \n",
       "    \n",
       "            var icon_10213391825e63aa66b03db3ed86378f = L.AwesomeMarkers.icon(\n",
       "                {&quot;extraClasses&quot;: &quot;fa-rotate-0&quot;, &quot;icon&quot;: &quot;star&quot;, &quot;iconColor&quot;: &quot;blue&quot;, &quot;iconSize&quot;: [0, 0], &quot;markerColor&quot;: &quot;blue&quot;, &quot;prefix&quot;: &quot;glyphicon&quot;}\n",
       "            );\n",
       "            marker_553273155084afe42950ca002cc2edc9.setIcon(icon_10213391825e63aa66b03db3ed86378f);\n",
       "        \n",
       "    \n",
       "            marker_553273155084afe42950ca002cc2edc9.bindTooltip(\n",
       "                `&lt;div&gt;\n",
       "                     Etobicoke City Centre: 3222 offenses\n",
       "                 &lt;/div&gt;`,\n",
       "                {&quot;sticky&quot;: true}\n",
       "            );\n",
       "        \n",
       "    \n",
       "            var marker_4fcaaf67ddf60e4b192c337e1d15a3be = L.marker(\n",
       "                [43.6403266371425, -79.4379192288153],\n",
       "                {}\n",
       "            ).addTo(map_e91bd545db44f41ee86b7408b90ffebc);\n",
       "        \n",
       "    \n",
       "            var icon_42dbd994f41ab1d5416ee9f3c5ab3e86 = L.AwesomeMarkers.icon(\n",
       "                {&quot;extraClasses&quot;: &quot;fa-rotate-0&quot;, &quot;icon&quot;: &quot;star&quot;, &quot;iconColor&quot;: &quot;blue&quot;, &quot;iconSize&quot;: [0, 0], &quot;markerColor&quot;: &quot;blue&quot;, &quot;prefix&quot;: &quot;glyphicon&quot;}\n",
       "            );\n",
       "            marker_4fcaaf67ddf60e4b192c337e1d15a3be.setIcon(icon_42dbd994f41ab1d5416ee9f3c5ab3e86);\n",
       "        \n",
       "    \n",
       "            marker_4fcaaf67ddf60e4b192c337e1d15a3be.bindTooltip(\n",
       "                `&lt;div&gt;\n",
       "                     South Parkdale: 3118 offenses\n",
       "                 &lt;/div&gt;`,\n",
       "                {&quot;sticky&quot;: true}\n",
       "            );\n",
       "        \n",
       "    \n",
       "            var marker_f6cc0ec7b11337ffa68873b9d776f110 = L.marker(\n",
       "                [43.7174898288382, -79.4489693200836],\n",
       "                {}\n",
       "            ).addTo(map_e91bd545db44f41ee86b7408b90ffebc);\n",
       "        \n",
       "    \n",
       "            var icon_398f341af100e0e284f11e6d4c59cd55 = L.AwesomeMarkers.icon(\n",
       "                {&quot;extraClasses&quot;: &quot;fa-rotate-0&quot;, &quot;icon&quot;: &quot;star&quot;, &quot;iconColor&quot;: &quot;blue&quot;, &quot;iconSize&quot;: [0, 0], &quot;markerColor&quot;: &quot;blue&quot;, &quot;prefix&quot;: &quot;glyphicon&quot;}\n",
       "            );\n",
       "            marker_f6cc0ec7b11337ffa68873b9d776f110.setIcon(icon_398f341af100e0e284f11e6d4c59cd55);\n",
       "        \n",
       "    \n",
       "            marker_f6cc0ec7b11337ffa68873b9d776f110.bindTooltip(\n",
       "                `&lt;div&gt;\n",
       "                     Yorkdale-Glen Park: 2977 offenses\n",
       "                 &lt;/div&gt;`,\n",
       "                {&quot;sticky&quot;: true}\n",
       "            );\n",
       "        \n",
       "    \n",
       "            var marker_37c20219ef08fe0dd519a4dfe4e56145 = L.marker(\n",
       "                [43.7617172871087, -79.5107628502319],\n",
       "                {}\n",
       "            ).addTo(map_e91bd545db44f41ee86b7408b90ffebc);\n",
       "        \n",
       "    \n",
       "            var icon_b27b74cfd21b89251de4908bd96f87e1 = L.AwesomeMarkers.icon(\n",
       "                {&quot;extraClasses&quot;: &quot;fa-rotate-0&quot;, &quot;icon&quot;: &quot;star&quot;, &quot;iconColor&quot;: &quot;blue&quot;, &quot;iconSize&quot;: [0, 0], &quot;markerColor&quot;: &quot;blue&quot;, &quot;prefix&quot;: &quot;glyphicon&quot;}\n",
       "            );\n",
       "            marker_37c20219ef08fe0dd519a4dfe4e56145.setIcon(icon_b27b74cfd21b89251de4908bd96f87e1);\n",
       "        \n",
       "    \n",
       "            marker_37c20219ef08fe0dd519a4dfe4e56145.bindTooltip(\n",
       "                `&lt;div&gt;\n",
       "                     Black Creek: 2900 offenses\n",
       "                 &lt;/div&gt;`,\n",
       "                {&quot;sticky&quot;: true}\n",
       "            );\n",
       "        \n",
       "    \n",
       "            var marker_23f93a9ee228bb8c7f2848ce43b39ce6 = L.marker(\n",
       "                [43.7657958510698, -79.2810747937924],\n",
       "                {}\n",
       "            ).addTo(map_e91bd545db44f41ee86b7408b90ffebc);\n",
       "        \n",
       "    \n",
       "            var icon_1412fa0e1ad5008e26468aec0f8bc4e7 = L.AwesomeMarkers.icon(\n",
       "                {&quot;extraClasses&quot;: &quot;fa-rotate-0&quot;, &quot;icon&quot;: &quot;star&quot;, &quot;iconColor&quot;: &quot;blue&quot;, &quot;iconSize&quot;: [0, 0], &quot;markerColor&quot;: &quot;blue&quot;, &quot;prefix&quot;: &quot;glyphicon&quot;}\n",
       "            );\n",
       "            marker_23f93a9ee228bb8c7f2848ce43b39ce6.setIcon(icon_1412fa0e1ad5008e26468aec0f8bc4e7);\n",
       "        \n",
       "    \n",
       "            marker_23f93a9ee228bb8c7f2848ce43b39ce6.bindTooltip(\n",
       "                `&lt;div&gt;\n",
       "                     Dorset Park: 2835 offenses\n",
       "                 &lt;/div&gt;`,\n",
       "                {&quot;sticky&quot;: true}\n",
       "            );\n",
       "        \n",
       "    \n",
       "            var marker_357fc2282abe59b424aa294d89fb83bf = L.marker(\n",
       "                [43.7001519748185, -79.5161975699883],\n",
       "                {}\n",
       "            ).addTo(map_e91bd545db44f41ee86b7408b90ffebc);\n",
       "        \n",
       "    \n",
       "            var icon_54a1c67c4c3f24f421f088bd3d119238 = L.AwesomeMarkers.icon(\n",
       "                {&quot;extraClasses&quot;: &quot;fa-rotate-0&quot;, &quot;icon&quot;: &quot;star&quot;, &quot;iconColor&quot;: &quot;blue&quot;, &quot;iconSize&quot;: [0, 0], &quot;markerColor&quot;: &quot;blue&quot;, &quot;prefix&quot;: &quot;glyphicon&quot;}\n",
       "            );\n",
       "            marker_357fc2282abe59b424aa294d89fb83bf.setIcon(icon_54a1c67c4c3f24f421f088bd3d119238);\n",
       "        \n",
       "    \n",
       "            marker_357fc2282abe59b424aa294d89fb83bf.bindTooltip(\n",
       "                `&lt;div&gt;\n",
       "                     Weston: 2760 offenses\n",
       "                 &lt;/div&gt;`,\n",
       "                {&quot;sticky&quot;: true}\n",
       "            );\n",
       "        \n",
       "    \n",
       "            var marker_cc333bb2c1ccff4edad72e0b874df666 = L.marker(\n",
       "                [43.7222733612912, -79.262120234735],\n",
       "                {}\n",
       "            ).addTo(map_e91bd545db44f41ee86b7408b90ffebc);\n",
       "        \n",
       "    \n",
       "            var icon_e6aeb82163cff67e021b21da4ae4b75b = L.AwesomeMarkers.icon(\n",
       "                {&quot;extraClasses&quot;: &quot;fa-rotate-0&quot;, &quot;icon&quot;: &quot;star&quot;, &quot;iconColor&quot;: &quot;blue&quot;, &quot;iconSize&quot;: [0, 0], &quot;markerColor&quot;: &quot;blue&quot;, &quot;prefix&quot;: &quot;glyphicon&quot;}\n",
       "            );\n",
       "            marker_cc333bb2c1ccff4edad72e0b874df666.setIcon(icon_e6aeb82163cff67e021b21da4ae4b75b);\n",
       "        \n",
       "    \n",
       "            marker_cc333bb2c1ccff4edad72e0b874df666.bindTooltip(\n",
       "                `&lt;div&gt;\n",
       "                     Kennedy Park: 2754 offenses\n",
       "                 &lt;/div&gt;`,\n",
       "                {&quot;sticky&quot;: true}\n",
       "            );\n",
       "        \n",
       "    \n",
       "            var marker_028afceae1ee47a999197647bd9ef5e7 = L.marker(\n",
       "                [43.6883749504072, -79.2950113052799],\n",
       "                {}\n",
       "            ).addTo(map_e91bd545db44f41ee86b7408b90ffebc);\n",
       "        \n",
       "    \n",
       "            var icon_4bca3d8f92786e105efc9a25d62e9c78 = L.AwesomeMarkers.icon(\n",
       "                {&quot;extraClasses&quot;: &quot;fa-rotate-0&quot;, &quot;icon&quot;: &quot;star&quot;, &quot;iconColor&quot;: &quot;blue&quot;, &quot;iconSize&quot;: [0, 0], &quot;markerColor&quot;: &quot;blue&quot;, &quot;prefix&quot;: &quot;glyphicon&quot;}\n",
       "            );\n",
       "            marker_028afceae1ee47a999197647bd9ef5e7.setIcon(icon_4bca3d8f92786e105efc9a25d62e9c78);\n",
       "        \n",
       "    \n",
       "            marker_028afceae1ee47a999197647bd9ef5e7.bindTooltip(\n",
       "                `&lt;div&gt;\n",
       "                     East End-Danforth: 2687 offenses\n",
       "                 &lt;/div&gt;`,\n",
       "                {&quot;sticky&quot;: true}\n",
       "            );\n",
       "        \n",
       "    \n",
       "            var marker_a4cc7af05f9584b421ded57f7030c4c8 = L.marker(\n",
       "                [43.6108434581981, -79.4961506537563],\n",
       "                {}\n",
       "            ).addTo(map_e91bd545db44f41ee86b7408b90ffebc);\n",
       "        \n",
       "    \n",
       "            var icon_6ec69e2bf9fca7d69d66bfc4f102e05c = L.AwesomeMarkers.icon(\n",
       "                {&quot;extraClasses&quot;: &quot;fa-rotate-0&quot;, &quot;icon&quot;: &quot;star&quot;, &quot;iconColor&quot;: &quot;blue&quot;, &quot;iconSize&quot;: [0, 0], &quot;markerColor&quot;: &quot;blue&quot;, &quot;prefix&quot;: &quot;glyphicon&quot;}\n",
       "            );\n",
       "            marker_a4cc7af05f9584b421ded57f7030c4c8.setIcon(icon_6ec69e2bf9fca7d69d66bfc4f102e05c);\n",
       "        \n",
       "    \n",
       "            marker_a4cc7af05f9584b421ded57f7030c4c8.bindTooltip(\n",
       "                `&lt;div&gt;\n",
       "                     Mimico-Queensway: 2683 offenses\n",
       "                 &lt;/div&gt;`,\n",
       "                {&quot;sticky&quot;: true}\n",
       "            );\n",
       "        \n",
       "    \n",
       "            var marker_17182d05609af8af1db74d97aac71a87 = L.marker(\n",
       "                [43.7686471366221, -79.2147160171947],\n",
       "                {}\n",
       "            ).addTo(map_e91bd545db44f41ee86b7408b90ffebc);\n",
       "        \n",
       "    \n",
       "            var icon_a2bebec8c33fae7482560e6273b06552 = L.AwesomeMarkers.icon(\n",
       "                {&quot;extraClasses&quot;: &quot;fa-rotate-0&quot;, &quot;icon&quot;: &quot;star&quot;, &quot;iconColor&quot;: &quot;blue&quot;, &quot;iconSize&quot;: [0, 0], &quot;markerColor&quot;: &quot;blue&quot;, &quot;prefix&quot;: &quot;glyphicon&quot;}\n",
       "            );\n",
       "            marker_17182d05609af8af1db74d97aac71a87.setIcon(icon_a2bebec8c33fae7482560e6273b06552);\n",
       "        \n",
       "    \n",
       "            marker_17182d05609af8af1db74d97aac71a87.bindTooltip(\n",
       "                `&lt;div&gt;\n",
       "                     Golfdale-Cedarbrae-Woburn: 2646 offenses\n",
       "                 &lt;/div&gt;`,\n",
       "                {&quot;sticky&quot;: true}\n",
       "            );\n",
       "        \n",
       "    \n",
       "            var marker_e6bdca4ed4b44848fe972de4da1d6e50 = L.marker(\n",
       "                [43.6664227324718, -79.3764972556894],\n",
       "                {}\n",
       "            ).addTo(map_e91bd545db44f41ee86b7408b90ffebc);\n",
       "        \n",
       "    \n",
       "            var icon_275db7b7c3f257ca8d2aca47a8d4e0a8 = L.AwesomeMarkers.icon(\n",
       "                {&quot;extraClasses&quot;: &quot;fa-rotate-0&quot;, &quot;icon&quot;: &quot;star&quot;, &quot;iconColor&quot;: &quot;blue&quot;, &quot;iconSize&quot;: [0, 0], &quot;markerColor&quot;: &quot;blue&quot;, &quot;prefix&quot;: &quot;glyphicon&quot;}\n",
       "            );\n",
       "            marker_e6bdca4ed4b44848fe972de4da1d6e50.setIcon(icon_275db7b7c3f257ca8d2aca47a8d4e0a8);\n",
       "        \n",
       "    \n",
       "            marker_e6bdca4ed4b44848fe972de4da1d6e50.bindTooltip(\n",
       "                `&lt;div&gt;\n",
       "                     North St.James Town: 2548 offenses\n",
       "                 &lt;/div&gt;`,\n",
       "                {&quot;sticky&quot;: true}\n",
       "            );\n",
       "        \n",
       "    \n",
       "            var marker_2f7ab919f336afc6fa692d249418a7da = L.marker(\n",
       "                [43.7577156731574, -79.2352639027484],\n",
       "                {}\n",
       "            ).addTo(map_e91bd545db44f41ee86b7408b90ffebc);\n",
       "        \n",
       "    \n",
       "            var icon_4d7991e3c6b74ea6982efb1240ce7f94 = L.AwesomeMarkers.icon(\n",
       "                {&quot;extraClasses&quot;: &quot;fa-rotate-0&quot;, &quot;icon&quot;: &quot;star&quot;, &quot;iconColor&quot;: &quot;blue&quot;, &quot;iconSize&quot;: [0, 0], &quot;markerColor&quot;: &quot;blue&quot;, &quot;prefix&quot;: &quot;glyphicon&quot;}\n",
       "            );\n",
       "            marker_2f7ab919f336afc6fa692d249418a7da.setIcon(icon_4d7991e3c6b74ea6982efb1240ce7f94);\n",
       "        \n",
       "    \n",
       "            marker_2f7ab919f336afc6fa692d249418a7da.bindTooltip(\n",
       "                `&lt;div&gt;\n",
       "                     Woburn North: 2544 offenses\n",
       "                 &lt;/div&gt;`,\n",
       "                {&quot;sticky&quot;: true}\n",
       "            );\n",
       "        \n",
       "    \n",
       "            var marker_15ac94ecad0932868ce46bfa2173fbb5 = L.marker(\n",
       "                [43.7923239909928, -79.421673390898],\n",
       "                {}\n",
       "            ).addTo(map_e91bd545db44f41ee86b7408b90ffebc);\n",
       "        \n",
       "    \n",
       "            var icon_27746c9b9801cf898aa5ff8a2b80a364 = L.AwesomeMarkers.icon(\n",
       "                {&quot;extraClasses&quot;: &quot;fa-rotate-0&quot;, &quot;icon&quot;: &quot;star&quot;, &quot;iconColor&quot;: &quot;blue&quot;, &quot;iconSize&quot;: [0, 0], &quot;markerColor&quot;: &quot;blue&quot;, &quot;prefix&quot;: &quot;glyphicon&quot;}\n",
       "            );\n",
       "            marker_15ac94ecad0932868ce46bfa2173fbb5.setIcon(icon_27746c9b9801cf898aa5ff8a2b80a364);\n",
       "        \n",
       "    \n",
       "            marker_15ac94ecad0932868ce46bfa2173fbb5.bindTooltip(\n",
       "                `&lt;div&gt;\n",
       "                     Newtonbrook West: 2521 offenses\n",
       "                 &lt;/div&gt;`,\n",
       "                {&quot;sticky&quot;: true}\n",
       "            );\n",
       "        \n",
       "    \n",
       "            var marker_6e3e06216f0ca7e3399a110c72c1cee4 = L.marker(\n",
       "                [43.6408938613216, -79.3960209709451],\n",
       "                {}\n",
       "            ).addTo(map_e91bd545db44f41ee86b7408b90ffebc);\n",
       "        \n",
       "    \n",
       "            var icon_64a91b0814c169f4a743ebdc5d3ff581 = L.AwesomeMarkers.icon(\n",
       "                {&quot;extraClasses&quot;: &quot;fa-rotate-0&quot;, &quot;icon&quot;: &quot;star&quot;, &quot;iconColor&quot;: &quot;blue&quot;, &quot;iconSize&quot;: [0, 0], &quot;markerColor&quot;: &quot;blue&quot;, &quot;prefix&quot;: &quot;glyphicon&quot;}\n",
       "            );\n",
       "            marker_6e3e06216f0ca7e3399a110c72c1cee4.setIcon(icon_64a91b0814c169f4a743ebdc5d3ff581);\n",
       "        \n",
       "    \n",
       "            marker_6e3e06216f0ca7e3399a110c72c1cee4.bindTooltip(\n",
       "                `&lt;div&gt;\n",
       "                     Harbourfront-CityPlace: 2519 offenses\n",
       "                 &lt;/div&gt;`,\n",
       "                {&quot;sticky&quot;: true}\n",
       "            );\n",
       "        \n",
       "    \n",
       "            var marker_96ac74d6e4e1a93c96d442294212709a = L.marker(\n",
       "                [43.7561166424052, -79.5640697621244],\n",
       "                {}\n",
       "            ).addTo(map_e91bd545db44f41ee86b7408b90ffebc);\n",
       "        \n",
       "    \n",
       "            var icon_af7bd016a9d4412ad947514e1aaec08d = L.AwesomeMarkers.icon(\n",
       "                {&quot;extraClasses&quot;: &quot;fa-rotate-0&quot;, &quot;icon&quot;: &quot;star&quot;, &quot;iconColor&quot;: &quot;blue&quot;, &quot;iconSize&quot;: [0, 0], &quot;markerColor&quot;: &quot;blue&quot;, &quot;prefix&quot;: &quot;glyphicon&quot;}\n",
       "            );\n",
       "            marker_96ac74d6e4e1a93c96d442294212709a.setIcon(icon_af7bd016a9d4412ad947514e1aaec08d);\n",
       "        \n",
       "    \n",
       "            marker_96ac74d6e4e1a93c96d442294212709a.bindTooltip(\n",
       "                `&lt;div&gt;\n",
       "                     Humber Summit: 2491 offenses\n",
       "                 &lt;/div&gt;`,\n",
       "                {&quot;sticky&quot;: true}\n",
       "            );\n",
       "        \n",
       "    \n",
       "            var marker_4d0ca60ba3d9acca2772f7850ecf959a = L.marker(\n",
       "                [43.7405839694138, -79.2392943281095],\n",
       "                {}\n",
       "            ).addTo(map_e91bd545db44f41ee86b7408b90ffebc);\n",
       "        \n",
       "    \n",
       "            var icon_ef13798ff7d01b26ca524f9a720229ec = L.AwesomeMarkers.icon(\n",
       "                {&quot;extraClasses&quot;: &quot;fa-rotate-0&quot;, &quot;icon&quot;: &quot;star&quot;, &quot;iconColor&quot;: &quot;blue&quot;, &quot;iconSize&quot;: [0, 0], &quot;markerColor&quot;: &quot;blue&quot;, &quot;prefix&quot;: &quot;glyphicon&quot;}\n",
       "            );\n",
       "            marker_4d0ca60ba3d9acca2772f7850ecf959a.setIcon(icon_ef13798ff7d01b26ca524f9a720229ec);\n",
       "        \n",
       "    \n",
       "            marker_4d0ca60ba3d9acca2772f7850ecf959a.bindTooltip(\n",
       "                `&lt;div&gt;\n",
       "                     Eglinton East: 2445 offenses\n",
       "                 &lt;/div&gt;`,\n",
       "                {&quot;sticky&quot;: true}\n",
       "            );\n",
       "        \n",
       "    \n",
       "            var marker_f6a1c15e0bbd7b895e623320cc163154 = L.marker(\n",
       "                [43.6663813712654, -79.452147325681],\n",
       "                {}\n",
       "            ).addTo(map_e91bd545db44f41ee86b7408b90ffebc);\n",
       "        \n",
       "    \n",
       "            var icon_5009213f79ec2e92e525a96e18a8c261 = L.AwesomeMarkers.icon(\n",
       "                {&quot;extraClasses&quot;: &quot;fa-rotate-0&quot;, &quot;icon&quot;: &quot;star&quot;, &quot;iconColor&quot;: &quot;blue&quot;, &quot;iconSize&quot;: [0, 0], &quot;markerColor&quot;: &quot;blue&quot;, &quot;prefix&quot;: &quot;glyphicon&quot;}\n",
       "            );\n",
       "            marker_f6a1c15e0bbd7b895e623320cc163154.setIcon(icon_5009213f79ec2e92e525a96e18a8c261);\n",
       "        \n",
       "    \n",
       "            marker_f6a1c15e0bbd7b895e623320cc163154.bindTooltip(\n",
       "                `&lt;div&gt;\n",
       "                     Junction-Wallace Emerson: 2410 offenses\n",
       "                 &lt;/div&gt;`,\n",
       "                {&quot;sticky&quot;: true}\n",
       "            );\n",
       "        \n",
       "    \n",
       "            var marker_c5ff5cb971843a7f16a959b4d004ff7d = L.marker(\n",
       "                [43.7784380272832, -79.2591698455305],\n",
       "                {}\n",
       "            ).addTo(map_e91bd545db44f41ee86b7408b90ffebc);\n",
       "        \n",
       "    \n",
       "            var icon_4519118de5e8df259ea7231ebf0e1fbb = L.AwesomeMarkers.icon(\n",
       "                {&quot;extraClasses&quot;: &quot;fa-rotate-0&quot;, &quot;icon&quot;: &quot;star&quot;, &quot;iconColor&quot;: &quot;blue&quot;, &quot;iconSize&quot;: [0, 0], &quot;markerColor&quot;: &quot;blue&quot;, &quot;prefix&quot;: &quot;glyphicon&quot;}\n",
       "            );\n",
       "            marker_c5ff5cb971843a7f16a959b4d004ff7d.setIcon(icon_4519118de5e8df259ea7231ebf0e1fbb);\n",
       "        \n",
       "    \n",
       "            marker_c5ff5cb971843a7f16a959b4d004ff7d.bindTooltip(\n",
       "                `&lt;div&gt;\n",
       "                     Bendale-Glen Andrew: 2363 offenses\n",
       "                 &lt;/div&gt;`,\n",
       "                {&quot;sticky&quot;: true}\n",
       "            );\n",
       "        \n",
       "    \n",
       "            var marker_de6869a823bb5e26d581bbd20ef75785 = L.marker(\n",
       "                [43.7053104940261, -79.2519241820587],\n",
       "                {}\n",
       "            ).addTo(map_e91bd545db44f41ee86b7408b90ffebc);\n",
       "        \n",
       "    \n",
       "            var icon_964e6a6922185c7be4a4e6d9288fb44e = L.AwesomeMarkers.icon(\n",
       "                {&quot;extraClasses&quot;: &quot;fa-rotate-0&quot;, &quot;icon&quot;: &quot;star&quot;, &quot;iconColor&quot;: &quot;blue&quot;, &quot;iconSize&quot;: [0, 0], &quot;markerColor&quot;: &quot;blue&quot;, &quot;prefix&quot;: &quot;glyphicon&quot;}\n",
       "            );\n",
       "            marker_de6869a823bb5e26d581bbd20ef75785.setIcon(icon_964e6a6922185c7be4a4e6d9288fb44e);\n",
       "        \n",
       "    \n",
       "            marker_de6869a823bb5e26d581bbd20ef75785.bindTooltip(\n",
       "                `&lt;div&gt;\n",
       "                     Birchcliffe-Cliffside: 2358 offenses\n",
       "                 &lt;/div&gt;`,\n",
       "                {&quot;sticky&quot;: true}\n",
       "            );\n",
       "        \n",
       "    \n",
       "            var marker_62bd669662ee12e111b44c317da07ba0 = L.marker(\n",
       "                [43.8062426751727, -79.2882388529566],\n",
       "                {}\n",
       "            ).addTo(map_e91bd545db44f41ee86b7408b90ffebc);\n",
       "        \n",
       "    \n",
       "            var icon_812b6715352c74144f650b1157ee7b4f = L.AwesomeMarkers.icon(\n",
       "                {&quot;extraClasses&quot;: &quot;fa-rotate-0&quot;, &quot;icon&quot;: &quot;star&quot;, &quot;iconColor&quot;: &quot;blue&quot;, &quot;iconSize&quot;: [0, 0], &quot;markerColor&quot;: &quot;blue&quot;, &quot;prefix&quot;: &quot;glyphicon&quot;}\n",
       "            );\n",
       "            marker_62bd669662ee12e111b44c317da07ba0.setIcon(icon_812b6715352c74144f650b1157ee7b4f);\n",
       "        \n",
       "    \n",
       "            marker_62bd669662ee12e111b44c317da07ba0.bindTooltip(\n",
       "                `&lt;div&gt;\n",
       "                     Milliken: 2357 offenses\n",
       "                 &lt;/div&gt;`,\n",
       "                {&quot;sticky&quot;: true}\n",
       "            );\n",
       "        \n",
       "    \n",
       "            var marker_64d08267f5caf7371bd0804d9620efa3 = L.marker(\n",
       "                [43.7902175696169, -79.2421668035267],\n",
       "                {}\n",
       "            ).addTo(map_e91bd545db44f41ee86b7408b90ffebc);\n",
       "        \n",
       "    \n",
       "            var icon_169daf812f35571ddc13e9ac511a1fb5 = L.AwesomeMarkers.icon(\n",
       "                {&quot;extraClasses&quot;: &quot;fa-rotate-0&quot;, &quot;icon&quot;: &quot;star&quot;, &quot;iconColor&quot;: &quot;blue&quot;, &quot;iconSize&quot;: [0, 0], &quot;markerColor&quot;: &quot;blue&quot;, &quot;prefix&quot;: &quot;glyphicon&quot;}\n",
       "            );\n",
       "            marker_64d08267f5caf7371bd0804d9620efa3.setIcon(icon_169daf812f35571ddc13e9ac511a1fb5);\n",
       "        \n",
       "    \n",
       "            marker_64d08267f5caf7371bd0804d9620efa3.bindTooltip(\n",
       "                `&lt;div&gt;\n",
       "                     Agincourt South-Malvern West: 2322 offenses\n",
       "                 &lt;/div&gt;`,\n",
       "                {&quot;sticky&quot;: true}\n",
       "            );\n",
       "        \n",
       "    \n",
       "            var marker_b8845a66190da6fa0ca0fb0404050e6f = L.marker(\n",
       "                [43.6922120317669, -79.2838742809775],\n",
       "                {}\n",
       "            ).addTo(map_e91bd545db44f41ee86b7408b90ffebc);\n",
       "        \n",
       "    \n",
       "            var icon_16edb46a756edf62d0e19d60ad1ed106 = L.AwesomeMarkers.icon(\n",
       "                {&quot;extraClasses&quot;: &quot;fa-rotate-0&quot;, &quot;icon&quot;: &quot;star&quot;, &quot;iconColor&quot;: &quot;blue&quot;, &quot;iconSize&quot;: [0, 0], &quot;markerColor&quot;: &quot;blue&quot;, &quot;prefix&quot;: &quot;glyphicon&quot;}\n",
       "            );\n",
       "            marker_b8845a66190da6fa0ca0fb0404050e6f.setIcon(icon_16edb46a756edf62d0e19d60ad1ed106);\n",
       "        \n",
       "    \n",
       "            marker_b8845a66190da6fa0ca0fb0404050e6f.bindTooltip(\n",
       "                `&lt;div&gt;\n",
       "                     Oakridge: 2283 offenses\n",
       "                 &lt;/div&gt;`,\n",
       "                {&quot;sticky&quot;: true}\n",
       "            );\n",
       "        \n",
       "    \n",
       "            var marker_95879ffee37ee90299d2c5da5344a4e5 = L.marker(\n",
       "                [43.6715704969049, -79.3858195829853],\n",
       "                {}\n",
       "            ).addTo(map_e91bd545db44f41ee86b7408b90ffebc);\n",
       "        \n",
       "    \n",
       "            var icon_d636c1fc09be0c76c2f10197b53f95e7 = L.AwesomeMarkers.icon(\n",
       "                {&quot;extraClasses&quot;: &quot;fa-rotate-0&quot;, &quot;icon&quot;: &quot;star&quot;, &quot;iconColor&quot;: &quot;blue&quot;, &quot;iconSize&quot;: [0, 0], &quot;markerColor&quot;: &quot;blue&quot;, &quot;prefix&quot;: &quot;glyphicon&quot;}\n",
       "            );\n",
       "            marker_95879ffee37ee90299d2c5da5344a4e5.setIcon(icon_d636c1fc09be0c76c2f10197b53f95e7);\n",
       "        \n",
       "    \n",
       "            marker_95879ffee37ee90299d2c5da5344a4e5.bindTooltip(\n",
       "                `&lt;div&gt;\n",
       "                     Rosedale-Moore Park: 2277 offenses\n",
       "                 &lt;/div&gt;`,\n",
       "                {&quot;sticky&quot;: true}\n",
       "            );\n",
       "        \n",
       "    \n",
       "            var marker_b230bbb5a5829b2bd5536644a7b6faa5 = L.marker(\n",
       "                [43.6833527454582, -79.4803029396976],\n",
       "                {}\n",
       "            ).addTo(map_e91bd545db44f41ee86b7408b90ffebc);\n",
       "        \n",
       "    \n",
       "            var icon_f96a1633582836c9747018e1c2fb7418 = L.AwesomeMarkers.icon(\n",
       "                {&quot;extraClasses&quot;: &quot;fa-rotate-0&quot;, &quot;icon&quot;: &quot;star&quot;, &quot;iconColor&quot;: &quot;blue&quot;, &quot;iconSize&quot;: [0, 0], &quot;markerColor&quot;: &quot;blue&quot;, &quot;prefix&quot;: &quot;glyphicon&quot;}\n",
       "            );\n",
       "            marker_b230bbb5a5829b2bd5536644a7b6faa5.setIcon(icon_f96a1633582836c9747018e1c2fb7418);\n",
       "        \n",
       "    \n",
       "            marker_b230bbb5a5829b2bd5536644a7b6faa5.bindTooltip(\n",
       "                `&lt;div&gt;\n",
       "                     Rockcliffe-Smythe: 2149 offenses\n",
       "                 &lt;/div&gt;`,\n",
       "                {&quot;sticky&quot;: true}\n",
       "            );\n",
       "        \n",
       "    \n",
       "            var marker_c3bac78aaf88f84e6d42e089a8debce9 = L.marker(\n",
       "                [43.7414107446047, -79.5371501875485],\n",
       "                {}\n",
       "            ).addTo(map_e91bd545db44f41ee86b7408b90ffebc);\n",
       "        \n",
       "    \n",
       "            var icon_932726a4c363bf928d7b348eb91043c7 = L.AwesomeMarkers.icon(\n",
       "                {&quot;extraClasses&quot;: &quot;fa-rotate-0&quot;, &quot;icon&quot;: &quot;star&quot;, &quot;iconColor&quot;: &quot;blue&quot;, &quot;iconSize&quot;: [0, 0], &quot;markerColor&quot;: &quot;blue&quot;, &quot;prefix&quot;: &quot;glyphicon&quot;}\n",
       "            );\n",
       "            marker_c3bac78aaf88f84e6d42e089a8debce9.setIcon(icon_932726a4c363bf928d7b348eb91043c7);\n",
       "        \n",
       "    \n",
       "            marker_c3bac78aaf88f84e6d42e089a8debce9.bindTooltip(\n",
       "                `&lt;div&gt;\n",
       "                     Humbermede: 2142 offenses\n",
       "                 &lt;/div&gt;`,\n",
       "                {&quot;sticky&quot;: true}\n",
       "            );\n",
       "        \n",
       "    \n",
       "            var marker_cd7c2b89c63947a115b7a6eea1c9fcc9 = L.marker(\n",
       "                [43.8038748286286, -79.2168614662887],\n",
       "                {}\n",
       "            ).addTo(map_e91bd545db44f41ee86b7408b90ffebc);\n",
       "        \n",
       "    \n",
       "            var icon_16d57317efcacf6bcc895b31cec646f9 = L.AwesomeMarkers.icon(\n",
       "                {&quot;extraClasses&quot;: &quot;fa-rotate-0&quot;, &quot;icon&quot;: &quot;star&quot;, &quot;iconColor&quot;: &quot;blue&quot;, &quot;iconSize&quot;: [0, 0], &quot;markerColor&quot;: &quot;blue&quot;, &quot;prefix&quot;: &quot;glyphicon&quot;}\n",
       "            );\n",
       "            marker_cd7c2b89c63947a115b7a6eea1c9fcc9.setIcon(icon_16d57317efcacf6bcc895b31cec646f9);\n",
       "        \n",
       "    \n",
       "            marker_cd7c2b89c63947a115b7a6eea1c9fcc9.bindTooltip(\n",
       "                `&lt;div&gt;\n",
       "                     Malvern East: 2083 offenses\n",
       "                 &lt;/div&gt;`,\n",
       "                {&quot;sticky&quot;: true}\n",
       "            );\n",
       "        \n",
       "    \n",
       "            var marker_3cb8f69f682615fd0747785d24e5c4c7 = L.marker(\n",
       "                [43.7343540636839, -79.4839287578705],\n",
       "                {}\n",
       "            ).addTo(map_e91bd545db44f41ee86b7408b90ffebc);\n",
       "        \n",
       "    \n",
       "            var icon_e5bde6b39d4a5ee5dbc23f63ef8abcfd = L.AwesomeMarkers.icon(\n",
       "                {&quot;extraClasses&quot;: &quot;fa-rotate-0&quot;, &quot;icon&quot;: &quot;star&quot;, &quot;iconColor&quot;: &quot;blue&quot;, &quot;iconSize&quot;: [0, 0], &quot;markerColor&quot;: &quot;blue&quot;, &quot;prefix&quot;: &quot;glyphicon&quot;}\n",
       "            );\n",
       "            marker_3cb8f69f682615fd0747785d24e5c4c7.setIcon(icon_e5bde6b39d4a5ee5dbc23f63ef8abcfd);\n",
       "        \n",
       "    \n",
       "            marker_3cb8f69f682615fd0747785d24e5c4c7.bindTooltip(\n",
       "                `&lt;div&gt;\n",
       "                     Downsview: 2049 offenses\n",
       "                 &lt;/div&gt;`,\n",
       "                {&quot;sticky&quot;: true}\n",
       "            );\n",
       "        \n",
       "    \n",
       "            var marker_d54fc3e6ff74692f7d7715eaba44de97 = L.marker(\n",
       "                [43.783889659082, -79.3528803099712],\n",
       "                {}\n",
       "            ).addTo(map_e91bd545db44f41ee86b7408b90ffebc);\n",
       "        \n",
       "    \n",
       "            var icon_607fbfe0cc7cd7fab29274375fa0bea2 = L.AwesomeMarkers.icon(\n",
       "                {&quot;extraClasses&quot;: &quot;fa-rotate-0&quot;, &quot;icon&quot;: &quot;star&quot;, &quot;iconColor&quot;: &quot;blue&quot;, &quot;iconSize&quot;: [0, 0], &quot;markerColor&quot;: &quot;blue&quot;, &quot;prefix&quot;: &quot;glyphicon&quot;}\n",
       "            );\n",
       "            marker_d54fc3e6ff74692f7d7715eaba44de97.setIcon(icon_607fbfe0cc7cd7fab29274375fa0bea2);\n",
       "        \n",
       "    \n",
       "            marker_d54fc3e6ff74692f7d7715eaba44de97.bindTooltip(\n",
       "                `&lt;div&gt;\n",
       "                     Don Valley Village: 2031 offenses\n",
       "                 &lt;/div&gt;`,\n",
       "                {&quot;sticky&quot;: true}\n",
       "            );\n",
       "        \n",
       "    \n",
       "            var marker_8251f72979956dd5f47ba9678d7ea03e = L.marker(\n",
       "                [43.735932947054, -79.2202007722526],\n",
       "                {}\n",
       "            ).addTo(map_e91bd545db44f41ee86b7408b90ffebc);\n",
       "        \n",
       "    \n",
       "            var icon_5567ba460e9f6c6e4eceecee3c1b0ab7 = L.AwesomeMarkers.icon(\n",
       "                {&quot;extraClasses&quot;: &quot;fa-rotate-0&quot;, &quot;icon&quot;: &quot;star&quot;, &quot;iconColor&quot;: &quot;blue&quot;, &quot;iconSize&quot;: [0, 0], &quot;markerColor&quot;: &quot;blue&quot;, &quot;prefix&quot;: &quot;glyphicon&quot;}\n",
       "            );\n",
       "            marker_8251f72979956dd5f47ba9678d7ea03e.setIcon(icon_5567ba460e9f6c6e4eceecee3c1b0ab7);\n",
       "        \n",
       "    \n",
       "            marker_8251f72979956dd5f47ba9678d7ea03e.bindTooltip(\n",
       "                `&lt;div&gt;\n",
       "                     Scarborough Village: 2016 offenses\n",
       "                 &lt;/div&gt;`,\n",
       "                {&quot;sticky&quot;: true}\n",
       "            );\n",
       "        \n",
       "    \n",
       "            var marker_8856171425edeb9d3642b1819174a215 = L.marker(\n",
       "                [43.6547529663966, -79.4165941707377],\n",
       "                {}\n",
       "            ).addTo(map_e91bd545db44f41ee86b7408b90ffebc);\n",
       "        \n",
       "    \n",
       "            var icon_ad84bfeebf899be57ffcfb7533c88988 = L.AwesomeMarkers.icon(\n",
       "                {&quot;extraClasses&quot;: &quot;fa-rotate-0&quot;, &quot;icon&quot;: &quot;star&quot;, &quot;iconColor&quot;: &quot;blue&quot;, &quot;iconSize&quot;: [0, 0], &quot;markerColor&quot;: &quot;blue&quot;, &quot;prefix&quot;: &quot;glyphicon&quot;}\n",
       "            );\n",
       "            marker_8856171425edeb9d3642b1819174a215.setIcon(icon_ad84bfeebf899be57ffcfb7533c88988);\n",
       "        \n",
       "    \n",
       "            marker_8856171425edeb9d3642b1819174a215.bindTooltip(\n",
       "                `&lt;div&gt;\n",
       "                     Trinity-Bellwoods: 2005 offenses\n",
       "                 &lt;/div&gt;`,\n",
       "                {&quot;sticky&quot;: true}\n",
       "            );\n",
       "        \n",
       "    \n",
       "            var marker_850d7dfe6c02d598a4b0e4ba83f9ac91 = L.marker(\n",
       "                [43.7816358001367, -79.3047080763854],\n",
       "                {}\n",
       "            ).addTo(map_e91bd545db44f41ee86b7408b90ffebc);\n",
       "        \n",
       "    \n",
       "            var icon_315a6c4fef924092c22c1a74da7c5ee4 = L.AwesomeMarkers.icon(\n",
       "                {&quot;extraClasses&quot;: &quot;fa-rotate-0&quot;, &quot;icon&quot;: &quot;star&quot;, &quot;iconColor&quot;: &quot;blue&quot;, &quot;iconSize&quot;: [0, 0], &quot;markerColor&quot;: &quot;blue&quot;, &quot;prefix&quot;: &quot;glyphicon&quot;}\n",
       "            );\n",
       "            marker_850d7dfe6c02d598a4b0e4ba83f9ac91.setIcon(icon_315a6c4fef924092c22c1a74da7c5ee4);\n",
       "        \n",
       "    \n",
       "            marker_850d7dfe6c02d598a4b0e4ba83f9ac91.bindTooltip(\n",
       "                `&lt;div&gt;\n",
       "                     Tam O&#x27;Shanter-Sullivan: 1939 offenses\n",
       "                 &lt;/div&gt;`,\n",
       "                {&quot;sticky&quot;: true}\n",
       "            );\n",
       "        \n",
       "    \n",
       "            var marker_b6050741fe73bb71b9e09dabb719e7f0 = L.marker(\n",
       "                [43.6658689384264, -79.3686285708986],\n",
       "                {}\n",
       "            ).addTo(map_e91bd545db44f41ee86b7408b90ffebc);\n",
       "        \n",
       "    \n",
       "            var icon_0862c068eecb6085e1b90e691e6939cd = L.AwesomeMarkers.icon(\n",
       "                {&quot;extraClasses&quot;: &quot;fa-rotate-0&quot;, &quot;icon&quot;: &quot;star&quot;, &quot;iconColor&quot;: &quot;blue&quot;, &quot;iconSize&quot;: [0, 0], &quot;markerColor&quot;: &quot;blue&quot;, &quot;prefix&quot;: &quot;glyphicon&quot;}\n",
       "            );\n",
       "            marker_b6050741fe73bb71b9e09dabb719e7f0.setIcon(icon_0862c068eecb6085e1b90e691e6939cd);\n",
       "        \n",
       "    \n",
       "            marker_b6050741fe73bb71b9e09dabb719e7f0.bindTooltip(\n",
       "                `&lt;div&gt;\n",
       "                     Cabbagetown-South St.James Town: 1937 offenses\n",
       "                 &lt;/div&gt;`,\n",
       "                {&quot;sticky&quot;: true}\n",
       "            );\n",
       "        \n",
       "    \n",
       "            var marker_1fc53fc93372ed92665c0c3a276356eb = L.marker(\n",
       "                [43.6854562669841, -79.4380604399811],\n",
       "                {}\n",
       "            ).addTo(map_e91bd545db44f41ee86b7408b90ffebc);\n",
       "        \n",
       "    \n",
       "            var icon_366a09588031c73eec1cd297b0be026c = L.AwesomeMarkers.icon(\n",
       "                {&quot;extraClasses&quot;: &quot;fa-rotate-0&quot;, &quot;icon&quot;: &quot;star&quot;, &quot;iconColor&quot;: &quot;blue&quot;, &quot;iconSize&quot;: [0, 0], &quot;markerColor&quot;: &quot;blue&quot;, &quot;prefix&quot;: &quot;glyphicon&quot;}\n",
       "            );\n",
       "            marker_1fc53fc93372ed92665c0c3a276356eb.setIcon(icon_366a09588031c73eec1cd297b0be026c);\n",
       "        \n",
       "    \n",
       "            marker_1fc53fc93372ed92665c0c3a276356eb.bindTooltip(\n",
       "                `&lt;div&gt;\n",
       "                     Oakwood Village: 1917 offenses\n",
       "                 &lt;/div&gt;`,\n",
       "                {&quot;sticky&quot;: true}\n",
       "            );\n",
       "        \n",
       "&lt;/script&gt;\n",
       "&lt;/html&gt;\" style=\"position:absolute;width:100%;height:100%;left:0;top:0;border:none !important;\" allowfullscreen webkitallowfullscreen mozallowfullscreen></iframe></div></div>"
      ],
      "text/plain": [
       "<folium.folium.Map at 0x7c3b692ab820>"
      ]
     },
     "execution_count": 31,
     "metadata": {},
     "output_type": "execute_result"
    }
   ],
   "source": [
    "import folium\n",
    "\n",
    "# Create a map centered at a location (e.g., Toronto)\n",
    "m = folium.Map(location=[43.70, -79.40], zoom_start=11)  # Adjust center and zoom as needed\n",
    "\n",
    "# Add a title to the map\n",
    "title = \"<h4 style='text-align:center;'>Area Having High Crime Frequency(Top 50)</h4>\"\n",
    "folium.Marker(\n",
    "    location=[43.71, -79.41],  # Adjust the location for the title as needed\n",
    "    icon=folium.DivIcon(html=title),\n",
    ").add_to(m)\n",
    "\n",
    "# Iterate through the rows of the merged dataframe\n",
    "for index, row in crime_loc_dur.head(50).iterrows():\n",
    "    neighborhood = row['NEIGHBOURHOOD_158']\n",
    "    longitude = row['LONG_WGS84']\n",
    "    latitude = row['LAT_WGS84']\n",
    "    offense_count = row['OFFENCE']\n",
    "\n",
    "    # Customize the marker's transparency and size\n",
    "    marker = folium.Marker(\n",
    "        [latitude, longitude],\n",
    "        tooltip=f'{neighborhood}: {offense_count} offenses',\n",
    "        icon=folium.Icon(\n",
    "            icon='star',  # You can choose a different icon if needed\n",
    "            icon_color='blue',  # Change the marker's color as desired\n",
    "            icon_size=(0, 0)  # Adjust the marker's size as desired\n",
    "#             icon_opacity=0.8  # Adjust opacity (0.0 - 1.0) for transparency\n",
    "        )\n",
    "    )\n",
    "    marker.add_to(m)\n",
    "\n",
    "# Display the map\n",
    "m.save('crime_map.html')\n",
    "m\n"
   ]
  },
  {
   "cell_type": "code",
   "execution_count": null,
   "id": "82233ab0",
   "metadata": {
    "papermill": {
     "duration": 0.020448,
     "end_time": "2023-10-06T13:54:55.694122",
     "exception": false,
     "start_time": "2023-10-06T13:54:55.673674",
     "status": "completed"
    },
    "tags": []
   },
   "outputs": [],
   "source": []
  },
  {
   "cell_type": "code",
   "execution_count": 32,
   "id": "611b7296",
   "metadata": {
    "_kg_hide-input": true,
    "execution": {
     "iopub.execute_input": "2023-10-06T13:54:55.736841Z",
     "iopub.status.busy": "2023-10-06T13:54:55.735849Z",
     "iopub.status.idle": "2023-10-06T13:54:55.872281Z",
     "shell.execute_reply": "2023-10-06T13:54:55.871366Z"
    },
    "papermill": {
     "duration": 0.160011,
     "end_time": "2023-10-06T13:54:55.874295",
     "exception": false,
     "start_time": "2023-10-06T13:54:55.714284",
     "status": "completed"
    },
    "scrolled": true,
    "tags": []
   },
   "outputs": [
    {
     "data": {
      "text/html": [
       "<div style=\"width:100%;\"><div style=\"position:relative;width:100%;height:0;padding-bottom:60%;\"><span style=\"color:#565656\">Make this Notebook Trusted to load map: File -> Trust Notebook</span><iframe srcdoc=\"&lt;!DOCTYPE html&gt;\n",
       "&lt;html&gt;\n",
       "&lt;head&gt;\n",
       "    \n",
       "    &lt;meta http-equiv=&quot;content-type&quot; content=&quot;text/html; charset=UTF-8&quot; /&gt;\n",
       "    \n",
       "        &lt;script&gt;\n",
       "            L_NO_TOUCH = false;\n",
       "            L_DISABLE_3D = false;\n",
       "        &lt;/script&gt;\n",
       "    \n",
       "    &lt;style&gt;html, body {width: 100%;height: 100%;margin: 0;padding: 0;}&lt;/style&gt;\n",
       "    &lt;style&gt;#map {position:absolute;top:0;bottom:0;right:0;left:0;}&lt;/style&gt;\n",
       "    &lt;script src=&quot;https://cdn.jsdelivr.net/npm/leaflet@1.9.3/dist/leaflet.js&quot;&gt;&lt;/script&gt;\n",
       "    &lt;script src=&quot;https://code.jquery.com/jquery-1.12.4.min.js&quot;&gt;&lt;/script&gt;\n",
       "    &lt;script src=&quot;https://cdn.jsdelivr.net/npm/bootstrap@5.2.2/dist/js/bootstrap.bundle.min.js&quot;&gt;&lt;/script&gt;\n",
       "    &lt;script src=&quot;https://cdnjs.cloudflare.com/ajax/libs/Leaflet.awesome-markers/2.0.2/leaflet.awesome-markers.js&quot;&gt;&lt;/script&gt;\n",
       "    &lt;link rel=&quot;stylesheet&quot; href=&quot;https://cdn.jsdelivr.net/npm/leaflet@1.9.3/dist/leaflet.css&quot;/&gt;\n",
       "    &lt;link rel=&quot;stylesheet&quot; href=&quot;https://cdn.jsdelivr.net/npm/bootstrap@5.2.2/dist/css/bootstrap.min.css&quot;/&gt;\n",
       "    &lt;link rel=&quot;stylesheet&quot; href=&quot;https://netdna.bootstrapcdn.com/bootstrap/3.0.0/css/bootstrap.min.css&quot;/&gt;\n",
       "    &lt;link rel=&quot;stylesheet&quot; href=&quot;https://cdn.jsdelivr.net/npm/@fortawesome/fontawesome-free@6.2.0/css/all.min.css&quot;/&gt;\n",
       "    &lt;link rel=&quot;stylesheet&quot; href=&quot;https://cdnjs.cloudflare.com/ajax/libs/Leaflet.awesome-markers/2.0.2/leaflet.awesome-markers.css&quot;/&gt;\n",
       "    &lt;link rel=&quot;stylesheet&quot; href=&quot;https://cdn.jsdelivr.net/gh/python-visualization/folium/folium/templates/leaflet.awesome.rotate.min.css&quot;/&gt;\n",
       "    \n",
       "            &lt;meta name=&quot;viewport&quot; content=&quot;width=device-width,\n",
       "                initial-scale=1.0, maximum-scale=1.0, user-scalable=no&quot; /&gt;\n",
       "            &lt;style&gt;\n",
       "                #map_03ac3ae8f1b0b50af6d784430aaeacc5 {\n",
       "                    position: relative;\n",
       "                    width: 100.0%;\n",
       "                    height: 100.0%;\n",
       "                    left: 0.0%;\n",
       "                    top: 0.0%;\n",
       "                }\n",
       "                .leaflet-container { font-size: 1rem; }\n",
       "            &lt;/style&gt;\n",
       "        \n",
       "    &lt;script src=&quot;https://cdn.jsdelivr.net/gh/python-visualization/folium@main/folium/templates/leaflet_heat.min.js&quot;&gt;&lt;/script&gt;\n",
       "&lt;/head&gt;\n",
       "&lt;body&gt;\n",
       "    \n",
       "    \n",
       "            &lt;div class=&quot;folium-map&quot; id=&quot;map_03ac3ae8f1b0b50af6d784430aaeacc5&quot; &gt;&lt;/div&gt;\n",
       "        \n",
       "&lt;/body&gt;\n",
       "&lt;script&gt;\n",
       "    \n",
       "    \n",
       "            var map_03ac3ae8f1b0b50af6d784430aaeacc5 = L.map(\n",
       "                &quot;map_03ac3ae8f1b0b50af6d784430aaeacc5&quot;,\n",
       "                {\n",
       "                    center: [43.7, -79.4],\n",
       "                    crs: L.CRS.EPSG3857,\n",
       "                    zoom: 11,\n",
       "                    zoomControl: true,\n",
       "                    preferCanvas: false,\n",
       "                }\n",
       "            );\n",
       "\n",
       "            \n",
       "\n",
       "        \n",
       "    \n",
       "            var tile_layer_6caf3a652c6357f8924f5c0ac77026e3 = L.tileLayer(\n",
       "                &quot;https://{s}.tile.openstreetmap.org/{z}/{x}/{y}.png&quot;,\n",
       "                {&quot;attribution&quot;: &quot;Data by \\u0026copy; \\u003ca target=\\&quot;_blank\\&quot; href=\\&quot;http://openstreetmap.org\\&quot;\\u003eOpenStreetMap\\u003c/a\\u003e, under \\u003ca target=\\&quot;_blank\\&quot; href=\\&quot;http://www.openstreetmap.org/copyright\\&quot;\\u003eODbL\\u003c/a\\u003e.&quot;, &quot;detectRetina&quot;: false, &quot;maxNativeZoom&quot;: 18, &quot;maxZoom&quot;: 18, &quot;minZoom&quot;: 0, &quot;noWrap&quot;: false, &quot;opacity&quot;: 1, &quot;subdomains&quot;: &quot;abc&quot;, &quot;tms&quot;: false}\n",
       "            ).addTo(map_03ac3ae8f1b0b50af6d784430aaeacc5);\n",
       "        \n",
       "    \n",
       "            var marker_b855776b779b21b5388d147315d8367d = L.marker(\n",
       "                [43.71, -79.41],\n",
       "                {}\n",
       "            ).addTo(map_03ac3ae8f1b0b50af6d784430aaeacc5);\n",
       "        \n",
       "    \n",
       "            var div_icon_f0e7b0ffb90929e82cbadcb52806f8e5 = L.divIcon({&quot;className&quot;: &quot;empty&quot;, &quot;html&quot;: &quot;\\u003ch4 style=\\u0027text-align:center;\\u0027\\u003eCrime Area Heatmap\\u003c/h4\\u003e&quot;});\n",
       "            marker_b855776b779b21b5388d147315d8367d.setIcon(div_icon_f0e7b0ffb90929e82cbadcb52806f8e5);\n",
       "        \n",
       "    \n",
       "            var heat_map_558b5c8080b9ba84a7e4f300510b04a0 = L.heatLayer(\n",
       "                [[43.7318266241219, -79.6007367875979], [43.6556021041628, -79.3727580813418], [43.656453806685, -79.3803110983711], [43.6581677417367, -79.3864118704696], [43.7603027241335, -79.5033485702814], [43.6466392084374, -79.3918413604065], [43.6547968700057, -79.3942768172954], [43.7613933196769, -79.1740333794421], [43.6711273924786, -79.391279482384], [43.7393831786129, -79.5132172795793], [43.6638977699362, -79.3841540266399], [43.646293183398, -79.3502294146631], [43.7198240863369, -79.5137965538313], [43.7000781869406, -79.2867261150234], [43.6451618181954, -79.3787584263892], [43.7453703486846, -79.2947269257573], [43.7442806139144, -79.5953643923368], [43.6184722332727, -79.5294778490325], [43.6403266371425, -79.4379192288153], [43.7174898288382, -79.4489693200836], [43.7617172871087, -79.5107628502319], [43.7657958510698, -79.2810747937924], [43.7001519748185, -79.5161975699883], [43.7222733612912, -79.262120234735], [43.6883749504072, -79.2950113052799], [43.6108434581981, -79.4961506537563], [43.7686471366221, -79.2147160171947], [43.6664227324718, -79.3764972556894], [43.7577156731574, -79.2352639027484], [43.7923239909928, -79.421673390898], [43.6408938613216, -79.3960209709451], [43.7561166424052, -79.5640697621244], [43.7405839694138, -79.2392943281095], [43.6663813712654, -79.452147325681], [43.7784380272832, -79.2591698455305], [43.7053104940261, -79.2519241820587], [43.8062426751727, -79.2882388529566], [43.7902175696169, -79.2421668035267], [43.6922120317669, -79.2838742809775], [43.6715704969049, -79.3858195829853], [43.6833527454582, -79.4803029396976], [43.7414107446047, -79.5371501875485], [43.8038748286286, -79.2168614662887], [43.7343540636839, -79.4839287578705], [43.783889659082, -79.3528803099712], [43.735932947054, -79.2202007722526], [43.6547529663966, -79.4165941707377], [43.7816358001367, -79.3047080763854], [43.6658689384264, -79.3686285708986], [43.6854562669841, -79.4380604399811], [43.6656387142809, -79.3877203493394], [43.6669078022307, -79.4000796583762], [43.7006587367324, -79.3061479209407], [43.727382847331, -79.4203072612062], [43.6976849646439, -79.475542850531], [43.6944151096083, -79.5579147719833], [43.6253856665293, -79.5090300599006], [43.8067502803802, -79.1805782475726], [43.6445821097821, -79.436198127931], [43.6615309153612, -79.4652204272822], [43.7487448332484, -79.4466835003868], [43.6563629262395, -79.3631572677401], [43.7218470872821, -79.2361887165113], [43.6757066651642, -79.5684304633188], [43.6731808960578, -79.3283343148241], [43.7276620321392, -79.3261053776099], [43.639085876795, -79.415045249912], [43.6785250282926, -79.2978121183419], [43.6516424739065, -79.455424641286], [43.7200365552361, -79.4410435477049], [43.6417633320372, -79.5541933985022], [43.6414309500358, -79.4150152099471], [43.7819182985912, -79.4498904904092], [43.7121949843814, -79.3353727875061], [43.7864287499507, -79.2050710293897], [43.6957105290905, -79.2917065444059], [43.8135550930882, -79.2739359096363], [43.7346523976587, -79.3067569032264], [43.6525851092631, -79.4724697874826], [43.6001783881594, -79.5201958464543], [43.7591177146896, -79.3863211158603], [43.6473413665149, -79.4372760322541], [43.7593590209075, -79.3209206819723], [43.795470736134, -79.4194189746475], [43.7036843035894, -79.3457948187012], [43.6604744507169, -79.430042051283], [43.8055731834618, -79.2209211506047], [43.7716977360472, -79.4145751194734], [43.6635785776359, -79.4184128786274], [43.6862882075436, -79.4862975768582], [43.7594377249385, -79.4203126727792], [43.663020999899, -79.4367003493907], [43.7656223358226, -79.382465953171], [43.6838945805301, -79.323226052453], [43.7135982059922, -79.5336875733845], [43.6963526971823, -79.4473291705217], [43.7972679935024, -79.3255208957474], [43.6773081681163, -79.4555858096613], [43.7003066376343, -79.3869697113281], [43.8012621447981, -79.2965953003418], [43.7767211914666, -79.3965189522003], [43.6685971568409, -79.4587656767558], [43.780412342407, -79.1329188043958], [43.6759633457995, -79.3199645752641], [43.7750060042097, -79.3433565743483], [43.752682164757, -79.4519148785608], [43.6120988783724, -79.4898842967307], [43.6727121796303, -79.4219627747474], [43.6845511908252, -79.4700488947641], [43.7788116343759, -79.4146541019431], [43.7308219564437, -79.2739571645244], [43.589078862724, -79.5349923856238], [43.7308159226579, -79.5746576338615], [43.6576707054736, -79.5676590015878], [43.7054542831786, -79.4000905001626], [43.8131192147503, -79.3267850625565], [43.7096093713811, -79.3906540448196], [43.6747918891569, -79.3575768661203], [43.7919559951776, -79.358071258744], [43.7384477902637, -79.576435524812], [43.6908142095598, -79.3255139812618], [43.7194128966861, -79.4084991205287], [43.7111554689676, -79.3765696607343], [43.6819327062645, -79.3502245404003], [43.6854041273079, -79.4192322433239], [43.7474638256844, -79.2515778153665], [43.718639764874, -79.5529716012804], [43.7885166228235, -79.1751106594194], [43.6834381725182, -79.5168137545439], [43.6789458527888, -79.3448392239802], [43.7112613294418, -79.5005484462525], [43.7274435524122, -79.3861532842174], [43.7412160143768, -79.3285131144394], [43.7095372449887, -79.421275801149], [43.7163679775642, -79.4004392441125], [43.6099263096554, -79.5521446326527], [43.6924552800339, -79.4817741443798], [43.7013108913328, -79.4098585556928], [43.728628469682, -79.4038181010147], [43.6913193437972, -79.454178065035], [43.6783366601098, -79.4151696707657], [43.6384263230055, -79.5609179727129], [43.6512114521573, -79.4778428678498], [43.6860542544787, -79.3566963362926], [43.675635201641, -79.5425145548418], [43.7874267124592, -79.337774537944], [43.6485745679989, -79.5079299993047], [43.7945626919588, -79.369069642808], [43.6920569525492, -79.5200626001647], [43.7603254243225, -79.4093777908254], [43.6940132693795, -79.3483920230392], [43.7778651033198, -79.1467255833283], [43.6339711385121, -79.5769075021983], [43.6908079059621, -79.397908789231], [43.7140892829176, -79.4864516272303], [43.6893124311731, -79.3130803404593], [43.7482749093607, -79.1958254898401], [43.6638838620716, -79.5034838245895]],\n",
       "                {&quot;blur&quot;: 40, &quot;maxZoom&quot;: 18, &quot;minOpacity&quot;: 0.5, &quot;radius&quot;: 25}\n",
       "            ).addTo(map_03ac3ae8f1b0b50af6d784430aaeacc5);\n",
       "        \n",
       "&lt;/script&gt;\n",
       "&lt;/html&gt;\" style=\"position:absolute;width:100%;height:100%;left:0;top:0;border:none !important;\" allowfullscreen webkitallowfullscreen mozallowfullscreen></iframe></div></div>"
      ],
      "text/plain": [
       "<folium.folium.Map at 0x7c3b6c916bf0>"
      ]
     },
     "execution_count": 32,
     "metadata": {},
     "output_type": "execute_result"
    }
   ],
   "source": [
    "import folium\n",
    "from folium import plugins\n",
    "\n",
    "# Create a map centered at a location (e.g., Toronto)\n",
    "m = folium.Map(location=[43.70, -79.40], zoom_start=11)  # Adjust center and zoom as needed\n",
    "\n",
    "# Add a title to the map\n",
    "title = \"<h4 style='text-align:center;'>Crime Area Heatmap</h4>\"\n",
    "folium.Marker(\n",
    "    location=[43.71, -79.41],  # Adjust the location for the title as needed\n",
    "    icon=folium.DivIcon(html=title),\n",
    ").add_to(m)\n",
    "\n",
    "# Create a list of data points for the heatmap\n",
    "heat_data = []\n",
    "for index, row in crime_location.iterrows():\n",
    "    latitude = row['LAT_WGS84']\n",
    "    longitude = row['LONG_WGS84']\n",
    "    heat_data.append([latitude, longitude])\n",
    "\n",
    "# Create a heatmap layer with custom blur radius for transparency control\n",
    "heatmap = plugins.HeatMap(heat_data, blur=40)  # Adjust the blur value as needed\n",
    "\n",
    "# Add the heatmap layer to the map\n",
    "heatmap.add_to(m)\n",
    "\n",
    "# Display the map\n",
    "m.save('crime_heatmap.html')\n",
    "m"
   ]
  },
  {
   "cell_type": "markdown",
   "id": "d48eb01b",
   "metadata": {
    "papermill": {
     "duration": 0.020405,
     "end_time": "2023-10-06T13:54:55.916379",
     "exception": false,
     "start_time": "2023-10-06T13:54:55.895974",
     "status": "completed"
    },
    "tags": []
   },
   "source": [
    "**Top 10 locations where crime per week is Highest**"
   ]
  },
  {
   "cell_type": "code",
   "execution_count": 33,
   "id": "d768269d",
   "metadata": {
    "_kg_hide-input": true,
    "execution": {
     "iopub.execute_input": "2023-10-06T13:54:55.960201Z",
     "iopub.status.busy": "2023-10-06T13:54:55.959391Z",
     "iopub.status.idle": "2023-10-06T13:54:55.971022Z",
     "shell.execute_reply": "2023-10-06T13:54:55.970108Z"
    },
    "papermill": {
     "duration": 0.035466,
     "end_time": "2023-10-06T13:54:55.972828",
     "exception": false,
     "start_time": "2023-10-06T13:54:55.937362",
     "status": "completed"
    },
    "tags": []
   },
   "outputs": [
    {
     "data": {
      "text/html": [
       "<div>\n",
       "<style scoped>\n",
       "    .dataframe tbody tr th:only-of-type {\n",
       "        vertical-align: middle;\n",
       "    }\n",
       "\n",
       "    .dataframe tbody tr th {\n",
       "        vertical-align: top;\n",
       "    }\n",
       "\n",
       "    .dataframe thead th {\n",
       "        text-align: right;\n",
       "    }\n",
       "</style>\n",
       "<table border=\"1\" class=\"dataframe\">\n",
       "  <thead>\n",
       "    <tr style=\"text-align: right;\">\n",
       "      <th></th>\n",
       "      <th>NEIGHBOURHOOD_158</th>\n",
       "      <th>OFFENCE</th>\n",
       "      <th>offence_in_week</th>\n",
       "    </tr>\n",
       "  </thead>\n",
       "  <tbody>\n",
       "    <tr>\n",
       "      <th>0</th>\n",
       "      <td>West Humber-Clairville</td>\n",
       "      <td>8046</td>\n",
       "      <td>17</td>\n",
       "    </tr>\n",
       "    <tr>\n",
       "      <th>1</th>\n",
       "      <td>Moss Park</td>\n",
       "      <td>7328</td>\n",
       "      <td>15</td>\n",
       "    </tr>\n",
       "    <tr>\n",
       "      <th>2</th>\n",
       "      <td>Downtown Yonge East</td>\n",
       "      <td>6259</td>\n",
       "      <td>13</td>\n",
       "    </tr>\n",
       "    <tr>\n",
       "      <th>3</th>\n",
       "      <td>Yonge-Bay Corridor</td>\n",
       "      <td>5835</td>\n",
       "      <td>12</td>\n",
       "    </tr>\n",
       "    <tr>\n",
       "      <th>4</th>\n",
       "      <td>York University Heights</td>\n",
       "      <td>5747</td>\n",
       "      <td>12</td>\n",
       "    </tr>\n",
       "    <tr>\n",
       "      <th>5</th>\n",
       "      <td>Wellington Place</td>\n",
       "      <td>5668</td>\n",
       "      <td>12</td>\n",
       "    </tr>\n",
       "    <tr>\n",
       "      <th>6</th>\n",
       "      <td>Kensington-Chinatown</td>\n",
       "      <td>5337</td>\n",
       "      <td>11</td>\n",
       "    </tr>\n",
       "    <tr>\n",
       "      <th>7</th>\n",
       "      <td>West Hill</td>\n",
       "      <td>4660</td>\n",
       "      <td>9</td>\n",
       "    </tr>\n",
       "    <tr>\n",
       "      <th>8</th>\n",
       "      <td>Annex</td>\n",
       "      <td>4389</td>\n",
       "      <td>9</td>\n",
       "    </tr>\n",
       "    <tr>\n",
       "      <th>9</th>\n",
       "      <td>Glenfield-Jane Heights</td>\n",
       "      <td>4017</td>\n",
       "      <td>8</td>\n",
       "    </tr>\n",
       "    <tr>\n",
       "      <th>10</th>\n",
       "      <td>Church-Wellesley</td>\n",
       "      <td>3974</td>\n",
       "      <td>8</td>\n",
       "    </tr>\n",
       "    <tr>\n",
       "      <th>11</th>\n",
       "      <td>South Riverdale</td>\n",
       "      <td>3810</td>\n",
       "      <td>8</td>\n",
       "    </tr>\n",
       "    <tr>\n",
       "      <th>15</th>\n",
       "      <td>Wexford/Maryvale</td>\n",
       "      <td>3511</td>\n",
       "      <td>7</td>\n",
       "    </tr>\n",
       "    <tr>\n",
       "      <th>16</th>\n",
       "      <td>Mount Olive-Silverstone-Jamestown</td>\n",
       "      <td>3461</td>\n",
       "      <td>7</td>\n",
       "    </tr>\n",
       "    <tr>\n",
       "      <th>14</th>\n",
       "      <td>St Lawrence-East Bayfront-The Islands</td>\n",
       "      <td>3604</td>\n",
       "      <td>7</td>\n",
       "    </tr>\n",
       "    <tr>\n",
       "      <th>13</th>\n",
       "      <td>Clairlea-Birchmount</td>\n",
       "      <td>3642</td>\n",
       "      <td>7</td>\n",
       "    </tr>\n",
       "    <tr>\n",
       "      <th>12</th>\n",
       "      <td>Oakdale-Beverley Heights</td>\n",
       "      <td>3730</td>\n",
       "      <td>7</td>\n",
       "    </tr>\n",
       "    <tr>\n",
       "      <th>17</th>\n",
       "      <td>Etobicoke City Centre</td>\n",
       "      <td>3222</td>\n",
       "      <td>6</td>\n",
       "    </tr>\n",
       "    <tr>\n",
       "      <th>18</th>\n",
       "      <td>South Parkdale</td>\n",
       "      <td>3118</td>\n",
       "      <td>6</td>\n",
       "    </tr>\n",
       "    <tr>\n",
       "      <th>19</th>\n",
       "      <td>Yorkdale-Glen Park</td>\n",
       "      <td>2977</td>\n",
       "      <td>6</td>\n",
       "    </tr>\n",
       "  </tbody>\n",
       "</table>\n",
       "</div>"
      ],
      "text/plain": [
       "                        NEIGHBOURHOOD_158  OFFENCE  offence_in_week\n",
       "0                  West Humber-Clairville     8046               17\n",
       "1                               Moss Park     7328               15\n",
       "2                     Downtown Yonge East     6259               13\n",
       "3                      Yonge-Bay Corridor     5835               12\n",
       "4                 York University Heights     5747               12\n",
       "5                        Wellington Place     5668               12\n",
       "6                    Kensington-Chinatown     5337               11\n",
       "7                               West Hill     4660                9\n",
       "8                                   Annex     4389                9\n",
       "9                  Glenfield-Jane Heights     4017                8\n",
       "10                       Church-Wellesley     3974                8\n",
       "11                        South Riverdale     3810                8\n",
       "15                       Wexford/Maryvale     3511                7\n",
       "16      Mount Olive-Silverstone-Jamestown     3461                7\n",
       "14  St Lawrence-East Bayfront-The Islands     3604                7\n",
       "13                    Clairlea-Birchmount     3642                7\n",
       "12               Oakdale-Beverley Heights     3730                7\n",
       "17                  Etobicoke City Centre     3222                6\n",
       "18                         South Parkdale     3118                6\n",
       "19                     Yorkdale-Glen Park     2977                6"
      ]
     },
     "execution_count": 33,
     "metadata": {},
     "output_type": "execute_result"
    }
   ],
   "source": [
    "# finding top 10 area where number of crime per week is highest\n",
    "crime_loc_dur['offence_in_week'] = crime_loc_dur['OFFENCE'] // crime_loc_dur['duration_weeks']\n",
    "crime_loc_dur[['NEIGHBOURHOOD_158','OFFENCE','offence_in_week']].sort_values('offence_in_week',ascending=False).head(20)"
   ]
  },
  {
   "cell_type": "code",
   "execution_count": 34,
   "id": "2bbcecab",
   "metadata": {
    "_kg_hide-input": true,
    "execution": {
     "iopub.execute_input": "2023-10-06T13:54:56.016406Z",
     "iopub.status.busy": "2023-10-06T13:54:56.015837Z",
     "iopub.status.idle": "2023-10-06T13:54:56.026109Z",
     "shell.execute_reply": "2023-10-06T13:54:56.025214Z"
    },
    "papermill": {
     "duration": 0.033807,
     "end_time": "2023-10-06T13:54:56.027897",
     "exception": false,
     "start_time": "2023-10-06T13:54:55.994090",
     "status": "completed"
    },
    "tags": []
   },
   "outputs": [
    {
     "data": {
      "text/plain": [
       "count    158.000000\n",
       "mean       3.462025\n",
       "std        2.793614\n",
       "min        1.000000\n",
       "25%        2.000000\n",
       "50%        3.000000\n",
       "75%        4.000000\n",
       "max       17.000000\n",
       "Name: offence_in_week, dtype: float64"
      ]
     },
     "execution_count": 34,
     "metadata": {},
     "output_type": "execute_result"
    }
   ],
   "source": [
    "crime_loc_dur.offence_in_week.describe()"
   ]
  },
  {
   "cell_type": "markdown",
   "id": "34292101",
   "metadata": {
    "papermill": {
     "duration": 0.02078,
     "end_time": "2023-10-06T13:54:56.069994",
     "exception": false,
     "start_time": "2023-10-06T13:54:56.049214",
     "status": "completed"
    },
    "tags": []
   },
   "source": [
    "**Key Findings:**\n",
    "\n",
    "1. **Variability in Offenses:**\n",
    "   - Among the examined neighborhoods, there exists a noticeable range in the number of reported offenses per week, with the highest count reaching 17 and the lowest recording just 1. This range highlights differences in crime incidence across neighborhoods.\n",
    "\n",
    "2. **High-Incidence Neighborhoods:**\n",
    "   - Certain neighborhoods, including West Humber-Clairville, Moss Park, Downtown Yonge East, Wellington Place, York University Heights, Yonge-Bay Corridor, and Kensington-Chinatown, consistently exhibit a higher incidence of reported offenses compared to other areas. These neighborhoods are notable for their elevated crime rates.\n",
    "\n",
    "3. **Consistency in Criminal Activity:**\n",
    "   - The majority of neighborhoods consistently report a minimum of three offenses per week, demonstrating a consistent level of criminal activity across most locales. This suggests a stable pattern of offenses in these areas."
   ]
  },
  {
   "cell_type": "markdown",
   "id": "aea1d320",
   "metadata": {
    "papermill": {
     "duration": 0.021045,
     "end_time": "2023-10-06T13:54:56.111722",
     "exception": false,
     "start_time": "2023-10-06T13:54:56.090677",
     "status": "completed"
    },
    "tags": []
   },
   "source": [
    "**Finding the Correlation:**"
   ]
  },
  {
   "cell_type": "code",
   "execution_count": 35,
   "id": "efa187f7",
   "metadata": {
    "_kg_hide-input": true,
    "execution": {
     "iopub.execute_input": "2023-10-06T13:54:56.155352Z",
     "iopub.status.busy": "2023-10-06T13:54:56.154434Z",
     "iopub.status.idle": "2023-10-06T13:54:56.772177Z",
     "shell.execute_reply": "2023-10-06T13:54:56.771324Z"
    },
    "papermill": {
     "duration": 0.642236,
     "end_time": "2023-10-06T13:54:56.774676",
     "exception": false,
     "start_time": "2023-10-06T13:54:56.132440",
     "status": "completed"
    },
    "tags": []
   },
   "outputs": [
    {
     "data": {
      "image/png": "[encoded data removed]",
      "text/plain": [
       "<Figure size 1000x600 with 2 Axes>"
      ]
     },
     "metadata": {},
     "output_type": "display_data"
    }
   ],
   "source": [
    "data['REPORT_DATE'] = pd.to_datetime(data['REPORT_DATE'])\n",
    "\n",
    "# Exclude non-numeric columns from the correlation matrix\n",
    "numeric_data = data.select_dtypes(include=['number'])\n",
    "\n",
    "# Calculate the correlation matrix\n",
    "corr = numeric_data.corr()\n",
    "\n",
    "# Create the heatmap\n",
    "plt.figure(figsize=(10, 6))\n",
    "sns.heatmap(corr, cmap='RdYlGn', annot=True, center=0)\n",
    "plt.title('Correlogram', fontsize=15, color='darkgreen')\n",
    "plt.show()\n"
   ]
  },
  {
   "cell_type": "markdown",
   "id": "2f0b5f3c",
   "metadata": {
    "papermill": {
     "duration": 0.022259,
     "end_time": "2023-10-06T13:54:56.820206",
     "exception": false,
     "start_time": "2023-10-06T13:54:56.797947",
     "status": "completed"
    },
    "tags": []
   },
   "source": [
    "**You can find more about this dataset on the** [Toronto Police Service](https://data.torontopolice.on.ca/datasets/TorontoPS::major-crime-indicators-open-data/about)."
   ]
  },
  {
   "cell_type": "markdown",
   "id": "93e7bc69",
   "metadata": {
    "papermill": {
     "duration": 0.022287,
     "end_time": "2023-10-06T13:54:56.864870",
     "exception": false,
     "start_time": "2023-10-06T13:54:56.842583",
     "status": "completed"
    },
    "tags": []
   },
   "source": [
    "## Summary:"
   ]
  },
  {
   "cell_type": "markdown",
   "id": "ea249254",
   "metadata": {
    "execution": {
     "iopub.execute_input": "2023-10-06T13:46:12.170038Z",
     "iopub.status.busy": "2023-10-06T13:46:12.169318Z",
     "iopub.status.idle": "2023-10-06T13:46:12.178670Z",
     "shell.execute_reply": "2023-10-06T13:46:12.177201Z",
     "shell.execute_reply.started": "2023-10-06T13:46:12.170001Z"
    },
    "papermill": {
     "duration": 0.022001,
     "end_time": "2023-10-06T13:54:56.909074",
     "exception": false,
     "start_time": "2023-10-06T13:54:56.887073",
     "status": "completed"
    },
    "tags": []
   },
   "source": [
    "**Unveiling the Toronto's 158 Neighbourhood Crime Landscape: Insights and Trends**\n",
    "\n",
    "1. **Temporal Insights:**\n",
    "   - Nighttime (9:00 PM - 6:00 AM) emerges as the prime time for criminal incidents, showcasing a consistent trend.\n",
    "   - Weekdays appear to hold no significant sway over crime occurrences, with no distinct day-specific patterns.\n",
    "\n",
    "2. **Seasonal Patterns:**\n",
    "   - Assault stands as the unwavering leader of reported crimes across all seasons, with a slight spike in summer and a dip in winter.\n",
    "   - Robbery and Theft Over maintain a stable presence throughout the year.\n",
    "   - Break and Enter follows Assault closely, except for a notable increase in fall.\n",
    "   - Auto Theft, showing summer enthusiasm, reaches its peak during the fall season.\n",
    "\n",
    "3. **Weekly Insights:**\n",
    "   - Neighborhoods display varying levels of reported offenses, with certain areas consistently reporting higher crime rates.\n",
    "   - Most locales exhibit a consistent minimum of three offenses per week, showcasing steady criminal activity.\n",
    "\n",
    "4. **Long-Term Trends:**\n",
    "   - Assault maintains its dominance as the most frequently reported crime from 2014 to 2022.\n",
    "   - A shift occurs in the second most reported crime, with Auto Theft surpassing Break and Enter in 2021 and 2022.\n",
    "   - Break and Enter's steady increase from 2016 to 2019 shifts to a decline, accompanied by Robbery, while Auto Theft experiences rapid growth."
   ]
  },
  {
   "cell_type": "code",
   "execution_count": null,
   "id": "6b764522",
   "metadata": {
    "papermill": {
     "duration": 0.022666,
     "end_time": "2023-10-06T13:54:56.953893",
     "exception": false,
     "start_time": "2023-10-06T13:54:56.931227",
     "status": "completed"
    },
    "tags": []
   },
   "outputs": [],
   "source": []
  }
 ],
 "metadata": {
  "kernelspec": {
   "display_name": "Python 3",
   "language": "python",
   "name": "python3"
  },
  "language_info": {
   "codemirror_mode": {
    "name": "ipython",
    "version": 3
   },
   "file_extension": ".py",
   "mimetype": "text/x-python",
   "name": "python",
   "nbconvert_exporter": "python",
   "pygments_lexer": "ipython3",
   "version": "3.10.12"
  },
  "papermill": {
   "default_parameters": {},
   "duration": 20.644664,
   "end_time": "2023-10-06T13:54:57.603554",
   "environment_variables": {},
   "exception": null,
   "input_path": "__notebook__.ipynb",
   "output_path": "__notebook__.ipynb",
   "parameters": {},
   "start_time": "2023-10-06T13:54:36.958890",
   "version": "2.4.0"
  }
 },
 "nbformat": 4,
 "nbformat_minor": 5
}
